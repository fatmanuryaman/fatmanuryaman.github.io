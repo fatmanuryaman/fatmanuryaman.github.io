{
 "cells": [
  {
   "cell_type": "markdown",
   "metadata": {
    "id": "HUzFO3Za-AU4"
   },
   "source": [
    "### 1. Download the Data from Kaggle and Unzip\n"
   ]
  },
  {
   "cell_type": "code",
   "execution_count": null,
   "metadata": {
    "id": "_g1YiJKHK5M8"
   },
   "outputs": [],
   "source": [
    "!pip install -q kaggle"
   ]
  },
  {
   "cell_type": "code",
   "execution_count": null,
   "metadata": {
    "colab": {
     "base_uri": "https://localhost:8080/",
     "height": 90
    },
    "id": "YTnECrlJK7UP",
    "outputId": "10dd72c0-a87a-44e2-c50c-c79930dd80b9"
   },
   "outputs": [
    {
     "data": {
      "text/html": [
       "\n",
       "     <input type=\"file\" id=\"files-69931865-160a-4f0a-88e6-6ff6958d55d8\" name=\"files[]\" multiple disabled\n",
       "        style=\"border:none\" />\n",
       "     <output id=\"result-69931865-160a-4f0a-88e6-6ff6958d55d8\">\n",
       "      Upload widget is only available when the cell has been executed in the\n",
       "      current browser session. Please rerun this cell to enable.\n",
       "      </output>\n",
       "      <script>// Copyright 2017 Google LLC\n",
       "//\n",
       "// Licensed under the Apache License, Version 2.0 (the \"License\");\n",
       "// you may not use this file except in compliance with the License.\n",
       "// You may obtain a copy of the License at\n",
       "//\n",
       "//      http://www.apache.org/licenses/LICENSE-2.0\n",
       "//\n",
       "// Unless required by applicable law or agreed to in writing, software\n",
       "// distributed under the License is distributed on an \"AS IS\" BASIS,\n",
       "// WITHOUT WARRANTIES OR CONDITIONS OF ANY KIND, either express or implied.\n",
       "// See the License for the specific language governing permissions and\n",
       "// limitations under the License.\n",
       "\n",
       "/**\n",
       " * @fileoverview Helpers for google.colab Python module.\n",
       " */\n",
       "(function(scope) {\n",
       "function span(text, styleAttributes = {}) {\n",
       "  const element = document.createElement('span');\n",
       "  element.textContent = text;\n",
       "  for (const key of Object.keys(styleAttributes)) {\n",
       "    element.style[key] = styleAttributes[key];\n",
       "  }\n",
       "  return element;\n",
       "}\n",
       "\n",
       "// Max number of bytes which will be uploaded at a time.\n",
       "const MAX_PAYLOAD_SIZE = 100 * 1024;\n",
       "\n",
       "function _uploadFiles(inputId, outputId) {\n",
       "  const steps = uploadFilesStep(inputId, outputId);\n",
       "  const outputElement = document.getElementById(outputId);\n",
       "  // Cache steps on the outputElement to make it available for the next call\n",
       "  // to uploadFilesContinue from Python.\n",
       "  outputElement.steps = steps;\n",
       "\n",
       "  return _uploadFilesContinue(outputId);\n",
       "}\n",
       "\n",
       "// This is roughly an async generator (not supported in the browser yet),\n",
       "// where there are multiple asynchronous steps and the Python side is going\n",
       "// to poll for completion of each step.\n",
       "// This uses a Promise to block the python side on completion of each step,\n",
       "// then passes the result of the previous step as the input to the next step.\n",
       "function _uploadFilesContinue(outputId) {\n",
       "  const outputElement = document.getElementById(outputId);\n",
       "  const steps = outputElement.steps;\n",
       "\n",
       "  const next = steps.next(outputElement.lastPromiseValue);\n",
       "  return Promise.resolve(next.value.promise).then((value) => {\n",
       "    // Cache the last promise value to make it available to the next\n",
       "    // step of the generator.\n",
       "    outputElement.lastPromiseValue = value;\n",
       "    return next.value.response;\n",
       "  });\n",
       "}\n",
       "\n",
       "/**\n",
       " * Generator function which is called between each async step of the upload\n",
       " * process.\n",
       " * @param {string} inputId Element ID of the input file picker element.\n",
       " * @param {string} outputId Element ID of the output display.\n",
       " * @return {!Iterable<!Object>} Iterable of next steps.\n",
       " */\n",
       "function* uploadFilesStep(inputId, outputId) {\n",
       "  const inputElement = document.getElementById(inputId);\n",
       "  inputElement.disabled = false;\n",
       "\n",
       "  const outputElement = document.getElementById(outputId);\n",
       "  outputElement.innerHTML = '';\n",
       "\n",
       "  const pickedPromise = new Promise((resolve) => {\n",
       "    inputElement.addEventListener('change', (e) => {\n",
       "      resolve(e.target.files);\n",
       "    });\n",
       "  });\n",
       "\n",
       "  const cancel = document.createElement('button');\n",
       "  inputElement.parentElement.appendChild(cancel);\n",
       "  cancel.textContent = 'Cancel upload';\n",
       "  const cancelPromise = new Promise((resolve) => {\n",
       "    cancel.onclick = () => {\n",
       "      resolve(null);\n",
       "    };\n",
       "  });\n",
       "\n",
       "  // Wait for the user to pick the files.\n",
       "  const files = yield {\n",
       "    promise: Promise.race([pickedPromise, cancelPromise]),\n",
       "    response: {\n",
       "      action: 'starting',\n",
       "    }\n",
       "  };\n",
       "\n",
       "  cancel.remove();\n",
       "\n",
       "  // Disable the input element since further picks are not allowed.\n",
       "  inputElement.disabled = true;\n",
       "\n",
       "  if (!files) {\n",
       "    return {\n",
       "      response: {\n",
       "        action: 'complete',\n",
       "      }\n",
       "    };\n",
       "  }\n",
       "\n",
       "  for (const file of files) {\n",
       "    const li = document.createElement('li');\n",
       "    li.append(span(file.name, {fontWeight: 'bold'}));\n",
       "    li.append(span(\n",
       "        `(${file.type || 'n/a'}) - ${file.size} bytes, ` +\n",
       "        `last modified: ${\n",
       "            file.lastModifiedDate ? file.lastModifiedDate.toLocaleDateString() :\n",
       "                                    'n/a'} - `));\n",
       "    const percent = span('0% done');\n",
       "    li.appendChild(percent);\n",
       "\n",
       "    outputElement.appendChild(li);\n",
       "\n",
       "    const fileDataPromise = new Promise((resolve) => {\n",
       "      const reader = new FileReader();\n",
       "      reader.onload = (e) => {\n",
       "        resolve(e.target.result);\n",
       "      };\n",
       "      reader.readAsArrayBuffer(file);\n",
       "    });\n",
       "    // Wait for the data to be ready.\n",
       "    let fileData = yield {\n",
       "      promise: fileDataPromise,\n",
       "      response: {\n",
       "        action: 'continue',\n",
       "      }\n",
       "    };\n",
       "\n",
       "    // Use a chunked sending to avoid message size limits. See b/62115660.\n",
       "    let position = 0;\n",
       "    do {\n",
       "      const length = Math.min(fileData.byteLength - position, MAX_PAYLOAD_SIZE);\n",
       "      const chunk = new Uint8Array(fileData, position, length);\n",
       "      position += length;\n",
       "\n",
       "      const base64 = btoa(String.fromCharCode.apply(null, chunk));\n",
       "      yield {\n",
       "        response: {\n",
       "          action: 'append',\n",
       "          file: file.name,\n",
       "          data: base64,\n",
       "        },\n",
       "      };\n",
       "\n",
       "      let percentDone = fileData.byteLength === 0 ?\n",
       "          100 :\n",
       "          Math.round((position / fileData.byteLength) * 100);\n",
       "      percent.textContent = `${percentDone}% done`;\n",
       "\n",
       "    } while (position < fileData.byteLength);\n",
       "  }\n",
       "\n",
       "  // All done.\n",
       "  yield {\n",
       "    response: {\n",
       "      action: 'complete',\n",
       "    }\n",
       "  };\n",
       "}\n",
       "\n",
       "scope.google = scope.google || {};\n",
       "scope.google.colab = scope.google.colab || {};\n",
       "scope.google.colab._files = {\n",
       "  _uploadFiles,\n",
       "  _uploadFilesContinue,\n",
       "};\n",
       "})(self);\n",
       "</script> "
      ],
      "text/plain": [
       "<IPython.core.display.HTML object>"
      ]
     },
     "metadata": {},
     "output_type": "display_data"
    },
    {
     "name": "stdout",
     "output_type": "stream",
     "text": [
      "Saving kaggle.json to kaggle.json\n"
     ]
    },
    {
     "data": {
      "text/plain": [
       "{'kaggle.json': b'{\"username\":\"fatmanuryaman\",\"key\":\"e1244bfe070d16323b3d571469e74df4\"}'}"
      ]
     },
     "execution_count": 2,
     "metadata": {},
     "output_type": "execute_result"
    }
   ],
   "source": [
    "from google.colab import files\n",
    "files.upload()"
   ]
  },
  {
   "cell_type": "code",
   "execution_count": null,
   "metadata": {
    "colab": {
     "base_uri": "https://localhost:8080/"
    },
    "id": "RPS6a8XtLY1t",
    "outputId": "32479213-60de-4d85-9f82-e05c522e38f4"
   },
   "outputs": [
    {
     "name": "stdout",
     "output_type": "stream",
     "text": [
      "Downloading large-covid19-ct-slice-dataset.zip to /content\n",
      " 99% 2.05G/2.06G [00:24<00:00, 145MB/s]\n",
      "100% 2.06G/2.06G [00:24<00:00, 91.4MB/s]\n"
     ]
    }
   ],
   "source": [
    "!mkdir ~/.kaggle\n",
    "!cp kaggle.json ~/.kaggle/\n",
    "!chmod 600 ~/.kaggle/kaggle.json\n",
    "!kaggle datasets download -d 'maedemaftouni/large-covid19-ct-slice-dataset'"
   ]
  },
  {
   "cell_type": "markdown",
   "metadata": {
    "id": "QMKxclhvd9fz"
   },
   "source": [
    "### 2. Splitting"
   ]
  },
  {
   "cell_type": "code",
   "execution_count": null,
   "metadata": {
    "colab": {
     "base_uri": "https://localhost:8080/"
    },
    "id": "a6sKDOT9lO4P",
    "outputId": "c61449da-cca6-4317-9ac5-4bf9ee1ffdaf"
   },
   "outputs": [
    {
     "name": "stdout",
     "output_type": "stream",
     "text": [
      "Normal\n",
      "Number of patient:  604\n",
      "Number of image:  6893\n",
      "\n",
      "Covid\n",
      "Number of patient:  464\n",
      "Number of image:  7593\n",
      "\n",
      "CAP\n",
      "Number of patient:  54\n",
      "Number of image:  2618\n"
     ]
    }
   ],
   "source": [
    "import pandas as pd\n",
    "\n",
    "meta_normal = pd.read_csv(\"/tmp/meta_data_normal.csv\")\n",
    "meta_covid = pd.read_csv(\"/tmp/meta_data_covid.csv\", encoding='windows-1252')\n",
    "meta_cap = pd.read_csv(\"/tmp/meta_data_cap.csv\")\n",
    "\n",
    "# Define the variables below using meta dataframes\n",
    "\n",
    "normal_pt_nb = len(pd.unique(meta_normal[\"Patient ID\"])) ##### INSERT YOUR CODE HERE ##### # Number of patients in normal group\n",
    "covid_pt_nb = len(pd.unique(meta_covid[\"Patient ID\"])) ##### INSERT YOUR CODE HERE ##### # Number of patients in covid group\n",
    "cap_pt_nb = len(pd.unique(meta_cap[\"Patient ID\"])) ##### INSERT YOUR CODE HERE ##### # Number of patients in CAP group\n",
    "\n",
    "normal_img_nb = len(meta_normal) ##### INSERT YOUR CODE HERE ##### # Number of images in normal group\n",
    "covid_img_nb = len(meta_covid) ##### INSERT YOUR CODE HERE ##### # Number of images in covid group\n",
    "cap_img_nb = len(meta_cap) ##### INSERT YOUR CODE HERE ##### # Number of images in CAP group\n",
    "\n",
    "print(\"Normal\")\n",
    "print(\"Number of patient: \", normal_pt_nb)\n",
    "print(\"Number of image: \", normal_img_nb)\n",
    "\n",
    "print(\"\\nCovid\")\n",
    "print(\"Number of patient: \", covid_pt_nb)\n",
    "print(\"Number of image: \", covid_img_nb)\n",
    "\n",
    "print(\"\\nCAP\")\n",
    "print(\"Number of patient: \", cap_pt_nb)\n",
    "print(\"Number of image: \", cap_img_nb)\n"
   ]
  },
  {
   "cell_type": "code",
   "execution_count": null,
   "metadata": {
    "colab": {
     "base_uri": "https://localhost:8080/"
    },
    "id": "CBbpEW_6qVHJ",
    "outputId": "d598c18c-def7-4284-8460-434d8ef95bb9"
   },
   "outputs": [
    {
     "name": "stdout",
     "output_type": "stream",
     "text": [
      "Slice-based val size: \n",
      "Normal:  0.21\n",
      "Covid:  0.18\n",
      "\n",
      "Slice-based test size: \n",
      "Normal:  0.51\n",
      "Covid:  0.5\n"
     ]
    }
   ],
   "source": [
    "\n",
    "import numpy as np\n",
    "\n",
    "# Set seed to get the same result (I specifically chose this seed after a couple of tries so that we'll have approximately same split ratios on slice level as well)\n",
    "np.random.seed(58)\n",
    "val_split_size = .2\n",
    "test_split_size = .5\n",
    "\n",
    "normal_val_file_list, normal_test_file_list = [], []\n",
    "covid_val_file_list, covid_test_file_list = [], []\n",
    "##### START OF YOUR CODE #####\n",
    "normal_pt_list = np.array(pd.unique(meta_normal[\"Patient ID\"]))\n",
    "np.random.shuffle(normal_pt_list)\n",
    "normal_val_pts = normal_pt_list[:int(normal_pt_nb * val_split_size)]\n",
    "normal_test_pts = normal_pt_list[int(normal_pt_nb * val_split_size): int(normal_pt_nb * (val_split_size+test_split_size))]\n",
    "\n",
    "normal_val_file_list = []\n",
    "for pt in normal_val_pts:\n",
    "  for i in meta_normal[\"File name\"][meta_normal[\"Patient ID\"] == pt].values:\n",
    "    normal_val_file_list.append(i)\n",
    "\n",
    "normal_test_file_list = []\n",
    "for pt in normal_test_pts:\n",
    "  for i in meta_normal[\"File name\"][meta_normal[\"Patient ID\"] == pt].values:\n",
    "    normal_test_file_list.append(i)\n",
    "\n",
    "covid_pt_list = np.array(pd.unique(meta_covid[\"Patient ID\"]))\n",
    "np.random.shuffle(covid_pt_list)\n",
    "covid_val_pts = covid_pt_list[:int(covid_pt_nb * val_split_size)]\n",
    "covid_test_pts = covid_pt_list[int(covid_pt_nb * val_split_size): int(covid_pt_nb * (val_split_size+test_split_size))]\n",
    "\n",
    "covid_val_file_list = []\n",
    "for pt in covid_val_pts:\n",
    "  for i in meta_covid[\"File name\"][meta_covid[\"Patient ID\"] == pt].values:\n",
    "    covid_val_file_list.append(i)\n",
    "\n",
    "covid_test_file_list = []\n",
    "for pt in covid_test_pts:\n",
    "  for i in meta_covid[\"File name\"][meta_covid[\"Patient ID\"] == pt].values:\n",
    "    covid_test_file_list.append(i)\n",
    "##### END OF YOUR CODE #####\n",
    "\n",
    "print(\"Slice-based val size: \")\n",
    "print(\"Normal: \", round(len(normal_val_file_list)/normal_img_nb, 2))\n",
    "print(\"Covid: \", round(len(covid_val_file_list)/covid_img_nb, 2))\n",
    "\n",
    "print(\"\\nSlice-based test size: \")\n",
    "print(\"Normal: \", round(len(normal_test_file_list)/normal_img_nb, 2))\n",
    "print(\"Covid: \", round(len(covid_test_file_list)/covid_img_nb, 2))"
   ]
  },
  {
   "cell_type": "code",
   "execution_count": null,
   "metadata": {
    "id": "HwvLfZkS340C"
   },
   "outputs": [],
   "source": [
    "import os\n",
    "\n",
    "##### START OF YOUR CODE #####\n",
    "# Create train and test directories and move the files accordingly\n",
    "[os.makedirs(\"/tmp/curated_data/data/\"+x+y, exist_ok=True) for x in [\"train/\", \"val/\", \"test/\"] for y in [\"normal/\", \"covid/\"]]\n",
    "\n",
    "# Normal group\n",
    "for pt in os.listdir(\"/tmp/curated_data/curated_data/1NonCOVID/\"):\n",
    "  # validation\n",
    "  if pt in normal_val_file_list:\n",
    "    shutil.move(\"/tmp/curated_data/curated_data/1NonCOVID/\"+pt, \"/tmp/curated_data/data/val/normal/\")\n",
    "  # test\n",
    "  elif pt in normal_test_file_list:\n",
    "    shutil.move(\"/tmp/curated_data/curated_data/1NonCOVID/\"+pt, \"/tmp/curated_data/data/test/normal/\")\n",
    "  # train\n",
    "  else:\n",
    "    shutil.move(\"/tmp/curated_data/curated_data/1NonCOVID/\"+pt, \"/tmp/curated_data/data/train/normal/\")\n",
    "\n",
    "# Covid group\n",
    "for pt in os.listdir(\"/tmp/curated_data/curated_data/2COVID/\"):\n",
    "  # validation\n",
    "  if pt in covid_val_file_list:\n",
    "    shutil.move(\"/tmp/curated_data/curated_data/2COVID/\"+pt, \"/tmp/curated_data/data/val/covid/\")\n",
    "  # test\n",
    "  elif pt in covid_test_file_list:\n",
    "    shutil.move(\"/tmp/curated_data/curated_data/2COVID/\"+pt, \"/tmp/curated_data/data/test/covid/\")\n",
    "  # train\n",
    "  else:\n",
    "    shutil.move(\"/tmp/curated_data/curated_data/2COVID/\"+pt, \"/tmp/curated_data/data/train/covid/\")\n",
    "\n",
    "##### END OF YOUR CODE #####\n",
    "\n",
    "data_counts = {x+y: len(os.listdir(\"/tmp/curated_data/data/\"+x+y)) for x in [\"train/\", \"val/\", \"test/\"] for y in [\"normal/\", \"covid/\"]}\n",
    "for i in [\"train\", \"val\", \"test\"]:\n",
    "  print(\"\\nPercentage of {} set: {:.2f}\" .format(i, (data_counts[i+\"/normal/\"]+data_counts[i+\"/covid/\"])/sum(data_counts.values())))\n",
    "  print(\"Percentage of Covid + slices in {} set is: {:.2f}\" .format(i, data_counts[i+\"/covid/\"]/(data_counts[i+\"/normal/\"]+data_counts[i+\"/covid/\"])))"
   ]
  },
  {
   "cell_type": "markdown",
   "metadata": {
    "id": "j1LyhJcvl70h"
   },
   "source": [
    "### 3. Dataloader"
   ]
  },
  {
   "cell_type": "code",
   "execution_count": null,
   "metadata": {
    "id": "jtsYoaUfAN3i"
   },
   "outputs": [],
   "source": [
    "!pip install -q torchio"
   ]
  },
  {
   "cell_type": "code",
   "execution_count": null,
   "metadata": {
    "id": "HT7wX3DxgxP-"
   },
   "outputs": [],
   "source": [
    "import os\n",
    "import numpy as np\n",
    "import torch\n",
    "from PIL import Image\n",
    "import torchio as tio\n",
    "import torchvision.transforms as T\n",
    "\n",
    "\n",
    "class CustomDataset(torch.utils.data.Dataset):\n",
    "  def __init__(self, image_size, data_folder, partition):\n",
    "    ##### START OF YOUR CODE #####\n",
    "    self.image_size = image_size\n",
    "    self.partition = partition\n",
    "    self.data_folder = data_folder\n",
    "    self.paths = self.img_paths()\n",
    "\n",
    "    ##### END OF YOUR CODE #####\n",
    "  def __len__(self):\n",
    "    ##### START OF YOUR CODE #####\n",
    "    return len(self.paths)\n",
    "    ##### END OF YOUR CODE #####\n",
    "\n",
    "  def __getitem__(self, idx):\n",
    "    ##### START OF YOUR CODE #####\n",
    "      img = self.read_and_resize_img(self.paths[idx])\n",
    "      label = int(self.paths[idx].rsplit(\"/\", 2)[1] == \"covid\")\n",
    "      label = np.array(label)[np.newaxis]\n",
    "\n",
    "      if self.partition == \"train\":\n",
    "        img = self.augmentation(img)\n",
    "      return (img, label)\n",
    "    ##### END OF YOUR CODE #####\n",
    "\n",
    "  def img_paths(self):\n",
    "    ##### START OF YOUR CODE #####\n",
    "    normal_paths = [os.path.join(self.data_folder, self.partition, \"normal\", i) for i in os.listdir(os.path.join(self.data_folder, self.partition, \"normal\"))]\n",
    "    covid_paths = [os.path.join(self.data_folder, self.partition, \"covid\", i) for i in os.listdir(os.path.join(self.data_folder, self.partition, \"covid\"))]\n",
    "    paths = normal_paths + covid_paths\n",
    "    np.random.shuffle(paths)\n",
    "    return paths\n",
    "    ##### END OF YOUR CODE #####\n",
    "\n",
    "  def read_and_resize_img(self, path):\n",
    "    ##### START OF YOUR CODE #####\n",
    "    img = Image.open(path).convert('L')\n",
    "    img = np.array(img)[np.newaxis]/255.\n",
    "\n",
    "    if (self.image_size, self.image_size) != img.shape[1:]:\n",
    "      resizing = T.Resize((self.image_size, self.image_size), antialias=False)\n",
    "      resized_img = resizing(torch.Tensor(img))\n",
    "      return resized_img\n",
    "    return torch.Tensor(img)\n",
    "    ##### END OF YOUR CODE #####\n",
    "\n",
    "  def augmentation(self, data):\n",
    "    ##### START OF YOUR CODE #####\n",
    "    transform = tio.transforms.OneOf({\n",
    "        tio.transforms.OneOf({\n",
    "            tio.transforms.RandomNoise(): .25,\n",
    "            tio.transforms.RandomBiasField(): .25,\n",
    "            tio.transforms.RandomGhosting(): .25,\n",
    "            tio.transforms.RandomSpike(): .25,\n",
    "            tio.transforms.RandomAffine(degrees=10, scales=0., translation=0.): .25\n",
    "        }): .8\n",
    "    })\n",
    "    aug_data = torch.squeeze(transform(torch.unsqueeze(data, -1)), -1)\n",
    "    return aug_data\n",
    "    ##### END OF YOUR CODE #####\n"
   ]
  },
  {
   "cell_type": "markdown",
   "metadata": {
    "id": "wEN_w6q3tbZM"
   },
   "source": [
    "### 4. ResNet-18"
   ]
  },
  {
   "cell_type": "code",
   "execution_count": null,
   "metadata": {
    "id": "w4zlwn3H8ZUR"
   },
   "outputs": [],
   "source": [
    "import torch\n",
    "from torch import nn\n",
    "from torch.nn import functional as F\n",
    "\n",
    "\n",
    "class ConvBlock(nn.Module):\n",
    "    def __init__(self, ch_in, ch_out, s, act):\n",
    "      super(ConvBlock,self).__init__()\n",
    "      # Initialize layers\n",
    "      ##### START OF YOUR CODE #####\n",
    "      if act == \"relu\":\n",
    "          self.act_layer = nn.ReLU()\n",
    "      elif act == \"leaky_relu\":\n",
    "          self.act_layer = nn.LeakyReLU()\n",
    "      elif act == \"gelu\":\n",
    "          self.act_layer = nn.GELU()\n",
    "\n",
    "      self.conv1 = nn.Conv2d(ch_in, ch_in, kernel_size=3, stride=s, padding=1)\n",
    "      self.bn1 = nn.BatchNorm2d(ch_in)\n",
    "      self.conv2 = nn.Conv2d(ch_in, ch_out, kernel_size=3, stride=1, padding=1)\n",
    "      self.bn2 = nn.BatchNorm2d(ch_out)\n",
    "\n",
    "      self.conv_sc = nn.Conv2d(ch_in, ch_out, kernel_size=1, stride=s)\n",
    "      self.bn_sc = nn.BatchNorm2d(ch_out)\n",
    "      ##### END OF YOUR CODE #####\n",
    "\n",
    "    def forward(self, X):\n",
    "      ##### START OF YOUR CODE #####\n",
    "      X_shortcut = X\n",
    "      X = self.bn1(self.conv1(X))\n",
    "      X = self.act_layer(X)\n",
    "      X = self.bn2(self.conv2(X))\n",
    "\n",
    "      X_shortcut = self.bn_sc(self.conv_sc(X_shortcut))\n",
    "      X = self.act_layer(X + X_shortcut)\n",
    "      ##### END OF YOUR CODE #####\n",
    "      return X\n",
    "\n",
    "\n",
    "class ResNet18(nn.Module):\n",
    "    def __init__(self, act, drop_rate,image_size):\n",
    "      super(ResNet18, self).__init__()\n",
    "      # Initialize layers\n",
    "      ##### START OF YOUR CODE #####\n",
    "      if act == \"relu\":\n",
    "          self.act_layer = nn.ReLU()\n",
    "      elif act == \"leaky_relu\":\n",
    "          self.act_layer = nn.LeakyReLU()\n",
    "      elif act == \"gelu\":\n",
    "          self.act_layer = nn.GELU()\n",
    "\n",
    "      self.image_size = image_size\n",
    "\n",
    "      self.conv1 = nn.Conv2d(1, 64, kernel_size=7, stride=2, padding=3) # 64 x N/2 x N/2\n",
    "      self.bn1 = nn.BatchNorm2d(64)\n",
    "\n",
    "      self.mp = nn.MaxPool2d((3, 3), stride=2, padding=1) # 64 x N/4 x N/4\n",
    "      self.conv2a = ConvBlock(64, 64, 1, act)\n",
    "      self.conv2b = ConvBlock(64, 64, 1, act) # 64 x N/4 x N/4\n",
    "\n",
    "      self.conv3a = ConvBlock(64, 128, 2, act)\n",
    "      self.conv3b = ConvBlock(128, 128, 1, act) # 128 x N/8 x N/8\n",
    "\n",
    "      self.conv4a = ConvBlock(128, 256, 2, act)\n",
    "      self.conv4b = ConvBlock(256, 256, 1, act) # 256 x N/16 x N/16\n",
    "\n",
    "      self.conv5a = ConvBlock(256, 512, 2, act)\n",
    "      self.conv5b = ConvBlock(512, 512, 1, act) # 512 x N/32 x N/32\n",
    "\n",
    "      kernel_size = self.image_size /(2**5)\n",
    "      self.avgpool = nn.AvgPool2d((int(kernel_size), int(kernel_size)))\n",
    "      self.flat = nn.Flatten()\n",
    "      self.dropout = nn.Dropout(drop_rate)\n",
    "      self.fc = nn.Linear(512, 1)\n",
    "      ##### END OF YOUR CODE #####\n",
    "\n",
    "    def forward(self, X):\n",
    "      ##### START OF YOUR CODE #####\n",
    "      batch_size = X.size(0)\n",
    "      image_size = X.size(2)\n",
    "\n",
    "      X = self.conv1(X)\n",
    "      X = self.bn1(X)\n",
    "      X = self.act_layer(X)\n",
    "\n",
    "      X = self.mp(X)\n",
    "      X = self.conv2a(X)\n",
    "      X = self.conv2b(X)\n",
    "\n",
    "      X = self.conv3a(X)\n",
    "      X = self.conv3b(X)\n",
    "\n",
    "      X = self.conv4a(X)\n",
    "      X = self.conv4b(X)\n",
    "\n",
    "      X = self.conv5a(X)\n",
    "      X = self.conv5b(X)\n",
    "\n",
    "      X = self.avgpool(X)\n",
    "      X = self.flat(X)\n",
    "      X = self.fc(self.dropout(X))\n",
    "      X = torch.sigmoid(X)\n",
    "      ##### END OF YOUR CODE #####\n",
    "      return X"
   ]
  },
  {
   "cell_type": "markdown",
   "metadata": {
    "id": "BmljrzaQfZ2s"
   },
   "source": [
    "# Assignment 3\n",
    "<p>In this assignment you will\n",
    "\n",
    "* write helper functions\n",
    "* train the model\n",
    "* hyperparameter search using W&B\n",
    "\n",
    "Read the comments carefully and insert your code where you see: <br><br><b>##### START OF YOUR CODE #####</b><br><br><b>##### END OF YOUR CODE #####</b><br><br>or for the inline codes you will see<br><br><b>##### INSERT YOUR CODE HERE #####</b>"
   ]
  },
  {
   "cell_type": "markdown",
   "metadata": {
    "id": "iUnVIVdtY3x0"
   },
   "source": [
    "#### I. AverageMeter\n",
    "First we will write a helper function. AverageMeter is to calculate the mean of the running loss and accuracy.\n",
    "\n",
    "*   It will have 2 functions which are reset and update.\n",
    "*   reset will be called on initialization and set the attributes to 0.\n",
    "*   update takes 2 arguments for the value and the size. It will add the value to the sum and the size to the count. Attribute \"avg\" (use this name) will also be updated as sum/count."
   ]
  },
  {
   "cell_type": "code",
   "execution_count": null,
   "metadata": {
    "id": "A38OLNLbYwfa"
   },
   "outputs": [],
   "source": [
    "class AverageMeter:\n",
    "    \"\"\"Computes and stores the average and current value\"\"\"\n",
    "\n",
    "    def __init__(self):\n",
    "      ##### START OF YOUR CODE #####\n",
    "      self.reset()\n",
    "    #Define the reset function.\n",
    "    def reset(self):\n",
    "      self.sum = 0\n",
    "      self.count = 0\n",
    "      self.avg = 0\n",
    "\n",
    "    #Define the update function.\n",
    "    def update(self,value,size):\n",
    "      self.sum += value*size\n",
    "      self.count += size\n",
    "      self.avg = self.sum/self.count\n",
    "      ##### END OF YOUR CODE #####"
   ]
  },
  {
   "cell_type": "code",
   "execution_count": null,
   "metadata": {
    "colab": {
     "base_uri": "https://localhost:8080/"
    },
    "id": "eCFUuYR7agXr",
    "outputId": "eeb8559c-c486-46e9-9ac2-607fe2200125"
   },
   "outputs": [
    {
     "name": "stdout",
     "output_type": "stream",
     "text": [
      "75.0 10\n"
     ]
    }
   ],
   "source": [
    "avg_meter = AverageMeter()\n",
    "avg_meter.update(100, 5)\n",
    "avg_meter.update(50, 5)\n",
    "print(avg_meter.avg, avg_meter.count)"
   ]
  },
  {
   "cell_type": "markdown",
   "metadata": {
    "id": "pk3vHad6dhhf"
   },
   "source": [
    "#### II. Train Loop\n",
    "Now we will write the training and validation loops. Detailed instructions are given within the code."
   ]
  },
  {
   "cell_type": "code",
   "execution_count": null,
   "metadata": {
    "id": "NqmEhWg6befh"
   },
   "outputs": [],
   "source": [
    "device = torch.device(\"cuda\" if torch.cuda.is_available() else \"cpu\")\n",
    "\n",
    "def training(train_loader, model, criterion, optimizer):\n",
    "  # Let's start by initializing our AverageMeters.\n",
    "  avg_meters = {'loss': AverageMeter(),\n",
    "                'acc': AverageMeter()}\n",
    "\n",
    "  # We will go through the train_loader.\n",
    "  # Zero the gradients.\n",
    "  # Make prediction.\n",
    "  # Calculate the loss and the accuracy using prediction and labels.\n",
    "  # Update the average meters.\n",
    "  # Compute gradients and adjust learning weights.\n",
    "\n",
    "  ##### START OF YOUR CODE #####\n",
    "  #Set the train mode.\n",
    "  model.train()\n",
    "  model.to(device)\n",
    "  #Seperate the inputs and labels.\n",
    "  for inputs, labels in train_loader:\n",
    "    inputs, labels = inputs.to(device), labels.to(device)\n",
    "    labels=labels.float()\n",
    "  # Zero the gradients\n",
    "  optimizer.zero_grad()\n",
    "  #Make the forward pass.\n",
    "  outputs = model(inputs)\n",
    "  #Calculate the loss and accuracy\n",
    "  loss = criterion(outputs,labels)\n",
    "  predicted, _ = torch.max(outputs, 1)\n",
    "  predicted = (predicted > 0.5).float()\n",
    "  correct = (predicted.view(-1) == labels.view(-1)).sum().item()\n",
    "  acc = correct / labels.size()[0]  #Update the average meters.\n",
    "  #Update the average meters.\n",
    "  avg_meters['loss'].update(loss.item(), labels.size(0))\n",
    "  avg_meters['acc'].update(acc, labels.size(0))\n",
    "  #Make the backward pass.\n",
    "  loss.backward()\n",
    "  #Compute gradients and adjust learning weights.\n",
    "  optimizer.step()\n",
    "  ##### END OF YOUR CODE #####\n",
    "\n",
    "  return dict([('loss', avg_meters['loss'].avg),\n",
    "                ('acc', avg_meters['acc'].avg)])\n",
    "\n",
    "def validation(val_loader, model, criterion):\n",
    "  avg_meters = {'loss': AverageMeter(),\n",
    "                'acc': AverageMeter()}\n",
    "\n",
    "  # Validation is almost the same but don't forget to turn the eval mode of the model and with torch no_grad.\n",
    "  # You don't need to compute gradients or adjust learning weights for evaluation.\n",
    "\n",
    "  ##### START OF YOUR CODE #####\n",
    "  #Set the validation mode.\n",
    "  model.eval()\n",
    "  model.to(device)\n",
    "  #Seperate the inputs and labels.\n",
    "  with torch.no_grad():\n",
    "    for inputs, labels in val_loader:\n",
    "      inputs, labels = inputs.to(device), labels.to(device)\n",
    "      labels=labels.float()\n",
    "  #Make the forward pass.\n",
    "  outputs = model(inputs)\n",
    "  #Calculate the loss and accuracy\n",
    "  loss = criterion(outputs,labels)\n",
    "  predicted, _ = torch.max(outputs.data, 1)\n",
    "  predicted = (predicted > 0.5).float()\n",
    "  correct = (predicted.view(-1) == labels.view(-1)).sum().item()\n",
    "  acc = correct / labels.size()[0]  #Update the average meters.\n",
    "  avg_meters['loss'].update(loss.item(), labels.size(0))\n",
    "  avg_meters['acc'].update(acc, labels.size(0))\n",
    "  ##### END OF YOUR CODE #####\n",
    "\n",
    "  return dict([('loss', avg_meters['loss'].avg),\n",
    "              ('acc', avg_meters['acc'].avg)])"
   ]
  },
  {
   "cell_type": "markdown",
   "metadata": {
    "id": "P1ZChNtVfyRw"
   },
   "source": [
    "We will use Weights & Biases for hyperparameter search. This will only be an introduction and we highly recommend you to read the <a href=\"https://docs.wandb.ai/?_gl=1*1xon9b*_ga*NDg5OTYzNTM3LjE2NzUwNjYzNjk.*_ga_JH1SJHJQXJ*MTY3Njc0MDEyNi4xMi4xLjE2NzY3NDAxMjguNTguMC4w\">documentation</a> for more information."
   ]
  },
  {
   "cell_type": "code",
   "execution_count": null,
   "metadata": {
    "colab": {
     "base_uri": "https://localhost:8080/"
    },
    "id": "H4uhE_s3cRvo",
    "outputId": "7c94c8f3-a8d0-40a7-a250-373ff955e06f"
   },
   "outputs": [
    {
     "name": "stdout",
     "output_type": "stream",
     "text": [
      "Requirement already satisfied: wandb in /usr/local/lib/python3.10/dist-packages (0.16.0)\n",
      "Requirement already satisfied: Click!=8.0.0,>=7.1 in /usr/local/lib/python3.10/dist-packages (from wandb) (8.1.7)\n",
      "Requirement already satisfied: GitPython!=3.1.29,>=1.0.0 in /usr/local/lib/python3.10/dist-packages (from wandb) (3.1.40)\n",
      "Requirement already satisfied: requests<3,>=2.0.0 in /usr/local/lib/python3.10/dist-packages (from wandb) (2.31.0)\n",
      "Requirement already satisfied: psutil>=5.0.0 in /usr/local/lib/python3.10/dist-packages (from wandb) (5.9.5)\n",
      "Requirement already satisfied: sentry-sdk>=1.0.0 in /usr/local/lib/python3.10/dist-packages (from wandb) (1.36.0)\n",
      "Requirement already satisfied: docker-pycreds>=0.4.0 in /usr/local/lib/python3.10/dist-packages (from wandb) (0.4.0)\n",
      "Requirement already satisfied: PyYAML in /usr/local/lib/python3.10/dist-packages (from wandb) (6.0.1)\n",
      "Requirement already satisfied: setproctitle in /usr/local/lib/python3.10/dist-packages (from wandb) (1.3.3)\n",
      "Requirement already satisfied: setuptools in /usr/local/lib/python3.10/dist-packages (from wandb) (67.7.2)\n",
      "Requirement already satisfied: appdirs>=1.4.3 in /usr/local/lib/python3.10/dist-packages (from wandb) (1.4.4)\n",
      "Requirement already satisfied: protobuf!=4.21.0,<5,>=3.19.0 in /usr/local/lib/python3.10/dist-packages (from wandb) (3.20.3)\n",
      "Requirement already satisfied: six>=1.4.0 in /usr/local/lib/python3.10/dist-packages (from docker-pycreds>=0.4.0->wandb) (1.16.0)\n",
      "Requirement already satisfied: gitdb<5,>=4.0.1 in /usr/local/lib/python3.10/dist-packages (from GitPython!=3.1.29,>=1.0.0->wandb) (4.0.11)\n",
      "Requirement already satisfied: charset-normalizer<4,>=2 in /usr/local/lib/python3.10/dist-packages (from requests<3,>=2.0.0->wandb) (3.3.2)\n",
      "Requirement already satisfied: idna<4,>=2.5 in /usr/local/lib/python3.10/dist-packages (from requests<3,>=2.0.0->wandb) (3.4)\n",
      "Requirement already satisfied: urllib3<3,>=1.21.1 in /usr/local/lib/python3.10/dist-packages (from requests<3,>=2.0.0->wandb) (2.0.7)\n",
      "Requirement already satisfied: certifi>=2017.4.17 in /usr/local/lib/python3.10/dist-packages (from requests<3,>=2.0.0->wandb) (2023.7.22)\n",
      "Requirement already satisfied: smmap<6,>=3.0.1 in /usr/local/lib/python3.10/dist-packages (from gitdb<5,>=4.0.1->GitPython!=3.1.29,>=1.0.0->wandb) (5.0.1)\n"
     ]
    }
   ],
   "source": [
    "!pip install wandb"
   ]
  },
  {
   "cell_type": "code",
   "execution_count": null,
   "metadata": {
    "id": "rWk9ArIm_hoQ"
   },
   "outputs": [],
   "source": [
    "from torch import optim\n",
    "import wandb\n",
    "\n",
    "from torch.utils.data import DataLoader\n",
    "from torch.nn import CrossEntropyLoss\n",
    "from torch.optim.lr_scheduler import ReduceLROnPlateau\n",
    "\n",
    "def main():\n",
    "  # Set the initial configuration\n",
    "  initial_config = {\n",
    "      \"data_dir\": \"/tmp/curated_data/data/\",\n",
    "      \"image_size\": 128,\n",
    "      \"train_batch_size\": 64,\n",
    "      \"val_batch_size\": 32,\n",
    "      \"test_batch_size\": 1,\n",
    "      \"activation\": \"relu\",\n",
    "      \"drop_rate\": .2,\n",
    "      \"optimizer\": \"Adam\",\n",
    "      \"learning_rate\": 1e-3,\n",
    "      \"l2_reg\": 1e-4, # Weight decay\n",
    "      \"nb_epoch\": 50,\n",
    "      \"early_stopping\": 15, # trigger value for early stopping\n",
    "      }\n",
    "  # Using this configuration dictionary:\n",
    "  # initialize wandb\n",
    "  # Create a run directory in your drive (\"/content/drive/MyDrive/CMPE_runs/\" + the current run name that you'll get from wandb)\n",
    "  # Create the model\n",
    "  # Create dataloader dictionary with \"train\", \"val\", \"test\" keys\n",
    "  # Define binary cross entropy loss\n",
    "  # Define optimizer with weight decay\n",
    "  # Set lr scheduler to ReduceLROnPlateau:\n",
    "    # It will decrease the lr by .1 if the val_loss did not decrease > .01. The minimum lr value can be 1e-9.\n",
    "  # Print train and val results and log them to wandb at the end of each epoch\n",
    "  # Save best model weights to your run directory when the val accuracy is at least .01 better than the best val accuracy.\n",
    "  # Set early stopping with the trigger in config[\"early_stopping\"], monitoring val accuracy. config[\"early_stopping\"] = -1 means no early stopping.\n",
    "  # Print when a new model is saved or early stopping trigger is reached.\n",
    "  # After the final epoch (or early stopping), load the best model weights and log the test results to wandb\n",
    "\n",
    "  ##### START OF YOUR CODE #####\n",
    "  #Initialize wandb.\n",
    "  wandb.init(config=initial_config, project=\"CMPE_49T_Assignment3_Fatmanur_Yaman\")\n",
    "\n",
    "  #Create a run directory.\n",
    "  run_dir = f\"/content/drive/MyDrive/CMPE_runs/{wandb.run.name}\"\n",
    "  os.makedirs(run_dir, exist_ok=True)\n",
    "\n",
    "  #Create the model.\n",
    "  model = ResNet18(initial_config[\"activation\"],initial_config[\"drop_rate\"],initial_config[\"image_size\"])\n",
    "  model = model.to('cuda:0')\n",
    "\n",
    "  #Create the data loader.\n",
    "  #First get the train, val, and test datasets by using CustomDataset.\n",
    "  train_dataset = CustomDataset(image_size=initial_config[\"image_size\"], data_folder=initial_config[\"data_dir\"], partition=\"train\")\n",
    "  val_dataset = CustomDataset(image_size=initial_config[\"image_size\"], data_folder=initial_config[\"data_dir\"], partition=\"val\")\n",
    "  test_dataset = CustomDataset(image_size=initial_config[\"image_size\"], data_folder=initial_config[\"data_dir\"], partition=\"test\")\n",
    "  #Then, load the data according to the batch size and dataset given above by using DataLoader.\n",
    "  train_loader = DataLoader(train_dataset, batch_size=initial_config[\"train_batch_size\"], shuffle=True)\n",
    "  val_loader = DataLoader(val_dataset, batch_size=initial_config[\"val_batch_size\"], shuffle=False)\n",
    "  test_loader = DataLoader(test_dataset, batch_size=initial_config[\"test_batch_size\"], shuffle=False)\n",
    "\n",
    "\n",
    "  #Define binary entropy loss.\n",
    "  criterion = torch.nn.BCELoss().to('cuda')\n",
    "\n",
    "  #Define optimizer with weight decay. Use the learning rate and weight decay defined above.\n",
    "  optimizer = optim.Adam(model.parameters(), lr=initial_config[\"learning_rate\"], weight_decay=initial_config[\"l2_reg\"])\n",
    "  lr_scheduler = ReduceLROnPlateau(optimizer, mode='min', patience=5,\n",
    "                                  factor=0.1, verbose=True, min_lr=1e-9)\n",
    "  trigger = 0\n",
    "  best_val_acc = 0\n",
    "  #Train and validate the model for nb_epoch times defined above.\n",
    "  for epoch in range(initial_config[\"nb_epoch\"]):\n",
    "    print(\"epoch:\", epoch + 1)\n",
    "    # Training\n",
    "    model.train()\n",
    "    train_results = training(train_loader, model, criterion, optimizer)\n",
    "\n",
    "    # Validation\n",
    "    val_results = validation(val_loader, model, criterion)\n",
    "\n",
    "    # Print the results at the end of each iteration.\n",
    "    wandb.log({\"train_loss\": train_results[\"loss\"], \"train_acc\": train_results[\"acc\"],\n",
    "                \"val_loss\": val_results[\"loss\"], \"val_acc\": val_results[\"acc\"]})\n",
    "    # Adjust learning rate\n",
    "    lr_scheduler.step(val_results[\"loss\"])\n",
    "\n",
    "    num_epochs = str(initial_config[\"nb_epoch\"])\n",
    "    print(f\"Epoch {epoch + 1}/{num_epochs} - \"\n",
    "          f\"Train Loss: {train_results['loss']:.4f}, Train Acc: {train_results['acc']:.4f} - \"\n",
    "          f\"Val Loss: {val_results['loss']:.4f}, Val Acc: {val_results['acc']:.4f}\")\n",
    "\n",
    "    # Check if the current model is the best so far\n",
    "    if val_results[\"acc\"] > best_val_acc + 0.01:\n",
    "      best_val_acc = val_results[\"acc\"]\n",
    "      # Save the model weights\n",
    "      torch.save(model.state_dict(), os.path.join(run_dir, \"best_model.pth\"))\n",
    "      print(\"New best model saved.\" + f\"Epoch {epoch + 1}\" +f\"With accuracy {best_val_acc}\")\n",
    "\n",
    "    if val_results[\"acc\"] <= best_val_acc:\n",
    "      trigger += 1\n",
    "    else:\n",
    "      trigger = 0\n",
    "\n",
    "    # Check for early stopping trigger\n",
    "    if trigger >= initial_config[\"early_stopping\"]:\n",
    "      print(\"Early stopping triggered.\")\n",
    "      break\n",
    "\n",
    "\n",
    "  # Load the best model weights for testing\n",
    "  model.load_state_dict(torch.load(os.path.join(run_dir, \"best_model.pth\")))\n",
    "\n",
    "  # Testing\n",
    "  model.eval()\n",
    "  test_results = validation(test_loader, model, criterion)\n",
    "\n",
    "  # Log test results to wandb\n",
    "  wandb.log({\"test_loss\": test_results[\"loss\"], \"test_acc\": test_results[\"acc\"]})\n",
    "\n",
    "  # Print final test results\n",
    "  print(\"Final Test Results:\", test_results)\n",
    "\n",
    "  ##### END OF YOUR CODE #####"
   ]
  },
  {
   "cell_type": "code",
   "execution_count": null,
   "metadata": {
    "colab": {
     "base_uri": "https://localhost:8080/"
    },
    "id": "Wwcd18kWfcTT",
    "outputId": "8bcd3749-bb80-44b2-fe0d-ef77800419ce"
   },
   "outputs": [
    {
     "name": "stdout",
     "output_type": "stream",
     "text": [
      "Create sweep with ID: fyk6q1vc\n",
      "Sweep URL: https://wandb.ai/fatmanuryaman/CMPE_49T_Assignment3_Fatmanur_Yaman/sweeps/fyk6q1vc\n"
     ]
    }
   ],
   "source": [
    "# Define the parameters that we will fine tune with, which are:\n",
    "  # Activation function\n",
    "  # Optimizer\n",
    "  # Drop rate: should be chosen randomly from a uniform distribution between [0., 0.9]\n",
    "  # Weight decay: should be chosen randomly from a uniform distribution between [0., 0.1]\n",
    "  # Learning rate: should be chosen randomly from a uniform distribution between [0.0001, 0.1]\n",
    "import random\n",
    "parameter_dict = {\n",
    "    ##### START OF YOUR CODE #####\n",
    "    \"activation\": {\"values\": [\"relu\", \"sigmoid\", \"tanh\"]},\n",
    "    \"optimizer\": {\"values\": [\"adam\", \"sgd\"]},\n",
    "    \"drop_rate\": {\"min\": 0.0, \"max\": 0.9},\n",
    "    \"weight_decay\": {\"min\": 0.0,\"max\": 0.1},\n",
    "    \"learning_rate\": {\"min\": 0.0001,\"max\": 0.1},\n",
    "    ##### END OF YOUR CODE #####\n",
    "}\n",
    "\n",
    "# Define a sweep configuration tells wandb that it will randomly choose from parameter dict and the purpose is to maximize val_accuracy\n",
    "sweep_config = {\n",
    "    ##### START OF YOUR CODE #####\n",
    "    \"method\": \"random\",  # Use random search\n",
    "    \"name\": \"hyperparameter_tuning\",  # Name of the sweep\n",
    "    \"metric\": {\"goal\": \"maximize\", \"name\": \"val_acc\"},  # Objective to maximize\n",
    "    \"parameters\": parameter_dict,\n",
    "    ##### END OF YOUR CODE #####\n",
    "}\n",
    "sweep_config['parameters'] = parameter_dict\n",
    "\n",
    "# Start the sweep\n",
    "sweep_id = wandb.sweep(sweep=sweep_config, project=\"CMPE_49T_Assignment3_Fatmanur_Yaman\")\n"
   ]
  },
  {
   "cell_type": "code",
   "execution_count": null,
   "metadata": {
    "colab": {
     "base_uri": "https://localhost:8080/",
     "height": 1000,
     "referenced_widgets": [
      "c00243f87abb462890b23fdb7cefb0f2",
      "8996eb8a9141472c97845253878fe162",
      "4cedd6a8619a41058fc51d7185198651",
      "1a26403426514738aed8ee868d19b5af",
      "0d622c74e91e40659a66f25c8f162ec0",
      "8d633cd423584d1580d52d788d4afaf2",
      "a6738a6748e24beba00c6793d88b691f",
      "e6323d85ccee4d64817b7d1a906bf7e6",
      "f71a3f49ac834c12ad30d91cd9510250",
      "a42bfb356a994cf889374bd7075e1b54",
      "6c39ff9debb344ad86582fe5fb177e39",
      "64d98e3b7a784820b181b10749a687d4",
      "a6be7901d1334df79fe31dc6f8bebb07",
      "41057b08a95543799a4e6f8f71cb44cc",
      "c6455c50ca2a4fdeb63cbb840cad565d",
      "d7fba28813624eae94d8bf4546fbf2de",
      "b64ed80ce795496185baa851f2b8db84",
      "cfa92604573c4669afa0b2ee385e0380",
      "95296bec13c04d8ca612929a61f83d5e",
      "67d5aff162d44b5baf07434e321baa86",
      "0068b83135b742b0b32ac24db595dd6b",
      "d04e0016781840648bc3c6a7d75b9ece",
      "8547f50b7d374e2b92da952f798aba3c",
      "98cece803c8548a886d0bb45e98b0724",
      "c2b898a66899487eab5e7ebe62e14951",
      "fc600e0006c04645af44f008fed54933",
      "6afbacef2d5f4857b446b38e80cdeed7",
      "9dd2f8a0d1e04807baae8a6ffa327f6d",
      "b18fb91711aa45b083a1ef615a71d51a",
      "567028924b69428a9fa1f2a64dba0d18",
      "74da897f03644a2aa0b6f06ffd03d18b",
      "c004e232d06541a79638510dd8707406"
     ]
    },
    "id": "Ww_uQsoKbi3W",
    "outputId": "9fece677-7dc6-4024-c310-16982c33342e"
   },
   "outputs": [
    {
     "metadata": {
      "tags": null
     },
     "name": "stderr",
     "output_type": "stream",
     "text": [
      "\u001b[34m\u001b[1mwandb\u001b[0m: Agent Starting Run: kzmf9z59 with config:\n",
      "\u001b[34m\u001b[1mwandb\u001b[0m: \tactivation: tanh\n",
      "\u001b[34m\u001b[1mwandb\u001b[0m: \tdrop_rate: 0.578297055589875\n",
      "\u001b[34m\u001b[1mwandb\u001b[0m: \tlearning_rate: 0.01718733059869951\n",
      "\u001b[34m\u001b[1mwandb\u001b[0m: \toptimizer: adam\n",
      "\u001b[34m\u001b[1mwandb\u001b[0m: \tweight_decay: 0.029699224936632383\n",
      "\u001b[34m\u001b[1mwandb\u001b[0m: Currently logged in as: \u001b[33mfatmanuryaman\u001b[0m. Use \u001b[1m`wandb login --relogin`\u001b[0m to force relogin\n",
      "\u001b[34m\u001b[1mwandb\u001b[0m: \u001b[33mWARNING\u001b[0m Ignored wandb.init() arg project when running a sweep.\n"
     ]
    },
    {
     "data": {
      "text/html": [
       "Tracking run with wandb version 0.16.0"
      ],
      "text/plain": [
       "<IPython.core.display.HTML object>"
      ]
     },
     "metadata": {},
     "output_type": "display_data"
    },
    {
     "data": {
      "text/html": [
       "Run data is saved locally in <code>/content/wandb/run-20231123_192043-kzmf9z59</code>"
      ],
      "text/plain": [
       "<IPython.core.display.HTML object>"
      ]
     },
     "metadata": {},
     "output_type": "display_data"
    },
    {
     "data": {
      "text/html": [
       "Syncing run <strong><a href='https://wandb.ai/fatmanuryaman/CMPE_49T_Assignment3_Fatmanur_Yaman/runs/kzmf9z59' target=\"_blank\">resilient-sweep-1</a></strong> to <a href='https://wandb.ai/fatmanuryaman/CMPE_49T_Assignment3_Fatmanur_Yaman' target=\"_blank\">Weights & Biases</a> (<a href='https://wandb.me/run' target=\"_blank\">docs</a>)<br/>Sweep page: <a href='https://wandb.ai/fatmanuryaman/CMPE_49T_Assignment3_Fatmanur_Yaman/sweeps/fyk6q1vc' target=\"_blank\">https://wandb.ai/fatmanuryaman/CMPE_49T_Assignment3_Fatmanur_Yaman/sweeps/fyk6q1vc</a>"
      ],
      "text/plain": [
       "<IPython.core.display.HTML object>"
      ]
     },
     "metadata": {},
     "output_type": "display_data"
    },
    {
     "data": {
      "text/html": [
       " View project at <a href='https://wandb.ai/fatmanuryaman/CMPE_49T_Assignment3_Fatmanur_Yaman' target=\"_blank\">https://wandb.ai/fatmanuryaman/CMPE_49T_Assignment3_Fatmanur_Yaman</a>"
      ],
      "text/plain": [
       "<IPython.core.display.HTML object>"
      ]
     },
     "metadata": {},
     "output_type": "display_data"
    },
    {
     "data": {
      "text/html": [
       " View sweep at <a href='https://wandb.ai/fatmanuryaman/CMPE_49T_Assignment3_Fatmanur_Yaman/sweeps/fyk6q1vc' target=\"_blank\">https://wandb.ai/fatmanuryaman/CMPE_49T_Assignment3_Fatmanur_Yaman/sweeps/fyk6q1vc</a>"
      ],
      "text/plain": [
       "<IPython.core.display.HTML object>"
      ]
     },
     "metadata": {},
     "output_type": "display_data"
    },
    {
     "data": {
      "text/html": [
       " View run at <a href='https://wandb.ai/fatmanuryaman/CMPE_49T_Assignment3_Fatmanur_Yaman/runs/kzmf9z59' target=\"_blank\">https://wandb.ai/fatmanuryaman/CMPE_49T_Assignment3_Fatmanur_Yaman/runs/kzmf9z59</a>"
      ],
      "text/plain": [
       "<IPython.core.display.HTML object>"
      ]
     },
     "metadata": {},
     "output_type": "display_data"
    },
    {
     "metadata": {
      "tags": null
     },
     "name": "stdout",
     "output_type": "stream",
     "text": [
      "epoch: 1\n",
      "Epoch 1/50 - Train Loss: 0.7561, Train Acc: 0.4000 - Val Loss: 0.6883, Val Acc: 0.7143\n",
      "New best model saved.Epoch 1With accuracy 0.7142857142857143\n",
      "epoch: 2\n",
      "Epoch 2/50 - Train Loss: 0.6828, Train Acc: 0.4400 - Val Loss: 0.7327, Val Acc: 0.2857\n",
      "epoch: 3\n",
      "Epoch 3/50 - Train Loss: 1.0911, Train Acc: 0.6800 - Val Loss: 0.7193, Val Acc: 0.2857\n",
      "epoch: 4\n",
      "Epoch 4/50 - Train Loss: 0.4802, Train Acc: 0.8400 - Val Loss: 0.7111, Val Acc: 0.2857\n",
      "epoch: 5\n",
      "Epoch 5/50 - Train Loss: 0.8955, Train Acc: 0.8400 - Val Loss: 0.7972, Val Acc: 0.2857\n",
      "epoch: 6\n",
      "Epoch 6/50 - Train Loss: 0.4051, Train Acc: 0.8000 - Val Loss: 1.0310, Val Acc: 0.2857\n",
      "epoch: 7\n",
      "Epoch 00007: reducing learning rate of group 0 to 1.0000e-04.\n",
      "Epoch 7/50 - Train Loss: 0.7571, Train Acc: 0.6000 - Val Loss: 1.1798, Val Acc: 0.2857\n",
      "epoch: 8\n",
      "Epoch 8/50 - Train Loss: 0.7919, Train Acc: 0.6000 - Val Loss: 1.2399, Val Acc: 0.2857\n",
      "epoch: 9\n",
      "Epoch 9/50 - Train Loss: 0.6623, Train Acc: 0.5600 - Val Loss: 1.2166, Val Acc: 0.2857\n",
      "epoch: 10\n",
      "Epoch 10/50 - Train Loss: 0.8242, Train Acc: 0.6400 - Val Loss: 1.1787, Val Acc: 0.2857\n",
      "epoch: 11\n",
      "Epoch 11/50 - Train Loss: 0.8020, Train Acc: 0.4000 - Val Loss: 1.1695, Val Acc: 0.2857\n",
      "epoch: 12\n",
      "Epoch 12/50 - Train Loss: 0.6738, Train Acc: 0.6800 - Val Loss: 1.1390, Val Acc: 0.2857\n",
      "epoch: 13\n",
      "Epoch 00013: reducing learning rate of group 0 to 1.0000e-05.\n",
      "Epoch 13/50 - Train Loss: 0.4837, Train Acc: 0.8000 - Val Loss: 1.1447, Val Acc: 0.2857\n",
      "epoch: 14\n",
      "Epoch 14/50 - Train Loss: 0.6962, Train Acc: 0.6000 - Val Loss: 1.1446, Val Acc: 0.2857\n",
      "epoch: 15\n",
      "Epoch 15/50 - Train Loss: 0.7315, Train Acc: 0.6800 - Val Loss: 1.1342, Val Acc: 0.2857\n",
      "Early stopping triggered.\n",
      "Final Test Results: {'loss': 0.681769847869873, 'acc': 1.0}\n"
     ]
    },
    {
     "data": {
      "application/vnd.jupyter.widget-view+json": {
       "model_id": "c00243f87abb462890b23fdb7cefb0f2",
       "version_major": 2,
       "version_minor": 0
      },
      "text/plain": [
       "VBox(children=(Label(value='0.001 MB of 0.001 MB uploaded\\r'), FloatProgress(value=1.0, max=1.0)))"
      ]
     },
     "metadata": {},
     "output_type": "display_data"
    },
    {
     "data": {
      "text/html": [
       "<style>\n",
       "    table.wandb td:nth-child(1) { padding: 0 10px; text-align: left ; width: auto;} td:nth-child(2) {text-align: left ; width: 100%}\n",
       "    .wandb-row { display: flex; flex-direction: row; flex-wrap: wrap; justify-content: flex-start; width: 100% }\n",
       "    .wandb-col { display: flex; flex-direction: column; flex-basis: 100%; flex: 1; padding: 10px; }\n",
       "    </style>\n",
       "<div class=\"wandb-row\"><div class=\"wandb-col\"><h3>Run history:</h3><br/><table class=\"wandb\"><tr><td>test_acc</td><td>▁</td></tr><tr><td>test_loss</td><td>▁</td></tr><tr><td>train_acc</td><td>▁▂▅██▇▄▄▄▅▁▅▇▄▅</td></tr><tr><td>train_loss</td><td>▅▄█▂▆▁▅▅▄▅▅▄▂▄▄</td></tr><tr><td>val_acc</td><td>█▁▁▁▁▁▁▁▁▁▁▁▁▁▁</td></tr><tr><td>val_loss</td><td>▁▂▁▁▂▅▇██▇▇▇▇▇▇</td></tr></table><br/></div><div class=\"wandb-col\"><h3>Run summary:</h3><br/><table class=\"wandb\"><tr><td>test_acc</td><td>1.0</td></tr><tr><td>test_loss</td><td>0.68177</td></tr><tr><td>train_acc</td><td>0.68</td></tr><tr><td>train_loss</td><td>0.73154</td></tr><tr><td>val_acc</td><td>0.28571</td></tr><tr><td>val_loss</td><td>1.1342</td></tr></table><br/></div></div>"
      ],
      "text/plain": [
       "<IPython.core.display.HTML object>"
      ]
     },
     "metadata": {},
     "output_type": "display_data"
    },
    {
     "data": {
      "text/html": [
       " View run <strong style=\"color:#cdcd00\">resilient-sweep-1</strong> at: <a href='https://wandb.ai/fatmanuryaman/CMPE_49T_Assignment3_Fatmanur_Yaman/runs/kzmf9z59' target=\"_blank\">https://wandb.ai/fatmanuryaman/CMPE_49T_Assignment3_Fatmanur_Yaman/runs/kzmf9z59</a><br/>Synced 5 W&B file(s), 0 media file(s), 0 artifact file(s) and 0 other file(s)"
      ],
      "text/plain": [
       "<IPython.core.display.HTML object>"
      ]
     },
     "metadata": {},
     "output_type": "display_data"
    },
    {
     "data": {
      "text/html": [
       "Find logs at: <code>./wandb/run-20231123_192043-kzmf9z59/logs</code>"
      ],
      "text/plain": [
       "<IPython.core.display.HTML object>"
      ]
     },
     "metadata": {},
     "output_type": "display_data"
    },
    {
     "metadata": {
      "tags": null
     },
     "name": "stderr",
     "output_type": "stream",
     "text": [
      "\u001b[34m\u001b[1mwandb\u001b[0m: Agent Starting Run: vaiarq62 with config:\n",
      "\u001b[34m\u001b[1mwandb\u001b[0m: \tactivation: tanh\n",
      "\u001b[34m\u001b[1mwandb\u001b[0m: \tdrop_rate: 0.6672424104393866\n",
      "\u001b[34m\u001b[1mwandb\u001b[0m: \tlearning_rate: 0.09147840473768462\n",
      "\u001b[34m\u001b[1mwandb\u001b[0m: \toptimizer: sgd\n",
      "\u001b[34m\u001b[1mwandb\u001b[0m: \tweight_decay: 0.06282594883633848\n",
      "\u001b[34m\u001b[1mwandb\u001b[0m: \u001b[33mWARNING\u001b[0m Ignored wandb.init() arg project when running a sweep.\n"
     ]
    },
    {
     "data": {
      "text/html": [
       "Tracking run with wandb version 0.16.0"
      ],
      "text/plain": [
       "<IPython.core.display.HTML object>"
      ]
     },
     "metadata": {},
     "output_type": "display_data"
    },
    {
     "data": {
      "text/html": [
       "Run data is saved locally in <code>/content/wandb/run-20231123_193650-vaiarq62</code>"
      ],
      "text/plain": [
       "<IPython.core.display.HTML object>"
      ]
     },
     "metadata": {},
     "output_type": "display_data"
    },
    {
     "data": {
      "text/html": [
       "Syncing run <strong><a href='https://wandb.ai/fatmanuryaman/CMPE_49T_Assignment3_Fatmanur_Yaman/runs/vaiarq62' target=\"_blank\">warm-sweep-2</a></strong> to <a href='https://wandb.ai/fatmanuryaman/CMPE_49T_Assignment3_Fatmanur_Yaman' target=\"_blank\">Weights & Biases</a> (<a href='https://wandb.me/run' target=\"_blank\">docs</a>)<br/>Sweep page: <a href='https://wandb.ai/fatmanuryaman/CMPE_49T_Assignment3_Fatmanur_Yaman/sweeps/fyk6q1vc' target=\"_blank\">https://wandb.ai/fatmanuryaman/CMPE_49T_Assignment3_Fatmanur_Yaman/sweeps/fyk6q1vc</a>"
      ],
      "text/plain": [
       "<IPython.core.display.HTML object>"
      ]
     },
     "metadata": {},
     "output_type": "display_data"
    },
    {
     "data": {
      "text/html": [
       " View project at <a href='https://wandb.ai/fatmanuryaman/CMPE_49T_Assignment3_Fatmanur_Yaman' target=\"_blank\">https://wandb.ai/fatmanuryaman/CMPE_49T_Assignment3_Fatmanur_Yaman</a>"
      ],
      "text/plain": [
       "<IPython.core.display.HTML object>"
      ]
     },
     "metadata": {},
     "output_type": "display_data"
    },
    {
     "data": {
      "text/html": [
       " View sweep at <a href='https://wandb.ai/fatmanuryaman/CMPE_49T_Assignment3_Fatmanur_Yaman/sweeps/fyk6q1vc' target=\"_blank\">https://wandb.ai/fatmanuryaman/CMPE_49T_Assignment3_Fatmanur_Yaman/sweeps/fyk6q1vc</a>"
      ],
      "text/plain": [
       "<IPython.core.display.HTML object>"
      ]
     },
     "metadata": {},
     "output_type": "display_data"
    },
    {
     "data": {
      "text/html": [
       " View run at <a href='https://wandb.ai/fatmanuryaman/CMPE_49T_Assignment3_Fatmanur_Yaman/runs/vaiarq62' target=\"_blank\">https://wandb.ai/fatmanuryaman/CMPE_49T_Assignment3_Fatmanur_Yaman/runs/vaiarq62</a>"
      ],
      "text/plain": [
       "<IPython.core.display.HTML object>"
      ]
     },
     "metadata": {},
     "output_type": "display_data"
    },
    {
     "metadata": {
      "tags": null
     },
     "name": "stdout",
     "output_type": "stream",
     "text": [
      "epoch: 1\n",
      "Epoch 1/50 - Train Loss: 0.7064, Train Acc: 0.3600 - Val Loss: 0.6916, Val Acc: 0.5714\n",
      "New best model saved.Epoch 1With accuracy 0.5714285714285714\n",
      "epoch: 2\n",
      "Epoch 2/50 - Train Loss: 1.0877, Train Acc: 0.6400 - Val Loss: 0.7058, Val Acc: 0.4286\n",
      "epoch: 3\n",
      "Epoch 3/50 - Train Loss: 1.6607, Train Acc: 0.5200 - Val Loss: 0.6949, Val Acc: 0.4286\n",
      "epoch: 4\n",
      "Epoch 4/50 - Train Loss: 1.2781, Train Acc: 0.6000 - Val Loss: 0.7253, Val Acc: 0.4286\n",
      "epoch: 5\n",
      "Epoch 5/50 - Train Loss: 0.7559, Train Acc: 0.5600 - Val Loss: 0.7433, Val Acc: 0.4286\n",
      "epoch: 6\n",
      "Epoch 6/50 - Train Loss: 0.6193, Train Acc: 0.6800 - Val Loss: 0.7520, Val Acc: 0.4286\n",
      "epoch: 7\n",
      "Epoch 00007: reducing learning rate of group 0 to 1.0000e-04.\n",
      "Epoch 7/50 - Train Loss: 0.5968, Train Acc: 0.7200 - Val Loss: 0.7693, Val Acc: 0.4286\n",
      "epoch: 8\n",
      "Epoch 8/50 - Train Loss: 0.4389, Train Acc: 0.8800 - Val Loss: 0.7233, Val Acc: 0.4286\n",
      "epoch: 9\n",
      "Epoch 9/50 - Train Loss: 0.6081, Train Acc: 0.7600 - Val Loss: 0.7069, Val Acc: 0.5714\n",
      "epoch: 10\n",
      "Epoch 10/50 - Train Loss: 1.0058, Train Acc: 0.5200 - Val Loss: 0.6990, Val Acc: 0.5714\n",
      "epoch: 11\n",
      "Epoch 11/50 - Train Loss: 0.5273, Train Acc: 0.8800 - Val Loss: 0.6993, Val Acc: 0.5714\n",
      "epoch: 12\n",
      "Epoch 12/50 - Train Loss: 0.8119, Train Acc: 0.6000 - Val Loss: 0.7051, Val Acc: 0.5714\n",
      "epoch: 13\n",
      "Epoch 00013: reducing learning rate of group 0 to 1.0000e-05.\n",
      "Epoch 13/50 - Train Loss: 0.7976, Train Acc: 0.6800 - Val Loss: 0.7087, Val Acc: 0.5714\n",
      "epoch: 14\n",
      "Epoch 14/50 - Train Loss: 0.6911, Train Acc: 0.6800 - Val Loss: 0.7137, Val Acc: 0.5714\n",
      "epoch: 15\n",
      "Epoch 15/50 - Train Loss: 0.5138, Train Acc: 0.8000 - Val Loss: 0.7203, Val Acc: 0.5714\n",
      "Early stopping triggered.\n",
      "Final Test Results: {'loss': 0.6820586323738098, 'acc': 1.0}\n"
     ]
    },
    {
     "data": {
      "application/vnd.jupyter.widget-view+json": {
       "model_id": "f71a3f49ac834c12ad30d91cd9510250",
       "version_major": 2,
       "version_minor": 0
      },
      "text/plain": [
       "VBox(children=(Label(value='0.001 MB of 0.001 MB uploaded\\r'), FloatProgress(value=1.0, max=1.0)))"
      ]
     },
     "metadata": {},
     "output_type": "display_data"
    },
    {
     "data": {
      "text/html": [
       "<style>\n",
       "    table.wandb td:nth-child(1) { padding: 0 10px; text-align: left ; width: auto;} td:nth-child(2) {text-align: left ; width: 100%}\n",
       "    .wandb-row { display: flex; flex-direction: row; flex-wrap: wrap; justify-content: flex-start; width: 100% }\n",
       "    .wandb-col { display: flex; flex-direction: column; flex-basis: 100%; flex: 1; padding: 10px; }\n",
       "    </style>\n",
       "<div class=\"wandb-row\"><div class=\"wandb-col\"><h3>Run history:</h3><br/><table class=\"wandb\"><tr><td>test_acc</td><td>▁</td></tr><tr><td>test_loss</td><td>▁</td></tr><tr><td>train_acc</td><td>▁▅▃▄▄▅▆█▆▃█▄▅▅▇</td></tr><tr><td>train_loss</td><td>▃▅█▆▃▂▂▁▂▄▂▃▃▂▁</td></tr><tr><td>val_acc</td><td>█▁▁▁▁▁▁▁███████</td></tr><tr><td>val_loss</td><td>▁▂▁▄▆▆█▄▂▂▂▂▃▃▄</td></tr></table><br/></div><div class=\"wandb-col\"><h3>Run summary:</h3><br/><table class=\"wandb\"><tr><td>test_acc</td><td>1.0</td></tr><tr><td>test_loss</td><td>0.68206</td></tr><tr><td>train_acc</td><td>0.8</td></tr><tr><td>train_loss</td><td>0.51379</td></tr><tr><td>val_acc</td><td>0.57143</td></tr><tr><td>val_loss</td><td>0.72027</td></tr></table><br/></div></div>"
      ],
      "text/plain": [
       "<IPython.core.display.HTML object>"
      ]
     },
     "metadata": {},
     "output_type": "display_data"
    },
    {
     "data": {
      "text/html": [
       " View run <strong style=\"color:#cdcd00\">warm-sweep-2</strong> at: <a href='https://wandb.ai/fatmanuryaman/CMPE_49T_Assignment3_Fatmanur_Yaman/runs/vaiarq62' target=\"_blank\">https://wandb.ai/fatmanuryaman/CMPE_49T_Assignment3_Fatmanur_Yaman/runs/vaiarq62</a><br/>Synced 5 W&B file(s), 0 media file(s), 0 artifact file(s) and 0 other file(s)"
      ],
      "text/plain": [
       "<IPython.core.display.HTML object>"
      ]
     },
     "metadata": {},
     "output_type": "display_data"
    },
    {
     "data": {
      "text/html": [
       "Find logs at: <code>./wandb/run-20231123_193650-vaiarq62/logs</code>"
      ],
      "text/plain": [
       "<IPython.core.display.HTML object>"
      ]
     },
     "metadata": {},
     "output_type": "display_data"
    },
    {
     "metadata": {
      "tags": null
     },
     "name": "stderr",
     "output_type": "stream",
     "text": [
      "\u001b[34m\u001b[1mwandb\u001b[0m: Agent Starting Run: e9p1kuro with config:\n",
      "\u001b[34m\u001b[1mwandb\u001b[0m: \tactivation: tanh\n",
      "\u001b[34m\u001b[1mwandb\u001b[0m: \tdrop_rate: 0.4088984745315271\n",
      "\u001b[34m\u001b[1mwandb\u001b[0m: \tlearning_rate: 0.019877246295379715\n",
      "\u001b[34m\u001b[1mwandb\u001b[0m: \toptimizer: sgd\n",
      "\u001b[34m\u001b[1mwandb\u001b[0m: \tweight_decay: 0.09062840613574875\n",
      "\u001b[34m\u001b[1mwandb\u001b[0m: \u001b[33mWARNING\u001b[0m Ignored wandb.init() arg project when running a sweep.\n"
     ]
    },
    {
     "data": {
      "text/html": [
       "Tracking run with wandb version 0.16.0"
      ],
      "text/plain": [
       "<IPython.core.display.HTML object>"
      ]
     },
     "metadata": {},
     "output_type": "display_data"
    },
    {
     "data": {
      "text/html": [
       "Run data is saved locally in <code>/content/wandb/run-20231123_195217-e9p1kuro</code>"
      ],
      "text/plain": [
       "<IPython.core.display.HTML object>"
      ]
     },
     "metadata": {},
     "output_type": "display_data"
    },
    {
     "data": {
      "text/html": [
       "Syncing run <strong><a href='https://wandb.ai/fatmanuryaman/CMPE_49T_Assignment3_Fatmanur_Yaman/runs/e9p1kuro' target=\"_blank\">denim-sweep-3</a></strong> to <a href='https://wandb.ai/fatmanuryaman/CMPE_49T_Assignment3_Fatmanur_Yaman' target=\"_blank\">Weights & Biases</a> (<a href='https://wandb.me/run' target=\"_blank\">docs</a>)<br/>Sweep page: <a href='https://wandb.ai/fatmanuryaman/CMPE_49T_Assignment3_Fatmanur_Yaman/sweeps/fyk6q1vc' target=\"_blank\">https://wandb.ai/fatmanuryaman/CMPE_49T_Assignment3_Fatmanur_Yaman/sweeps/fyk6q1vc</a>"
      ],
      "text/plain": [
       "<IPython.core.display.HTML object>"
      ]
     },
     "metadata": {},
     "output_type": "display_data"
    },
    {
     "data": {
      "text/html": [
       " View project at <a href='https://wandb.ai/fatmanuryaman/CMPE_49T_Assignment3_Fatmanur_Yaman' target=\"_blank\">https://wandb.ai/fatmanuryaman/CMPE_49T_Assignment3_Fatmanur_Yaman</a>"
      ],
      "text/plain": [
       "<IPython.core.display.HTML object>"
      ]
     },
     "metadata": {},
     "output_type": "display_data"
    },
    {
     "data": {
      "text/html": [
       " View sweep at <a href='https://wandb.ai/fatmanuryaman/CMPE_49T_Assignment3_Fatmanur_Yaman/sweeps/fyk6q1vc' target=\"_blank\">https://wandb.ai/fatmanuryaman/CMPE_49T_Assignment3_Fatmanur_Yaman/sweeps/fyk6q1vc</a>"
      ],
      "text/plain": [
       "<IPython.core.display.HTML object>"
      ]
     },
     "metadata": {},
     "output_type": "display_data"
    },
    {
     "data": {
      "text/html": [
       " View run at <a href='https://wandb.ai/fatmanuryaman/CMPE_49T_Assignment3_Fatmanur_Yaman/runs/e9p1kuro' target=\"_blank\">https://wandb.ai/fatmanuryaman/CMPE_49T_Assignment3_Fatmanur_Yaman/runs/e9p1kuro</a>"
      ],
      "text/plain": [
       "<IPython.core.display.HTML object>"
      ]
     },
     "metadata": {},
     "output_type": "display_data"
    },
    {
     "metadata": {
      "tags": null
     },
     "name": "stdout",
     "output_type": "stream",
     "text": [
      "epoch: 1\n",
      "Epoch 1/50 - Train Loss: 0.7633, Train Acc: 0.5200 - Val Loss: 0.6902, Val Acc: 0.8571\n",
      "New best model saved.Epoch 1With accuracy 0.8571428571428571\n",
      "epoch: 2\n",
      "Epoch 2/50 - Train Loss: 0.9112, Train Acc: 0.5200 - Val Loss: 0.6799, Val Acc: 0.8571\n",
      "epoch: 3\n",
      "Epoch 3/50 - Train Loss: 0.6460, Train Acc: 0.6000 - Val Loss: 0.8460, Val Acc: 0.1429\n",
      "epoch: 4\n",
      "Epoch 4/50 - Train Loss: 0.9078, Train Acc: 0.7200 - Val Loss: 0.8089, Val Acc: 0.1429\n",
      "epoch: 5\n",
      "Epoch 5/50 - Train Loss: 0.6381, Train Acc: 0.7200 - Val Loss: 0.8120, Val Acc: 0.1429\n",
      "epoch: 6\n",
      "Epoch 6/50 - Train Loss: 0.5837, Train Acc: 0.7600 - Val Loss: 0.7846, Val Acc: 0.1429\n",
      "epoch: 7\n",
      "Epoch 7/50 - Train Loss: 1.0281, Train Acc: 0.4800 - Val Loss: 0.7779, Val Acc: 0.1429\n",
      "epoch: 8\n",
      "Epoch 00008: reducing learning rate of group 0 to 1.0000e-04.\n",
      "Epoch 8/50 - Train Loss: 0.9594, Train Acc: 0.5600 - Val Loss: 0.8406, Val Acc: 0.1429\n",
      "epoch: 9\n",
      "Epoch 9/50 - Train Loss: 0.6165, Train Acc: 0.8000 - Val Loss: 0.8545, Val Acc: 0.1429\n",
      "epoch: 10\n",
      "Epoch 10/50 - Train Loss: 0.5032, Train Acc: 0.7600 - Val Loss: 0.8964, Val Acc: 0.1429\n",
      "epoch: 11\n",
      "Epoch 11/50 - Train Loss: 0.7576, Train Acc: 0.7600 - Val Loss: 0.9145, Val Acc: 0.1429\n",
      "epoch: 12\n",
      "Epoch 12/50 - Train Loss: 0.6479, Train Acc: 0.7200 - Val Loss: 0.9622, Val Acc: 0.1429\n",
      "epoch: 13\n",
      "Epoch 13/50 - Train Loss: 0.6180, Train Acc: 0.7600 - Val Loss: 1.0063, Val Acc: 0.1429\n",
      "epoch: 14\n",
      "Epoch 00014: reducing learning rate of group 0 to 1.0000e-05.\n",
      "Epoch 14/50 - Train Loss: 0.6987, Train Acc: 0.6000 - Val Loss: 1.0132, Val Acc: 0.1429\n",
      "epoch: 15\n",
      "Epoch 15/50 - Train Loss: 0.6115, Train Acc: 0.7600 - Val Loss: 1.0533, Val Acc: 0.1429\n",
      "Early stopping triggered.\n",
      "Final Test Results: {'loss': 0.6974965333938599, 'acc': 0.0}\n"
     ]
    },
    {
     "data": {
      "application/vnd.jupyter.widget-view+json": {
       "model_id": "b64ed80ce795496185baa851f2b8db84",
       "version_major": 2,
       "version_minor": 0
      },
      "text/plain": [
       "VBox(children=(Label(value='0.001 MB of 0.001 MB uploaded\\r'), FloatProgress(value=1.0, max=1.0)))"
      ]
     },
     "metadata": {},
     "output_type": "display_data"
    },
    {
     "data": {
      "text/html": [
       "<style>\n",
       "    table.wandb td:nth-child(1) { padding: 0 10px; text-align: left ; width: auto;} td:nth-child(2) {text-align: left ; width: 100%}\n",
       "    .wandb-row { display: flex; flex-direction: row; flex-wrap: wrap; justify-content: flex-start; width: 100% }\n",
       "    .wandb-col { display: flex; flex-direction: column; flex-basis: 100%; flex: 1; padding: 10px; }\n",
       "    </style>\n",
       "<div class=\"wandb-row\"><div class=\"wandb-col\"><h3>Run history:</h3><br/><table class=\"wandb\"><tr><td>test_acc</td><td>▁</td></tr><tr><td>test_loss</td><td>▁</td></tr><tr><td>train_acc</td><td>▂▂▄▆▆▇▁▃█▇▇▆▇▄▇</td></tr><tr><td>train_loss</td><td>▄▆▃▆▃▂█▇▃▁▄▃▃▄▂</td></tr><tr><td>val_acc</td><td>██▁▁▁▁▁▁▁▁▁▁▁▁▁</td></tr><tr><td>val_loss</td><td>▁▁▄▃▃▃▃▄▄▅▅▆▇▇█</td></tr></table><br/></div><div class=\"wandb-col\"><h3>Run summary:</h3><br/><table class=\"wandb\"><tr><td>test_acc</td><td>0.0</td></tr><tr><td>test_loss</td><td>0.6975</td></tr><tr><td>train_acc</td><td>0.76</td></tr><tr><td>train_loss</td><td>0.61152</td></tr><tr><td>val_acc</td><td>0.14286</td></tr><tr><td>val_loss</td><td>1.0533</td></tr></table><br/></div></div>"
      ],
      "text/plain": [
       "<IPython.core.display.HTML object>"
      ]
     },
     "metadata": {},
     "output_type": "display_data"
    },
    {
     "data": {
      "text/html": [
       " View run <strong style=\"color:#cdcd00\">denim-sweep-3</strong> at: <a href='https://wandb.ai/fatmanuryaman/CMPE_49T_Assignment3_Fatmanur_Yaman/runs/e9p1kuro' target=\"_blank\">https://wandb.ai/fatmanuryaman/CMPE_49T_Assignment3_Fatmanur_Yaman/runs/e9p1kuro</a><br/>Synced 5 W&B file(s), 0 media file(s), 0 artifact file(s) and 0 other file(s)"
      ],
      "text/plain": [
       "<IPython.core.display.HTML object>"
      ]
     },
     "metadata": {},
     "output_type": "display_data"
    },
    {
     "data": {
      "text/html": [
       "Find logs at: <code>./wandb/run-20231123_195217-e9p1kuro/logs</code>"
      ],
      "text/plain": [
       "<IPython.core.display.HTML object>"
      ]
     },
     "metadata": {},
     "output_type": "display_data"
    },
    {
     "metadata": {
      "tags": null
     },
     "name": "stderr",
     "output_type": "stream",
     "text": [
      "\u001b[34m\u001b[1mwandb\u001b[0m: Agent Starting Run: lavi4kyv with config:\n",
      "\u001b[34m\u001b[1mwandb\u001b[0m: \tactivation: tanh\n",
      "\u001b[34m\u001b[1mwandb\u001b[0m: \tdrop_rate: 0.8393055013775554\n",
      "\u001b[34m\u001b[1mwandb\u001b[0m: \tlearning_rate: 0.0399435914950167\n",
      "\u001b[34m\u001b[1mwandb\u001b[0m: \toptimizer: sgd\n",
      "\u001b[34m\u001b[1mwandb\u001b[0m: \tweight_decay: 0.07600545379016764\n",
      "\u001b[34m\u001b[1mwandb\u001b[0m: \u001b[33mWARNING\u001b[0m Ignored wandb.init() arg project when running a sweep.\n"
     ]
    },
    {
     "data": {
      "text/html": [
       "Tracking run with wandb version 0.16.0"
      ],
      "text/plain": [
       "<IPython.core.display.HTML object>"
      ]
     },
     "metadata": {},
     "output_type": "display_data"
    },
    {
     "data": {
      "text/html": [
       "Run data is saved locally in <code>/content/wandb/run-20231123_200713-lavi4kyv</code>"
      ],
      "text/plain": [
       "<IPython.core.display.HTML object>"
      ]
     },
     "metadata": {},
     "output_type": "display_data"
    },
    {
     "data": {
      "text/html": [
       "Syncing run <strong><a href='https://wandb.ai/fatmanuryaman/CMPE_49T_Assignment3_Fatmanur_Yaman/runs/lavi4kyv' target=\"_blank\">desert-sweep-4</a></strong> to <a href='https://wandb.ai/fatmanuryaman/CMPE_49T_Assignment3_Fatmanur_Yaman' target=\"_blank\">Weights & Biases</a> (<a href='https://wandb.me/run' target=\"_blank\">docs</a>)<br/>Sweep page: <a href='https://wandb.ai/fatmanuryaman/CMPE_49T_Assignment3_Fatmanur_Yaman/sweeps/fyk6q1vc' target=\"_blank\">https://wandb.ai/fatmanuryaman/CMPE_49T_Assignment3_Fatmanur_Yaman/sweeps/fyk6q1vc</a>"
      ],
      "text/plain": [
       "<IPython.core.display.HTML object>"
      ]
     },
     "metadata": {},
     "output_type": "display_data"
    },
    {
     "data": {
      "text/html": [
       " View project at <a href='https://wandb.ai/fatmanuryaman/CMPE_49T_Assignment3_Fatmanur_Yaman' target=\"_blank\">https://wandb.ai/fatmanuryaman/CMPE_49T_Assignment3_Fatmanur_Yaman</a>"
      ],
      "text/plain": [
       "<IPython.core.display.HTML object>"
      ]
     },
     "metadata": {},
     "output_type": "display_data"
    },
    {
     "data": {
      "text/html": [
       " View sweep at <a href='https://wandb.ai/fatmanuryaman/CMPE_49T_Assignment3_Fatmanur_Yaman/sweeps/fyk6q1vc' target=\"_blank\">https://wandb.ai/fatmanuryaman/CMPE_49T_Assignment3_Fatmanur_Yaman/sweeps/fyk6q1vc</a>"
      ],
      "text/plain": [
       "<IPython.core.display.HTML object>"
      ]
     },
     "metadata": {},
     "output_type": "display_data"
    },
    {
     "data": {
      "text/html": [
       " View run at <a href='https://wandb.ai/fatmanuryaman/CMPE_49T_Assignment3_Fatmanur_Yaman/runs/lavi4kyv' target=\"_blank\">https://wandb.ai/fatmanuryaman/CMPE_49T_Assignment3_Fatmanur_Yaman/runs/lavi4kyv</a>"
      ],
      "text/plain": [
       "<IPython.core.display.HTML object>"
      ]
     },
     "metadata": {},
     "output_type": "display_data"
    },
    {
     "name": "stdout",
     "output_type": "stream",
     "text": [
      "epoch: 1\n",
      "Epoch 1/50 - Train Loss: 0.6708, Train Acc: 0.5200 - Val Loss: 0.6985, Val Acc: 0.4286\n",
      "New best model saved.Epoch 1With accuracy 0.42857142857142855\n",
      "epoch: 2\n",
      "Epoch 2/50 - Train Loss: 1.6766, Train Acc: 0.6000 - Val Loss: 0.6885, Val Acc: 0.5714\n",
      "New best model saved.Epoch 2With accuracy 0.5714285714285714\n",
      "epoch: 3\n",
      "Epoch 3/50 - Train Loss: 0.6760, Train Acc: 0.6800 - Val Loss: 0.7183, Val Acc: 0.4286\n",
      "epoch: 4\n",
      "Epoch 4/50 - Train Loss: 1.3771, Train Acc: 0.6400 - Val Loss: 0.7135, Val Acc: 0.4286\n",
      "epoch: 5\n",
      "Epoch 5/50 - Train Loss: 1.2401, Train Acc: 0.3200 - Val Loss: 0.7022, Val Acc: 0.4286\n",
      "epoch: 6\n",
      "Epoch 6/50 - Train Loss: 0.5925, Train Acc: 0.7200 - Val Loss: 0.7135, Val Acc: 0.4286\n",
      "epoch: 7\n",
      "Epoch 7/50 - Train Loss: 1.0555, Train Acc: 0.4400 - Val Loss: 0.7525, Val Acc: 0.4286\n",
      "epoch: 8\n",
      "Epoch 00008: reducing learning rate of group 0 to 1.0000e-04.\n",
      "Epoch 8/50 - Train Loss: 0.6523, Train Acc: 0.7200 - Val Loss: 0.7438, Val Acc: 0.4286\n",
      "epoch: 9\n",
      "Epoch 9/50 - Train Loss: 0.7540, Train Acc: 0.5600 - Val Loss: 0.7309, Val Acc: 0.4286\n",
      "epoch: 10\n",
      "Epoch 10/50 - Train Loss: 0.7451, Train Acc: 0.6000 - Val Loss: 0.7219, Val Acc: 0.4286\n",
      "epoch: 11\n",
      "Epoch 11/50 - Train Loss: 0.5770, Train Acc: 0.8000 - Val Loss: 0.7163, Val Acc: 0.4286\n",
      "epoch: 12\n",
      "Epoch 12/50 - Train Loss: 0.6517, Train Acc: 0.6800 - Val Loss: 0.7114, Val Acc: 0.4286\n",
      "epoch: 13\n",
      "Epoch 13/50 - Train Loss: 0.7271, Train Acc: 0.6000 - Val Loss: 0.7096, Val Acc: 0.4286\n",
      "epoch: 14\n",
      "Epoch 00014: reducing learning rate of group 0 to 1.0000e-05.\n",
      "Epoch 14/50 - Train Loss: 0.7195, Train Acc: 0.5200 - Val Loss: 0.7094, Val Acc: 0.4286\n",
      "epoch: 15\n",
      "Epoch 15/50 - Train Loss: 0.6325, Train Acc: 0.7600 - Val Loss: 0.7094, Val Acc: 0.4286\n",
      "Early stopping triggered.\n",
      "Final Test Results: {'loss': 0.7314473390579224, 'acc': 0.0}\n"
     ]
    },
    {
     "data": {
      "application/vnd.jupyter.widget-view+json": {
       "model_id": "c2b898a66899487eab5e7ebe62e14951",
       "version_major": 2,
       "version_minor": 0
      },
      "text/plain": [
       "VBox(children=(Label(value='0.001 MB of 0.001 MB uploaded\\r'), FloatProgress(value=1.0, max=1.0)))"
      ]
     },
     "metadata": {},
     "output_type": "display_data"
    },
    {
     "data": {
      "text/html": [
       "<style>\n",
       "    table.wandb td:nth-child(1) { padding: 0 10px; text-align: left ; width: auto;} td:nth-child(2) {text-align: left ; width: 100%}\n",
       "    .wandb-row { display: flex; flex-direction: row; flex-wrap: wrap; justify-content: flex-start; width: 100% }\n",
       "    .wandb-col { display: flex; flex-direction: column; flex-basis: 100%; flex: 1; padding: 10px; }\n",
       "    </style>\n",
       "<div class=\"wandb-row\"><div class=\"wandb-col\"><h3>Run history:</h3><br/><table class=\"wandb\"><tr><td>test_acc</td><td>▁</td></tr><tr><td>test_loss</td><td>▁</td></tr><tr><td>train_acc</td><td>▄▅▆▆▁▇▃▇▅▅█▆▅▄▇</td></tr><tr><td>train_loss</td><td>▂█▂▆▅▁▄▁▂▂▁▁▂▂▁</td></tr><tr><td>val_acc</td><td>▁█▁▁▁▁▁▁▁▁▁▁▁▁▁</td></tr><tr><td>val_loss</td><td>▂▁▄▄▂▄█▇▆▅▄▄▃▃▃</td></tr></table><br/></div><div class=\"wandb-col\"><h3>Run summary:</h3><br/><table class=\"wandb\"><tr><td>test_acc</td><td>0.0</td></tr><tr><td>test_loss</td><td>0.73145</td></tr><tr><td>train_acc</td><td>0.76</td></tr><tr><td>train_loss</td><td>0.63252</td></tr><tr><td>val_acc</td><td>0.42857</td></tr><tr><td>val_loss</td><td>0.70939</td></tr></table><br/></div></div>"
      ],
      "text/plain": [
       "<IPython.core.display.HTML object>"
      ]
     },
     "metadata": {},
     "output_type": "display_data"
    },
    {
     "data": {
      "text/html": [
       " View run <strong style=\"color:#cdcd00\">desert-sweep-4</strong> at: <a href='https://wandb.ai/fatmanuryaman/CMPE_49T_Assignment3_Fatmanur_Yaman/runs/lavi4kyv' target=\"_blank\">https://wandb.ai/fatmanuryaman/CMPE_49T_Assignment3_Fatmanur_Yaman/runs/lavi4kyv</a><br/>Synced 5 W&B file(s), 0 media file(s), 0 artifact file(s) and 0 other file(s)"
      ],
      "text/plain": [
       "<IPython.core.display.HTML object>"
      ]
     },
     "metadata": {},
     "output_type": "display_data"
    },
    {
     "data": {
      "text/html": [
       "Find logs at: <code>./wandb/run-20231123_200713-lavi4kyv/logs</code>"
      ],
      "text/plain": [
       "<IPython.core.display.HTML object>"
      ]
     },
     "metadata": {},
     "output_type": "display_data"
    },
    {
     "name": "stderr",
     "output_type": "stream",
     "text": [
      "\u001b[34m\u001b[1mwandb\u001b[0m: Agent Starting Run: wh1vuw3l with config:\n",
      "\u001b[34m\u001b[1mwandb\u001b[0m: \tactivation: tanh\n",
      "\u001b[34m\u001b[1mwandb\u001b[0m: \tdrop_rate: 0.266736652895666\n",
      "\u001b[34m\u001b[1mwandb\u001b[0m: \tlearning_rate: 0.09168045569689738\n",
      "\u001b[34m\u001b[1mwandb\u001b[0m: \toptimizer: sgd\n",
      "\u001b[34m\u001b[1mwandb\u001b[0m: \tweight_decay: 0.07026993616919426\n",
      "\u001b[34m\u001b[1mwandb\u001b[0m: \u001b[33mWARNING\u001b[0m Ignored wandb.init() arg project when running a sweep.\n"
     ]
    },
    {
     "data": {
      "text/html": [
       "Tracking run with wandb version 0.16.0"
      ],
      "text/plain": [
       "<IPython.core.display.HTML object>"
      ]
     },
     "metadata": {},
     "output_type": "display_data"
    },
    {
     "data": {
      "text/html": [
       "Run data is saved locally in <code>/content/wandb/run-20231123_202159-wh1vuw3l</code>"
      ],
      "text/plain": [
       "<IPython.core.display.HTML object>"
      ]
     },
     "metadata": {},
     "output_type": "display_data"
    },
    {
     "data": {
      "text/html": [
       "Syncing run <strong><a href='https://wandb.ai/fatmanuryaman/CMPE_49T_Assignment3_Fatmanur_Yaman/runs/wh1vuw3l' target=\"_blank\">avid-sweep-5</a></strong> to <a href='https://wandb.ai/fatmanuryaman/CMPE_49T_Assignment3_Fatmanur_Yaman' target=\"_blank\">Weights & Biases</a> (<a href='https://wandb.me/run' target=\"_blank\">docs</a>)<br/>Sweep page: <a href='https://wandb.ai/fatmanuryaman/CMPE_49T_Assignment3_Fatmanur_Yaman/sweeps/fyk6q1vc' target=\"_blank\">https://wandb.ai/fatmanuryaman/CMPE_49T_Assignment3_Fatmanur_Yaman/sweeps/fyk6q1vc</a>"
      ],
      "text/plain": [
       "<IPython.core.display.HTML object>"
      ]
     },
     "metadata": {},
     "output_type": "display_data"
    },
    {
     "data": {
      "text/html": [
       " View project at <a href='https://wandb.ai/fatmanuryaman/CMPE_49T_Assignment3_Fatmanur_Yaman' target=\"_blank\">https://wandb.ai/fatmanuryaman/CMPE_49T_Assignment3_Fatmanur_Yaman</a>"
      ],
      "text/plain": [
       "<IPython.core.display.HTML object>"
      ]
     },
     "metadata": {},
     "output_type": "display_data"
    },
    {
     "data": {
      "text/html": [
       " View sweep at <a href='https://wandb.ai/fatmanuryaman/CMPE_49T_Assignment3_Fatmanur_Yaman/sweeps/fyk6q1vc' target=\"_blank\">https://wandb.ai/fatmanuryaman/CMPE_49T_Assignment3_Fatmanur_Yaman/sweeps/fyk6q1vc</a>"
      ],
      "text/plain": [
       "<IPython.core.display.HTML object>"
      ]
     },
     "metadata": {},
     "output_type": "display_data"
    },
    {
     "data": {
      "text/html": [
       " View run at <a href='https://wandb.ai/fatmanuryaman/CMPE_49T_Assignment3_Fatmanur_Yaman/runs/wh1vuw3l' target=\"_blank\">https://wandb.ai/fatmanuryaman/CMPE_49T_Assignment3_Fatmanur_Yaman/runs/wh1vuw3l</a>"
      ],
      "text/plain": [
       "<IPython.core.display.HTML object>"
      ]
     },
     "metadata": {},
     "output_type": "display_data"
    },
    {
     "name": "stdout",
     "output_type": "stream",
     "text": [
      "epoch: 1\n",
      "Epoch 1/50 - Train Loss: 0.7128, Train Acc: 0.4400 - Val Loss: 0.6947, Val Acc: 0.4286\n",
      "New best model saved.Epoch 1With accuracy 0.42857142857142855\n",
      "epoch: 2\n"
     ]
    },
    {
     "name": "stderr",
     "output_type": "stream",
     "text": [
      "\u001b[34m\u001b[1mwandb\u001b[0m: Ctrl + C detected. Stopping sweep.\n"
     ]
    }
   ],
   "source": [
    "wandb.agent(sweep_id, function=main)"
   ]
  },
  {
   "cell_type": "code",
   "execution_count": null,
   "metadata": {
    "colab": {
     "base_uri": "https://localhost:8080/"
    },
    "id": "_cTimUds4A2w",
    "outputId": "cca49528-3f99-4bd2-aa39-69c88aaddfdb"
   },
   "outputs": [
    {
     "name": "stdout",
     "output_type": "stream",
     "text": [
      "Requirement already satisfied: nbconvert in /usr/local/lib/python3.10/dist-packages (6.5.4)\n",
      "Requirement already satisfied: lxml in /usr/local/lib/python3.10/dist-packages (from nbconvert) (4.9.3)\n",
      "Requirement already satisfied: beautifulsoup4 in /usr/local/lib/python3.10/dist-packages (from nbconvert) (4.11.2)\n",
      "Requirement already satisfied: bleach in /usr/local/lib/python3.10/dist-packages (from nbconvert) (6.1.0)\n",
      "Requirement already satisfied: defusedxml in /usr/local/lib/python3.10/dist-packages (from nbconvert) (0.7.1)\n",
      "Requirement already satisfied: entrypoints>=0.2.2 in /usr/local/lib/python3.10/dist-packages (from nbconvert) (0.4)\n",
      "Requirement already satisfied: jinja2>=3.0 in /usr/local/lib/python3.10/dist-packages (from nbconvert) (3.1.2)\n",
      "Requirement already satisfied: jupyter-core>=4.7 in /usr/local/lib/python3.10/dist-packages (from nbconvert) (5.5.0)\n",
      "Requirement already satisfied: jupyterlab-pygments in /usr/local/lib/python3.10/dist-packages (from nbconvert) (0.3.0)\n",
      "Requirement already satisfied: MarkupSafe>=2.0 in /usr/local/lib/python3.10/dist-packages (from nbconvert) (2.1.3)\n",
      "Requirement already satisfied: mistune<2,>=0.8.1 in /usr/local/lib/python3.10/dist-packages (from nbconvert) (0.8.4)\n",
      "Requirement already satisfied: nbclient>=0.5.0 in /usr/local/lib/python3.10/dist-packages (from nbconvert) (0.9.0)\n",
      "Requirement already satisfied: nbformat>=5.1 in /usr/local/lib/python3.10/dist-packages (from nbconvert) (5.9.2)\n",
      "Requirement already satisfied: packaging in /usr/local/lib/python3.10/dist-packages (from nbconvert) (23.2)\n",
      "Requirement already satisfied: pandocfilters>=1.4.1 in /usr/local/lib/python3.10/dist-packages (from nbconvert) (1.5.0)\n",
      "Requirement already satisfied: pygments>=2.4.1 in /usr/local/lib/python3.10/dist-packages (from nbconvert) (2.16.1)\n",
      "Requirement already satisfied: tinycss2 in /usr/local/lib/python3.10/dist-packages (from nbconvert) (1.2.1)\n",
      "Requirement already satisfied: traitlets>=5.0 in /usr/local/lib/python3.10/dist-packages (from nbconvert) (5.7.1)\n",
      "Requirement already satisfied: platformdirs>=2.5 in /usr/local/lib/python3.10/dist-packages (from jupyter-core>=4.7->nbconvert) (4.0.0)\n",
      "Requirement already satisfied: jupyter-client>=6.1.12 in /usr/local/lib/python3.10/dist-packages (from nbclient>=0.5.0->nbconvert) (6.1.12)\n",
      "Requirement already satisfied: fastjsonschema in /usr/local/lib/python3.10/dist-packages (from nbformat>=5.1->nbconvert) (2.19.0)\n",
      "Requirement already satisfied: jsonschema>=2.6 in /usr/local/lib/python3.10/dist-packages (from nbformat>=5.1->nbconvert) (4.19.2)\n",
      "Requirement already satisfied: soupsieve>1.2 in /usr/local/lib/python3.10/dist-packages (from beautifulsoup4->nbconvert) (2.5)\n",
      "Requirement already satisfied: six>=1.9.0 in /usr/local/lib/python3.10/dist-packages (from bleach->nbconvert) (1.16.0)\n",
      "Requirement already satisfied: webencodings in /usr/local/lib/python3.10/dist-packages (from bleach->nbconvert) (0.5.1)\n",
      "Requirement already satisfied: attrs>=22.2.0 in /usr/local/lib/python3.10/dist-packages (from jsonschema>=2.6->nbformat>=5.1->nbconvert) (23.1.0)\n",
      "Requirement already satisfied: jsonschema-specifications>=2023.03.6 in /usr/local/lib/python3.10/dist-packages (from jsonschema>=2.6->nbformat>=5.1->nbconvert) (2023.11.2)\n",
      "Requirement already satisfied: referencing>=0.28.4 in /usr/local/lib/python3.10/dist-packages (from jsonschema>=2.6->nbformat>=5.1->nbconvert) (0.31.1)\n",
      "Requirement already satisfied: rpds-py>=0.7.1 in /usr/local/lib/python3.10/dist-packages (from jsonschema>=2.6->nbformat>=5.1->nbconvert) (0.13.2)\n",
      "Requirement already satisfied: pyzmq>=13 in /usr/local/lib/python3.10/dist-packages (from jupyter-client>=6.1.12->nbclient>=0.5.0->nbconvert) (23.2.1)\n",
      "Requirement already satisfied: python-dateutil>=2.1 in /usr/local/lib/python3.10/dist-packages (from jupyter-client>=6.1.12->nbclient>=0.5.0->nbconvert) (2.8.2)\n",
      "Requirement already satisfied: tornado>=4.1 in /usr/local/lib/python3.10/dist-packages (from jupyter-client>=6.1.12->nbclient>=0.5.0->nbconvert) (6.3.2)\n"
     ]
    }
   ],
   "source": [
    "!pip install nbconvert\n",
    "from nbconvert import HTMLExporter\n",
    "import nbformat\n",
    "\n",
    "notebook_file = \"Fatmanur_Yaman_CMPE_49T_Assignment3.ipynb\"\n",
    "\n",
    "with open(notebook_file) as f:\n",
    "    nb = nbformat.read(f, as_version=4)\n",
    "\n",
    "html_exporter = HTMLExporter()\n",
    "html_exporter.template_name = 'classic'\n",
    "body, resources = html_exporter.from_notebook_node(nb)\n",
    "\n",
    "with open('Fatmanur_Yaman_CMPE_49T_Assignment3.html', 'w', encoding='utf-8') as f:\n",
    "    f.write(body)"
   ]
  }
 ],
 "metadata": {
  "accelerator": "TPU",
  "colab": {
   "provenance": []
  },
  "kernelspec": {
   "display_name": "Python 3 (ipykernel)",
   "language": "python",
   "name": "python3"
  },
  "language_info": {
   "codemirror_mode": {
    "name": "ipython",
    "version": 3
   },
   "file_extension": ".py",
   "mimetype": "text/x-python",
   "name": "python",
   "nbconvert_exporter": "python",
   "pygments_lexer": "ipython3",
   "version": "3.11.3"
  },
  "widgets": {
   "application/vnd.jupyter.widget-state+json": {
    "0068b83135b742b0b32ac24db595dd6b": {
     "model_module": "@jupyter-widgets/base",
     "model_module_version": "1.2.0",
     "model_name": "LayoutModel",
     "state": {
      "_model_module": "@jupyter-widgets/base",
      "_model_module_version": "1.2.0",
      "_model_name": "LayoutModel",
      "_view_count": null,
      "_view_module": "@jupyter-widgets/base",
      "_view_module_version": "1.2.0",
      "_view_name": "LayoutView",
      "align_content": null,
      "align_items": null,
      "align_self": null,
      "border": null,
      "bottom": null,
      "display": null,
      "flex": null,
      "flex_flow": null,
      "grid_area": null,
      "grid_auto_columns": null,
      "grid_auto_flow": null,
      "grid_auto_rows": null,
      "grid_column": null,
      "grid_gap": null,
      "grid_row": null,
      "grid_template_areas": null,
      "grid_template_columns": null,
      "grid_template_rows": null,
      "height": null,
      "justify_content": null,
      "justify_items": null,
      "left": null,
      "margin": null,
      "max_height": null,
      "max_width": null,
      "min_height": null,
      "min_width": null,
      "object_fit": null,
      "object_position": null,
      "order": null,
      "overflow": null,
      "overflow_x": null,
      "overflow_y": null,
      "padding": null,
      "right": null,
      "top": null,
      "visibility": null,
      "width": null
     }
    },
    "0d622c74e91e40659a66f25c8f162ec0": {
     "model_module": "@jupyter-widgets/base",
     "model_module_version": "1.2.0",
     "model_name": "LayoutModel",
     "state": {
      "_model_module": "@jupyter-widgets/base",
      "_model_module_version": "1.2.0",
      "_model_name": "LayoutModel",
      "_view_count": null,
      "_view_module": "@jupyter-widgets/base",
      "_view_module_version": "1.2.0",
      "_view_name": "LayoutView",
      "align_content": null,
      "align_items": null,
      "align_self": null,
      "border": null,
      "bottom": null,
      "display": null,
      "flex": null,
      "flex_flow": null,
      "grid_area": null,
      "grid_auto_columns": null,
      "grid_auto_flow": null,
      "grid_auto_rows": null,
      "grid_column": null,
      "grid_gap": null,
      "grid_row": null,
      "grid_template_areas": null,
      "grid_template_columns": null,
      "grid_template_rows": null,
      "height": null,
      "justify_content": null,
      "justify_items": null,
      "left": null,
      "margin": null,
      "max_height": null,
      "max_width": null,
      "min_height": null,
      "min_width": null,
      "object_fit": null,
      "object_position": null,
      "order": null,
      "overflow": null,
      "overflow_x": null,
      "overflow_y": null,
      "padding": null,
      "right": null,
      "top": null,
      "visibility": null,
      "width": null
     }
    },
    "1a26403426514738aed8ee868d19b5af": {
     "model_module": "@jupyter-widgets/base",
     "model_module_version": "1.2.0",
     "model_name": "LayoutModel",
     "state": {
      "_model_module": "@jupyter-widgets/base",
      "_model_module_version": "1.2.0",
      "_model_name": "LayoutModel",
      "_view_count": null,
      "_view_module": "@jupyter-widgets/base",
      "_view_module_version": "1.2.0",
      "_view_name": "LayoutView",
      "align_content": null,
      "align_items": null,
      "align_self": null,
      "border": null,
      "bottom": null,
      "display": null,
      "flex": null,
      "flex_flow": null,
      "grid_area": null,
      "grid_auto_columns": null,
      "grid_auto_flow": null,
      "grid_auto_rows": null,
      "grid_column": null,
      "grid_gap": null,
      "grid_row": null,
      "grid_template_areas": null,
      "grid_template_columns": null,
      "grid_template_rows": null,
      "height": null,
      "justify_content": null,
      "justify_items": null,
      "left": null,
      "margin": null,
      "max_height": null,
      "max_width": null,
      "min_height": null,
      "min_width": null,
      "object_fit": null,
      "object_position": null,
      "order": null,
      "overflow": null,
      "overflow_x": null,
      "overflow_y": null,
      "padding": null,
      "right": null,
      "top": null,
      "visibility": null,
      "width": null
     }
    },
    "41057b08a95543799a4e6f8f71cb44cc": {
     "model_module": "@jupyter-widgets/controls",
     "model_module_version": "1.5.0",
     "model_name": "DescriptionStyleModel",
     "state": {
      "_model_module": "@jupyter-widgets/controls",
      "_model_module_version": "1.5.0",
      "_model_name": "DescriptionStyleModel",
      "_view_count": null,
      "_view_module": "@jupyter-widgets/base",
      "_view_module_version": "1.2.0",
      "_view_name": "StyleView",
      "description_width": ""
     }
    },
    "4cedd6a8619a41058fc51d7185198651": {
     "model_module": "@jupyter-widgets/controls",
     "model_module_version": "1.5.0",
     "model_name": "FloatProgressModel",
     "state": {
      "_dom_classes": [],
      "_model_module": "@jupyter-widgets/controls",
      "_model_module_version": "1.5.0",
      "_model_name": "FloatProgressModel",
      "_view_count": null,
      "_view_module": "@jupyter-widgets/controls",
      "_view_module_version": "1.5.0",
      "_view_name": "ProgressView",
      "bar_style": "",
      "description": "",
      "description_tooltip": null,
      "layout": "IPY_MODEL_a6738a6748e24beba00c6793d88b691f",
      "max": 1,
      "min": 0,
      "orientation": "horizontal",
      "style": "IPY_MODEL_e6323d85ccee4d64817b7d1a906bf7e6",
      "value": 1
     }
    },
    "567028924b69428a9fa1f2a64dba0d18": {
     "model_module": "@jupyter-widgets/controls",
     "model_module_version": "1.5.0",
     "model_name": "DescriptionStyleModel",
     "state": {
      "_model_module": "@jupyter-widgets/controls",
      "_model_module_version": "1.5.0",
      "_model_name": "DescriptionStyleModel",
      "_view_count": null,
      "_view_module": "@jupyter-widgets/base",
      "_view_module_version": "1.2.0",
      "_view_name": "StyleView",
      "description_width": ""
     }
    },
    "64d98e3b7a784820b181b10749a687d4": {
     "model_module": "@jupyter-widgets/base",
     "model_module_version": "1.2.0",
     "model_name": "LayoutModel",
     "state": {
      "_model_module": "@jupyter-widgets/base",
      "_model_module_version": "1.2.0",
      "_model_name": "LayoutModel",
      "_view_count": null,
      "_view_module": "@jupyter-widgets/base",
      "_view_module_version": "1.2.0",
      "_view_name": "LayoutView",
      "align_content": null,
      "align_items": null,
      "align_self": null,
      "border": null,
      "bottom": null,
      "display": null,
      "flex": null,
      "flex_flow": null,
      "grid_area": null,
      "grid_auto_columns": null,
      "grid_auto_flow": null,
      "grid_auto_rows": null,
      "grid_column": null,
      "grid_gap": null,
      "grid_row": null,
      "grid_template_areas": null,
      "grid_template_columns": null,
      "grid_template_rows": null,
      "height": null,
      "justify_content": null,
      "justify_items": null,
      "left": null,
      "margin": null,
      "max_height": null,
      "max_width": null,
      "min_height": null,
      "min_width": null,
      "object_fit": null,
      "object_position": null,
      "order": null,
      "overflow": null,
      "overflow_x": null,
      "overflow_y": null,
      "padding": null,
      "right": null,
      "top": null,
      "visibility": null,
      "width": null
     }
    },
    "67d5aff162d44b5baf07434e321baa86": {
     "model_module": "@jupyter-widgets/base",
     "model_module_version": "1.2.0",
     "model_name": "LayoutModel",
     "state": {
      "_model_module": "@jupyter-widgets/base",
      "_model_module_version": "1.2.0",
      "_model_name": "LayoutModel",
      "_view_count": null,
      "_view_module": "@jupyter-widgets/base",
      "_view_module_version": "1.2.0",
      "_view_name": "LayoutView",
      "align_content": null,
      "align_items": null,
      "align_self": null,
      "border": null,
      "bottom": null,
      "display": null,
      "flex": null,
      "flex_flow": null,
      "grid_area": null,
      "grid_auto_columns": null,
      "grid_auto_flow": null,
      "grid_auto_rows": null,
      "grid_column": null,
      "grid_gap": null,
      "grid_row": null,
      "grid_template_areas": null,
      "grid_template_columns": null,
      "grid_template_rows": null,
      "height": null,
      "justify_content": null,
      "justify_items": null,
      "left": null,
      "margin": null,
      "max_height": null,
      "max_width": null,
      "min_height": null,
      "min_width": null,
      "object_fit": null,
      "object_position": null,
      "order": null,
      "overflow": null,
      "overflow_x": null,
      "overflow_y": null,
      "padding": null,
      "right": null,
      "top": null,
      "visibility": null,
      "width": null
     }
    },
    "6afbacef2d5f4857b446b38e80cdeed7": {
     "model_module": "@jupyter-widgets/controls",
     "model_module_version": "1.5.0",
     "model_name": "FloatProgressModel",
     "state": {
      "_dom_classes": [],
      "_model_module": "@jupyter-widgets/controls",
      "_model_module_version": "1.5.0",
      "_model_name": "FloatProgressModel",
      "_view_count": null,
      "_view_module": "@jupyter-widgets/controls",
      "_view_module_version": "1.5.0",
      "_view_name": "ProgressView",
      "bar_style": "",
      "description": "",
      "description_tooltip": null,
      "layout": "IPY_MODEL_74da897f03644a2aa0b6f06ffd03d18b",
      "max": 1,
      "min": 0,
      "orientation": "horizontal",
      "style": "IPY_MODEL_c004e232d06541a79638510dd8707406",
      "value": 1
     }
    },
    "6c39ff9debb344ad86582fe5fb177e39": {
     "model_module": "@jupyter-widgets/controls",
     "model_module_version": "1.5.0",
     "model_name": "FloatProgressModel",
     "state": {
      "_dom_classes": [],
      "_model_module": "@jupyter-widgets/controls",
      "_model_module_version": "1.5.0",
      "_model_name": "FloatProgressModel",
      "_view_count": null,
      "_view_module": "@jupyter-widgets/controls",
      "_view_module_version": "1.5.0",
      "_view_name": "ProgressView",
      "bar_style": "",
      "description": "",
      "description_tooltip": null,
      "layout": "IPY_MODEL_c6455c50ca2a4fdeb63cbb840cad565d",
      "max": 1,
      "min": 0,
      "orientation": "horizontal",
      "style": "IPY_MODEL_d7fba28813624eae94d8bf4546fbf2de",
      "value": 1
     }
    },
    "74da897f03644a2aa0b6f06ffd03d18b": {
     "model_module": "@jupyter-widgets/base",
     "model_module_version": "1.2.0",
     "model_name": "LayoutModel",
     "state": {
      "_model_module": "@jupyter-widgets/base",
      "_model_module_version": "1.2.0",
      "_model_name": "LayoutModel",
      "_view_count": null,
      "_view_module": "@jupyter-widgets/base",
      "_view_module_version": "1.2.0",
      "_view_name": "LayoutView",
      "align_content": null,
      "align_items": null,
      "align_self": null,
      "border": null,
      "bottom": null,
      "display": null,
      "flex": null,
      "flex_flow": null,
      "grid_area": null,
      "grid_auto_columns": null,
      "grid_auto_flow": null,
      "grid_auto_rows": null,
      "grid_column": null,
      "grid_gap": null,
      "grid_row": null,
      "grid_template_areas": null,
      "grid_template_columns": null,
      "grid_template_rows": null,
      "height": null,
      "justify_content": null,
      "justify_items": null,
      "left": null,
      "margin": null,
      "max_height": null,
      "max_width": null,
      "min_height": null,
      "min_width": null,
      "object_fit": null,
      "object_position": null,
      "order": null,
      "overflow": null,
      "overflow_x": null,
      "overflow_y": null,
      "padding": null,
      "right": null,
      "top": null,
      "visibility": null,
      "width": null
     }
    },
    "8547f50b7d374e2b92da952f798aba3c": {
     "model_module": "@jupyter-widgets/base",
     "model_module_version": "1.2.0",
     "model_name": "LayoutModel",
     "state": {
      "_model_module": "@jupyter-widgets/base",
      "_model_module_version": "1.2.0",
      "_model_name": "LayoutModel",
      "_view_count": null,
      "_view_module": "@jupyter-widgets/base",
      "_view_module_version": "1.2.0",
      "_view_name": "LayoutView",
      "align_content": null,
      "align_items": null,
      "align_self": null,
      "border": null,
      "bottom": null,
      "display": null,
      "flex": null,
      "flex_flow": null,
      "grid_area": null,
      "grid_auto_columns": null,
      "grid_auto_flow": null,
      "grid_auto_rows": null,
      "grid_column": null,
      "grid_gap": null,
      "grid_row": null,
      "grid_template_areas": null,
      "grid_template_columns": null,
      "grid_template_rows": null,
      "height": null,
      "justify_content": null,
      "justify_items": null,
      "left": null,
      "margin": null,
      "max_height": null,
      "max_width": null,
      "min_height": null,
      "min_width": null,
      "object_fit": null,
      "object_position": null,
      "order": null,
      "overflow": null,
      "overflow_x": null,
      "overflow_y": null,
      "padding": null,
      "right": null,
      "top": null,
      "visibility": null,
      "width": null
     }
    },
    "8996eb8a9141472c97845253878fe162": {
     "model_module": "@jupyter-widgets/controls",
     "model_module_version": "1.5.0",
     "model_name": "LabelModel",
     "state": {
      "_dom_classes": [],
      "_model_module": "@jupyter-widgets/controls",
      "_model_module_version": "1.5.0",
      "_model_name": "LabelModel",
      "_view_count": null,
      "_view_module": "@jupyter-widgets/controls",
      "_view_module_version": "1.5.0",
      "_view_name": "LabelView",
      "description": "",
      "description_tooltip": null,
      "layout": "IPY_MODEL_0d622c74e91e40659a66f25c8f162ec0",
      "placeholder": "​",
      "style": "IPY_MODEL_8d633cd423584d1580d52d788d4afaf2",
      "value": "0.013 MB of 0.013 MB uploaded\r"
     }
    },
    "8d633cd423584d1580d52d788d4afaf2": {
     "model_module": "@jupyter-widgets/controls",
     "model_module_version": "1.5.0",
     "model_name": "DescriptionStyleModel",
     "state": {
      "_model_module": "@jupyter-widgets/controls",
      "_model_module_version": "1.5.0",
      "_model_name": "DescriptionStyleModel",
      "_view_count": null,
      "_view_module": "@jupyter-widgets/base",
      "_view_module_version": "1.2.0",
      "_view_name": "StyleView",
      "description_width": ""
     }
    },
    "95296bec13c04d8ca612929a61f83d5e": {
     "model_module": "@jupyter-widgets/controls",
     "model_module_version": "1.5.0",
     "model_name": "FloatProgressModel",
     "state": {
      "_dom_classes": [],
      "_model_module": "@jupyter-widgets/controls",
      "_model_module_version": "1.5.0",
      "_model_name": "FloatProgressModel",
      "_view_count": null,
      "_view_module": "@jupyter-widgets/controls",
      "_view_module_version": "1.5.0",
      "_view_name": "ProgressView",
      "bar_style": "",
      "description": "",
      "description_tooltip": null,
      "layout": "IPY_MODEL_8547f50b7d374e2b92da952f798aba3c",
      "max": 1,
      "min": 0,
      "orientation": "horizontal",
      "style": "IPY_MODEL_98cece803c8548a886d0bb45e98b0724",
      "value": 1
     }
    },
    "98cece803c8548a886d0bb45e98b0724": {
     "model_module": "@jupyter-widgets/controls",
     "model_module_version": "1.5.0",
     "model_name": "ProgressStyleModel",
     "state": {
      "_model_module": "@jupyter-widgets/controls",
      "_model_module_version": "1.5.0",
      "_model_name": "ProgressStyleModel",
      "_view_count": null,
      "_view_module": "@jupyter-widgets/base",
      "_view_module_version": "1.2.0",
      "_view_name": "StyleView",
      "bar_color": null,
      "description_width": ""
     }
    },
    "9dd2f8a0d1e04807baae8a6ffa327f6d": {
     "model_module": "@jupyter-widgets/base",
     "model_module_version": "1.2.0",
     "model_name": "LayoutModel",
     "state": {
      "_model_module": "@jupyter-widgets/base",
      "_model_module_version": "1.2.0",
      "_model_name": "LayoutModel",
      "_view_count": null,
      "_view_module": "@jupyter-widgets/base",
      "_view_module_version": "1.2.0",
      "_view_name": "LayoutView",
      "align_content": null,
      "align_items": null,
      "align_self": null,
      "border": null,
      "bottom": null,
      "display": null,
      "flex": null,
      "flex_flow": null,
      "grid_area": null,
      "grid_auto_columns": null,
      "grid_auto_flow": null,
      "grid_auto_rows": null,
      "grid_column": null,
      "grid_gap": null,
      "grid_row": null,
      "grid_template_areas": null,
      "grid_template_columns": null,
      "grid_template_rows": null,
      "height": null,
      "justify_content": null,
      "justify_items": null,
      "left": null,
      "margin": null,
      "max_height": null,
      "max_width": null,
      "min_height": null,
      "min_width": null,
      "object_fit": null,
      "object_position": null,
      "order": null,
      "overflow": null,
      "overflow_x": null,
      "overflow_y": null,
      "padding": null,
      "right": null,
      "top": null,
      "visibility": null,
      "width": null
     }
    },
    "a42bfb356a994cf889374bd7075e1b54": {
     "model_module": "@jupyter-widgets/controls",
     "model_module_version": "1.5.0",
     "model_name": "LabelModel",
     "state": {
      "_dom_classes": [],
      "_model_module": "@jupyter-widgets/controls",
      "_model_module_version": "1.5.0",
      "_model_name": "LabelModel",
      "_view_count": null,
      "_view_module": "@jupyter-widgets/controls",
      "_view_module_version": "1.5.0",
      "_view_name": "LabelView",
      "description": "",
      "description_tooltip": null,
      "layout": "IPY_MODEL_a6be7901d1334df79fe31dc6f8bebb07",
      "placeholder": "​",
      "style": "IPY_MODEL_41057b08a95543799a4e6f8f71cb44cc",
      "value": "0.013 MB of 0.013 MB uploaded\r"
     }
    },
    "a6738a6748e24beba00c6793d88b691f": {
     "model_module": "@jupyter-widgets/base",
     "model_module_version": "1.2.0",
     "model_name": "LayoutModel",
     "state": {
      "_model_module": "@jupyter-widgets/base",
      "_model_module_version": "1.2.0",
      "_model_name": "LayoutModel",
      "_view_count": null,
      "_view_module": "@jupyter-widgets/base",
      "_view_module_version": "1.2.0",
      "_view_name": "LayoutView",
      "align_content": null,
      "align_items": null,
      "align_self": null,
      "border": null,
      "bottom": null,
      "display": null,
      "flex": null,
      "flex_flow": null,
      "grid_area": null,
      "grid_auto_columns": null,
      "grid_auto_flow": null,
      "grid_auto_rows": null,
      "grid_column": null,
      "grid_gap": null,
      "grid_row": null,
      "grid_template_areas": null,
      "grid_template_columns": null,
      "grid_template_rows": null,
      "height": null,
      "justify_content": null,
      "justify_items": null,
      "left": null,
      "margin": null,
      "max_height": null,
      "max_width": null,
      "min_height": null,
      "min_width": null,
      "object_fit": null,
      "object_position": null,
      "order": null,
      "overflow": null,
      "overflow_x": null,
      "overflow_y": null,
      "padding": null,
      "right": null,
      "top": null,
      "visibility": null,
      "width": null
     }
    },
    "a6be7901d1334df79fe31dc6f8bebb07": {
     "model_module": "@jupyter-widgets/base",
     "model_module_version": "1.2.0",
     "model_name": "LayoutModel",
     "state": {
      "_model_module": "@jupyter-widgets/base",
      "_model_module_version": "1.2.0",
      "_model_name": "LayoutModel",
      "_view_count": null,
      "_view_module": "@jupyter-widgets/base",
      "_view_module_version": "1.2.0",
      "_view_name": "LayoutView",
      "align_content": null,
      "align_items": null,
      "align_self": null,
      "border": null,
      "bottom": null,
      "display": null,
      "flex": null,
      "flex_flow": null,
      "grid_area": null,
      "grid_auto_columns": null,
      "grid_auto_flow": null,
      "grid_auto_rows": null,
      "grid_column": null,
      "grid_gap": null,
      "grid_row": null,
      "grid_template_areas": null,
      "grid_template_columns": null,
      "grid_template_rows": null,
      "height": null,
      "justify_content": null,
      "justify_items": null,
      "left": null,
      "margin": null,
      "max_height": null,
      "max_width": null,
      "min_height": null,
      "min_width": null,
      "object_fit": null,
      "object_position": null,
      "order": null,
      "overflow": null,
      "overflow_x": null,
      "overflow_y": null,
      "padding": null,
      "right": null,
      "top": null,
      "visibility": null,
      "width": null
     }
    },
    "b18fb91711aa45b083a1ef615a71d51a": {
     "model_module": "@jupyter-widgets/base",
     "model_module_version": "1.2.0",
     "model_name": "LayoutModel",
     "state": {
      "_model_module": "@jupyter-widgets/base",
      "_model_module_version": "1.2.0",
      "_model_name": "LayoutModel",
      "_view_count": null,
      "_view_module": "@jupyter-widgets/base",
      "_view_module_version": "1.2.0",
      "_view_name": "LayoutView",
      "align_content": null,
      "align_items": null,
      "align_self": null,
      "border": null,
      "bottom": null,
      "display": null,
      "flex": null,
      "flex_flow": null,
      "grid_area": null,
      "grid_auto_columns": null,
      "grid_auto_flow": null,
      "grid_auto_rows": null,
      "grid_column": null,
      "grid_gap": null,
      "grid_row": null,
      "grid_template_areas": null,
      "grid_template_columns": null,
      "grid_template_rows": null,
      "height": null,
      "justify_content": null,
      "justify_items": null,
      "left": null,
      "margin": null,
      "max_height": null,
      "max_width": null,
      "min_height": null,
      "min_width": null,
      "object_fit": null,
      "object_position": null,
      "order": null,
      "overflow": null,
      "overflow_x": null,
      "overflow_y": null,
      "padding": null,
      "right": null,
      "top": null,
      "visibility": null,
      "width": null
     }
    },
    "b64ed80ce795496185baa851f2b8db84": {
     "model_module": "@jupyter-widgets/controls",
     "model_module_version": "1.5.0",
     "model_name": "VBoxModel",
     "state": {
      "_dom_classes": [],
      "_model_module": "@jupyter-widgets/controls",
      "_model_module_version": "1.5.0",
      "_model_name": "VBoxModel",
      "_view_count": null,
      "_view_module": "@jupyter-widgets/controls",
      "_view_module_version": "1.5.0",
      "_view_name": "VBoxView",
      "box_style": "",
      "children": [
       "IPY_MODEL_cfa92604573c4669afa0b2ee385e0380",
       "IPY_MODEL_95296bec13c04d8ca612929a61f83d5e"
      ],
      "layout": "IPY_MODEL_67d5aff162d44b5baf07434e321baa86"
     }
    },
    "c00243f87abb462890b23fdb7cefb0f2": {
     "model_module": "@jupyter-widgets/controls",
     "model_module_version": "1.5.0",
     "model_name": "VBoxModel",
     "state": {
      "_dom_classes": [],
      "_model_module": "@jupyter-widgets/controls",
      "_model_module_version": "1.5.0",
      "_model_name": "VBoxModel",
      "_view_count": null,
      "_view_module": "@jupyter-widgets/controls",
      "_view_module_version": "1.5.0",
      "_view_name": "VBoxView",
      "box_style": "",
      "children": [
       "IPY_MODEL_8996eb8a9141472c97845253878fe162",
       "IPY_MODEL_4cedd6a8619a41058fc51d7185198651"
      ],
      "layout": "IPY_MODEL_1a26403426514738aed8ee868d19b5af"
     }
    },
    "c004e232d06541a79638510dd8707406": {
     "model_module": "@jupyter-widgets/controls",
     "model_module_version": "1.5.0",
     "model_name": "ProgressStyleModel",
     "state": {
      "_model_module": "@jupyter-widgets/controls",
      "_model_module_version": "1.5.0",
      "_model_name": "ProgressStyleModel",
      "_view_count": null,
      "_view_module": "@jupyter-widgets/base",
      "_view_module_version": "1.2.0",
      "_view_name": "StyleView",
      "bar_color": null,
      "description_width": ""
     }
    },
    "c2b898a66899487eab5e7ebe62e14951": {
     "model_module": "@jupyter-widgets/controls",
     "model_module_version": "1.5.0",
     "model_name": "VBoxModel",
     "state": {
      "_dom_classes": [],
      "_model_module": "@jupyter-widgets/controls",
      "_model_module_version": "1.5.0",
      "_model_name": "VBoxModel",
      "_view_count": null,
      "_view_module": "@jupyter-widgets/controls",
      "_view_module_version": "1.5.0",
      "_view_name": "VBoxView",
      "box_style": "",
      "children": [
       "IPY_MODEL_fc600e0006c04645af44f008fed54933",
       "IPY_MODEL_6afbacef2d5f4857b446b38e80cdeed7"
      ],
      "layout": "IPY_MODEL_9dd2f8a0d1e04807baae8a6ffa327f6d"
     }
    },
    "c6455c50ca2a4fdeb63cbb840cad565d": {
     "model_module": "@jupyter-widgets/base",
     "model_module_version": "1.2.0",
     "model_name": "LayoutModel",
     "state": {
      "_model_module": "@jupyter-widgets/base",
      "_model_module_version": "1.2.0",
      "_model_name": "LayoutModel",
      "_view_count": null,
      "_view_module": "@jupyter-widgets/base",
      "_view_module_version": "1.2.0",
      "_view_name": "LayoutView",
      "align_content": null,
      "align_items": null,
      "align_self": null,
      "border": null,
      "bottom": null,
      "display": null,
      "flex": null,
      "flex_flow": null,
      "grid_area": null,
      "grid_auto_columns": null,
      "grid_auto_flow": null,
      "grid_auto_rows": null,
      "grid_column": null,
      "grid_gap": null,
      "grid_row": null,
      "grid_template_areas": null,
      "grid_template_columns": null,
      "grid_template_rows": null,
      "height": null,
      "justify_content": null,
      "justify_items": null,
      "left": null,
      "margin": null,
      "max_height": null,
      "max_width": null,
      "min_height": null,
      "min_width": null,
      "object_fit": null,
      "object_position": null,
      "order": null,
      "overflow": null,
      "overflow_x": null,
      "overflow_y": null,
      "padding": null,
      "right": null,
      "top": null,
      "visibility": null,
      "width": null
     }
    },
    "cfa92604573c4669afa0b2ee385e0380": {
     "model_module": "@jupyter-widgets/controls",
     "model_module_version": "1.5.0",
     "model_name": "LabelModel",
     "state": {
      "_dom_classes": [],
      "_model_module": "@jupyter-widgets/controls",
      "_model_module_version": "1.5.0",
      "_model_name": "LabelModel",
      "_view_count": null,
      "_view_module": "@jupyter-widgets/controls",
      "_view_module_version": "1.5.0",
      "_view_name": "LabelView",
      "description": "",
      "description_tooltip": null,
      "layout": "IPY_MODEL_0068b83135b742b0b32ac24db595dd6b",
      "placeholder": "​",
      "style": "IPY_MODEL_d04e0016781840648bc3c6a7d75b9ece",
      "value": "0.013 MB of 0.013 MB uploaded\r"
     }
    },
    "d04e0016781840648bc3c6a7d75b9ece": {
     "model_module": "@jupyter-widgets/controls",
     "model_module_version": "1.5.0",
     "model_name": "DescriptionStyleModel",
     "state": {
      "_model_module": "@jupyter-widgets/controls",
      "_model_module_version": "1.5.0",
      "_model_name": "DescriptionStyleModel",
      "_view_count": null,
      "_view_module": "@jupyter-widgets/base",
      "_view_module_version": "1.2.0",
      "_view_name": "StyleView",
      "description_width": ""
     }
    },
    "d7fba28813624eae94d8bf4546fbf2de": {
     "model_module": "@jupyter-widgets/controls",
     "model_module_version": "1.5.0",
     "model_name": "ProgressStyleModel",
     "state": {
      "_model_module": "@jupyter-widgets/controls",
      "_model_module_version": "1.5.0",
      "_model_name": "ProgressStyleModel",
      "_view_count": null,
      "_view_module": "@jupyter-widgets/base",
      "_view_module_version": "1.2.0",
      "_view_name": "StyleView",
      "bar_color": null,
      "description_width": ""
     }
    },
    "e6323d85ccee4d64817b7d1a906bf7e6": {
     "model_module": "@jupyter-widgets/controls",
     "model_module_version": "1.5.0",
     "model_name": "ProgressStyleModel",
     "state": {
      "_model_module": "@jupyter-widgets/controls",
      "_model_module_version": "1.5.0",
      "_model_name": "ProgressStyleModel",
      "_view_count": null,
      "_view_module": "@jupyter-widgets/base",
      "_view_module_version": "1.2.0",
      "_view_name": "StyleView",
      "bar_color": null,
      "description_width": ""
     }
    },
    "f71a3f49ac834c12ad30d91cd9510250": {
     "model_module": "@jupyter-widgets/controls",
     "model_module_version": "1.5.0",
     "model_name": "VBoxModel",
     "state": {
      "_dom_classes": [],
      "_model_module": "@jupyter-widgets/controls",
      "_model_module_version": "1.5.0",
      "_model_name": "VBoxModel",
      "_view_count": null,
      "_view_module": "@jupyter-widgets/controls",
      "_view_module_version": "1.5.0",
      "_view_name": "VBoxView",
      "box_style": "",
      "children": [
       "IPY_MODEL_a42bfb356a994cf889374bd7075e1b54",
       "IPY_MODEL_6c39ff9debb344ad86582fe5fb177e39"
      ],
      "layout": "IPY_MODEL_64d98e3b7a784820b181b10749a687d4"
     }
    },
    "fc600e0006c04645af44f008fed54933": {
     "model_module": "@jupyter-widgets/controls",
     "model_module_version": "1.5.0",
     "model_name": "LabelModel",
     "state": {
      "_dom_classes": [],
      "_model_module": "@jupyter-widgets/controls",
      "_model_module_version": "1.5.0",
      "_model_name": "LabelModel",
      "_view_count": null,
      "_view_module": "@jupyter-widgets/controls",
      "_view_module_version": "1.5.0",
      "_view_name": "LabelView",
      "description": "",
      "description_tooltip": null,
      "layout": "IPY_MODEL_b18fb91711aa45b083a1ef615a71d51a",
      "placeholder": "​",
      "style": "IPY_MODEL_567028924b69428a9fa1f2a64dba0d18",
      "value": "0.013 MB of 0.013 MB uploaded\r"
     }
    }
   }
  }
 },
 "nbformat": 4,
 "nbformat_minor": 1
}
