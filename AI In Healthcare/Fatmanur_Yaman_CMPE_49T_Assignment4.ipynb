{
  "cells": [
    {
      "cell_type": "markdown",
      "metadata": {
        "id": "HUzFO3Za-AU4"
      },
      "source": [
        "### 1. Download the Data from Kaggle and Unzip\n"
      ]
    },
    {
      "cell_type": "code",
      "execution_count": null,
      "metadata": {
        "id": "_g1YiJKHK5M8"
      },
      "outputs": [],
      "source": [
        "!pip install -q kaggle"
      ]
    },
    {
      "cell_type": "code",
      "execution_count": null,
      "metadata": {
        "colab": {
          "base_uri": "https://localhost:8080/",
          "height": 90
        },
        "id": "YTnECrlJK7UP",
        "outputId": "32e58d52-d1fd-4cb0-c61d-23a7a7ab2c96"
      },
      "outputs": [
        {
          "data": {
            "text/html": [
              "\n",
              "     <input type=\"file\" id=\"files-8573e7d0-f27c-4c67-9c0d-861b62eb43fa\" name=\"files[]\" multiple disabled\n",
              "        style=\"border:none\" />\n",
              "     <output id=\"result-8573e7d0-f27c-4c67-9c0d-861b62eb43fa\">\n",
              "      Upload widget is only available when the cell has been executed in the\n",
              "      current browser session. Please rerun this cell to enable.\n",
              "      </output>\n",
              "      <script>// Copyright 2017 Google LLC\n",
              "//\n",
              "// Licensed under the Apache License, Version 2.0 (the \"License\");\n",
              "// you may not use this file except in compliance with the License.\n",
              "// You may obtain a copy of the License at\n",
              "//\n",
              "//      http://www.apache.org/licenses/LICENSE-2.0\n",
              "//\n",
              "// Unless required by applicable law or agreed to in writing, software\n",
              "// distributed under the License is distributed on an \"AS IS\" BASIS,\n",
              "// WITHOUT WARRANTIES OR CONDITIONS OF ANY KIND, either express or implied.\n",
              "// See the License for the specific language governing permissions and\n",
              "// limitations under the License.\n",
              "\n",
              "/**\n",
              " * @fileoverview Helpers for google.colab Python module.\n",
              " */\n",
              "(function(scope) {\n",
              "function span(text, styleAttributes = {}) {\n",
              "  const element = document.createElement('span');\n",
              "  element.textContent = text;\n",
              "  for (const key of Object.keys(styleAttributes)) {\n",
              "    element.style[key] = styleAttributes[key];\n",
              "  }\n",
              "  return element;\n",
              "}\n",
              "\n",
              "// Max number of bytes which will be uploaded at a time.\n",
              "const MAX_PAYLOAD_SIZE = 100 * 1024;\n",
              "\n",
              "function _uploadFiles(inputId, outputId) {\n",
              "  const steps = uploadFilesStep(inputId, outputId);\n",
              "  const outputElement = document.getElementById(outputId);\n",
              "  // Cache steps on the outputElement to make it available for the next call\n",
              "  // to uploadFilesContinue from Python.\n",
              "  outputElement.steps = steps;\n",
              "\n",
              "  return _uploadFilesContinue(outputId);\n",
              "}\n",
              "\n",
              "// This is roughly an async generator (not supported in the browser yet),\n",
              "// where there are multiple asynchronous steps and the Python side is going\n",
              "// to poll for completion of each step.\n",
              "// This uses a Promise to block the python side on completion of each step,\n",
              "// then passes the result of the previous step as the input to the next step.\n",
              "function _uploadFilesContinue(outputId) {\n",
              "  const outputElement = document.getElementById(outputId);\n",
              "  const steps = outputElement.steps;\n",
              "\n",
              "  const next = steps.next(outputElement.lastPromiseValue);\n",
              "  return Promise.resolve(next.value.promise).then((value) => {\n",
              "    // Cache the last promise value to make it available to the next\n",
              "    // step of the generator.\n",
              "    outputElement.lastPromiseValue = value;\n",
              "    return next.value.response;\n",
              "  });\n",
              "}\n",
              "\n",
              "/**\n",
              " * Generator function which is called between each async step of the upload\n",
              " * process.\n",
              " * @param {string} inputId Element ID of the input file picker element.\n",
              " * @param {string} outputId Element ID of the output display.\n",
              " * @return {!Iterable<!Object>} Iterable of next steps.\n",
              " */\n",
              "function* uploadFilesStep(inputId, outputId) {\n",
              "  const inputElement = document.getElementById(inputId);\n",
              "  inputElement.disabled = false;\n",
              "\n",
              "  const outputElement = document.getElementById(outputId);\n",
              "  outputElement.innerHTML = '';\n",
              "\n",
              "  const pickedPromise = new Promise((resolve) => {\n",
              "    inputElement.addEventListener('change', (e) => {\n",
              "      resolve(e.target.files);\n",
              "    });\n",
              "  });\n",
              "\n",
              "  const cancel = document.createElement('button');\n",
              "  inputElement.parentElement.appendChild(cancel);\n",
              "  cancel.textContent = 'Cancel upload';\n",
              "  const cancelPromise = new Promise((resolve) => {\n",
              "    cancel.onclick = () => {\n",
              "      resolve(null);\n",
              "    };\n",
              "  });\n",
              "\n",
              "  // Wait for the user to pick the files.\n",
              "  const files = yield {\n",
              "    promise: Promise.race([pickedPromise, cancelPromise]),\n",
              "    response: {\n",
              "      action: 'starting',\n",
              "    }\n",
              "  };\n",
              "\n",
              "  cancel.remove();\n",
              "\n",
              "  // Disable the input element since further picks are not allowed.\n",
              "  inputElement.disabled = true;\n",
              "\n",
              "  if (!files) {\n",
              "    return {\n",
              "      response: {\n",
              "        action: 'complete',\n",
              "      }\n",
              "    };\n",
              "  }\n",
              "\n",
              "  for (const file of files) {\n",
              "    const li = document.createElement('li');\n",
              "    li.append(span(file.name, {fontWeight: 'bold'}));\n",
              "    li.append(span(\n",
              "        `(${file.type || 'n/a'}) - ${file.size} bytes, ` +\n",
              "        `last modified: ${\n",
              "            file.lastModifiedDate ? file.lastModifiedDate.toLocaleDateString() :\n",
              "                                    'n/a'} - `));\n",
              "    const percent = span('0% done');\n",
              "    li.appendChild(percent);\n",
              "\n",
              "    outputElement.appendChild(li);\n",
              "\n",
              "    const fileDataPromise = new Promise((resolve) => {\n",
              "      const reader = new FileReader();\n",
              "      reader.onload = (e) => {\n",
              "        resolve(e.target.result);\n",
              "      };\n",
              "      reader.readAsArrayBuffer(file);\n",
              "    });\n",
              "    // Wait for the data to be ready.\n",
              "    let fileData = yield {\n",
              "      promise: fileDataPromise,\n",
              "      response: {\n",
              "        action: 'continue',\n",
              "      }\n",
              "    };\n",
              "\n",
              "    // Use a chunked sending to avoid message size limits. See b/62115660.\n",
              "    let position = 0;\n",
              "    do {\n",
              "      const length = Math.min(fileData.byteLength - position, MAX_PAYLOAD_SIZE);\n",
              "      const chunk = new Uint8Array(fileData, position, length);\n",
              "      position += length;\n",
              "\n",
              "      const base64 = btoa(String.fromCharCode.apply(null, chunk));\n",
              "      yield {\n",
              "        response: {\n",
              "          action: 'append',\n",
              "          file: file.name,\n",
              "          data: base64,\n",
              "        },\n",
              "      };\n",
              "\n",
              "      let percentDone = fileData.byteLength === 0 ?\n",
              "          100 :\n",
              "          Math.round((position / fileData.byteLength) * 100);\n",
              "      percent.textContent = `${percentDone}% done`;\n",
              "\n",
              "    } while (position < fileData.byteLength);\n",
              "  }\n",
              "\n",
              "  // All done.\n",
              "  yield {\n",
              "    response: {\n",
              "      action: 'complete',\n",
              "    }\n",
              "  };\n",
              "}\n",
              "\n",
              "scope.google = scope.google || {};\n",
              "scope.google.colab = scope.google.colab || {};\n",
              "scope.google.colab._files = {\n",
              "  _uploadFiles,\n",
              "  _uploadFilesContinue,\n",
              "};\n",
              "})(self);\n",
              "</script> "
            ],
            "text/plain": [
              "<IPython.core.display.HTML object>"
            ]
          },
          "metadata": {},
          "output_type": "display_data"
        },
        {
          "name": "stdout",
          "output_type": "stream",
          "text": [
            "Saving kaggle.json to kaggle (2).json\n"
          ]
        },
        {
          "data": {
            "text/plain": [
              "{'kaggle (2).json': b'{\"username\":\"fatmanuryaman\",\"key\":\"e1244bfe070d16323b3d571469e74df4\"}'}"
            ]
          },
          "execution_count": 2,
          "metadata": {},
          "output_type": "execute_result"
        }
      ],
      "source": [
        "from google.colab import files\n",
        "files.upload()"
      ]
    },
    {
      "cell_type": "code",
      "execution_count": null,
      "metadata": {
        "colab": {
          "base_uri": "https://localhost:8080/"
        },
        "id": "RPS6a8XtLY1t",
        "outputId": "f4d28b71-fb57-4f5c-ab07-320edc00da05"
      },
      "outputs": [
        {
          "name": "stdout",
          "output_type": "stream",
          "text": [
            "mkdir: cannot create directory ‘/root/.kaggle’: File exists\n",
            "large-covid19-ct-slice-dataset.zip: Skipping, found more recently modified local copy (use --force to force download)\n"
          ]
        }
      ],
      "source": [
        "!mkdir ~/.kaggle\n",
        "!cp kaggle.json ~/.kaggle/\n",
        "!chmod 600 ~/.kaggle/kaggle.json\n",
        "!kaggle datasets download -d 'maedemaftouni/large-covid19-ct-slice-dataset'"
      ]
    },
    {
      "cell_type": "code",
      "execution_count": null,
      "metadata": {
        "colab": {
          "base_uri": "https://localhost:8080/"
        },
        "id": "P5ghbm_EsCVK",
        "outputId": "43fddee7-539d-4e1f-9dd1-b0b5b141ced5"
      },
      "outputs": [
        {
          "name": "stdout",
          "output_type": "stream",
          "text": [
            "Drive already mounted at /content/gdrive; to attempt to forcibly remount, call drive.mount(\"/content/gdrive\", force_remount=True).\n"
          ]
        }
      ],
      "source": [
        "import shutil\n",
        "from google.colab import drive\n",
        "\n",
        "drive.mount(\"/content/gdrive\") # Connect to google drive as we will save model weights here\n",
        "shutil.unpack_archive(\"/content/large-covid19-ct-slice-dataset.zip\", \"/tmp/\")"
      ]
    },
    {
      "cell_type": "markdown",
      "metadata": {
        "id": "QMKxclhvd9fz"
      },
      "source": [
        "### 2. Splitting"
      ]
    },
    {
      "cell_type": "code",
      "execution_count": null,
      "metadata": {
        "colab": {
          "base_uri": "https://localhost:8080/"
        },
        "id": "a6sKDOT9lO4P",
        "outputId": "d4e392f7-49bd-43ea-99d7-ada21c7951ea"
      },
      "outputs": [
        {
          "name": "stdout",
          "output_type": "stream",
          "text": [
            "Normal\n",
            "Number of patient:  604\n",
            "Number of image:  6893\n",
            "\n",
            "Covid\n",
            "Number of patient:  464\n",
            "Number of image:  7593\n",
            "\n",
            "CAP\n",
            "Number of patient:  54\n",
            "Number of image:  2618\n"
          ]
        }
      ],
      "source": [
        "import pandas as pd\n",
        "\n",
        "meta_normal = pd.read_csv(\"/tmp/meta_data_normal.csv\")\n",
        "meta_covid = pd.read_csv(\"/tmp/meta_data_covid.csv\", encoding='windows-1252')\n",
        "meta_cap = pd.read_csv(\"/tmp/meta_data_cap.csv\")\n",
        "\n",
        "# Define the variables below using meta dataframes\n",
        "\n",
        "normal_pt_nb = len(pd.unique(meta_normal[\"Patient ID\"])) ##### INSERT YOUR CODE HERE ##### # Number of patients in normal group\n",
        "covid_pt_nb = len(pd.unique(meta_covid[\"Patient ID\"])) ##### INSERT YOUR CODE HERE ##### # Number of patients in covid group\n",
        "cap_pt_nb = len(pd.unique(meta_cap[\"Patient ID\"])) ##### INSERT YOUR CODE HERE ##### # Number of patients in CAP group\n",
        "\n",
        "normal_img_nb = len(meta_normal) ##### INSERT YOUR CODE HERE ##### # Number of images in normal group\n",
        "covid_img_nb = len(meta_covid) ##### INSERT YOUR CODE HERE ##### # Number of images in covid group\n",
        "cap_img_nb = len(meta_cap) ##### INSERT YOUR CODE HERE ##### # Number of images in CAP group\n",
        "\n",
        "print(\"Normal\")\n",
        "print(\"Number of patient: \", normal_pt_nb)\n",
        "print(\"Number of image: \", normal_img_nb)\n",
        "\n",
        "print(\"\\nCovid\")\n",
        "print(\"Number of patient: \", covid_pt_nb)\n",
        "print(\"Number of image: \", covid_img_nb)\n",
        "\n",
        "print(\"\\nCAP\")\n",
        "print(\"Number of patient: \", cap_pt_nb)\n",
        "print(\"Number of image: \", cap_img_nb)\n"
      ]
    },
    {
      "cell_type": "code",
      "execution_count": null,
      "metadata": {
        "colab": {
          "base_uri": "https://localhost:8080/"
        },
        "id": "CBbpEW_6qVHJ",
        "outputId": "9e3e3a89-e639-455a-e2ef-36256d635a02"
      },
      "outputs": [
        {
          "name": "stdout",
          "output_type": "stream",
          "text": [
            "Slice-based val size: \n",
            "Normal:  0.21\n",
            "Covid:  0.18\n",
            "\n",
            "Slice-based test size: \n",
            "Normal:  0.51\n",
            "Covid:  0.5\n"
          ]
        }
      ],
      "source": [
        "\n",
        "import numpy as np\n",
        "\n",
        "# Set seed to get the same result (I specifically chose this seed after a couple of tries so that we'll have approximately same split ratios on slice level as well)\n",
        "np.random.seed(58)\n",
        "val_split_size = .2\n",
        "test_split_size = .5\n",
        "\n",
        "normal_val_file_list, normal_test_file_list = [], []\n",
        "covid_val_file_list, covid_test_file_list = [], []\n",
        "##### START OF YOUR CODE #####\n",
        "normal_pt_list = np.array(pd.unique(meta_normal[\"Patient ID\"]))\n",
        "np.random.shuffle(normal_pt_list)\n",
        "normal_val_pts = normal_pt_list[:int(normal_pt_nb * val_split_size)]\n",
        "normal_test_pts = normal_pt_list[int(normal_pt_nb * val_split_size): int(normal_pt_nb * (val_split_size+test_split_size))]\n",
        "\n",
        "normal_val_file_list = []\n",
        "for pt in normal_val_pts:\n",
        "  for i in meta_normal[\"File name\"][meta_normal[\"Patient ID\"] == pt].values:\n",
        "    normal_val_file_list.append(i)\n",
        "\n",
        "normal_test_file_list = []\n",
        "for pt in normal_test_pts:\n",
        "  for i in meta_normal[\"File name\"][meta_normal[\"Patient ID\"] == pt].values:\n",
        "    normal_test_file_list.append(i)\n",
        "\n",
        "covid_pt_list = np.array(pd.unique(meta_covid[\"Patient ID\"]))\n",
        "np.random.shuffle(covid_pt_list)\n",
        "covid_val_pts = covid_pt_list[:int(covid_pt_nb * val_split_size)]\n",
        "covid_test_pts = covid_pt_list[int(covid_pt_nb * val_split_size): int(covid_pt_nb * (val_split_size+test_split_size))]\n",
        "\n",
        "covid_val_file_list = []\n",
        "for pt in covid_val_pts:\n",
        "  for i in meta_covid[\"File name\"][meta_covid[\"Patient ID\"] == pt].values:\n",
        "    covid_val_file_list.append(i)\n",
        "\n",
        "covid_test_file_list = []\n",
        "for pt in covid_test_pts:\n",
        "  for i in meta_covid[\"File name\"][meta_covid[\"Patient ID\"] == pt].values:\n",
        "    covid_test_file_list.append(i)\n",
        "##### END OF YOUR CODE #####\n",
        "\n",
        "print(\"Slice-based val size: \")\n",
        "print(\"Normal: \", round(len(normal_val_file_list)/normal_img_nb, 2))\n",
        "print(\"Covid: \", round(len(covid_val_file_list)/covid_img_nb, 2))\n",
        "\n",
        "print(\"\\nSlice-based test size: \")\n",
        "print(\"Normal: \", round(len(normal_test_file_list)/normal_img_nb, 2))\n",
        "print(\"Covid: \", round(len(covid_test_file_list)/covid_img_nb, 2))"
      ]
    },
    {
      "cell_type": "code",
      "execution_count": null,
      "metadata": {
        "colab": {
          "base_uri": "https://localhost:8080/",
          "height": 366
        },
        "id": "HwvLfZkS340C",
        "outputId": "de847d2c-ebad-4ee5-8d00-f7be6489646b"
      },
      "outputs": [
        {
          "ename": "Error",
          "evalue": "ignored",
          "output_type": "error",
          "traceback": [
            "\u001b[0;31m---------------------------------------------------------------------------\u001b[0m",
            "\u001b[0;31mError\u001b[0m                                     Traceback (most recent call last)",
            "\u001b[0;32m<ipython-input-7-93bb008dd2a0>\u001b[0m in \u001b[0;36m<cell line: 8>\u001b[0;34m()\u001b[0m\n\u001b[1;32m     12\u001b[0m   \u001b[0;31m# test\u001b[0m\u001b[0;34m\u001b[0m\u001b[0;34m\u001b[0m\u001b[0m\n\u001b[1;32m     13\u001b[0m   \u001b[0;32melif\u001b[0m \u001b[0mpt\u001b[0m \u001b[0;32min\u001b[0m \u001b[0mnormal_test_file_list\u001b[0m\u001b[0;34m:\u001b[0m\u001b[0;34m\u001b[0m\u001b[0;34m\u001b[0m\u001b[0m\n\u001b[0;32m---> 14\u001b[0;31m     \u001b[0mshutil\u001b[0m\u001b[0;34m.\u001b[0m\u001b[0mmove\u001b[0m\u001b[0;34m(\u001b[0m\u001b[0;34m\"/tmp/curated_data/curated_data/1NonCOVID/\"\u001b[0m\u001b[0;34m+\u001b[0m\u001b[0mpt\u001b[0m\u001b[0;34m,\u001b[0m \u001b[0;34m\"/tmp/curated_data/data/test/normal/\"\u001b[0m\u001b[0;34m)\u001b[0m\u001b[0;34m\u001b[0m\u001b[0;34m\u001b[0m\u001b[0m\n\u001b[0m\u001b[1;32m     15\u001b[0m   \u001b[0;31m# train\u001b[0m\u001b[0;34m\u001b[0m\u001b[0;34m\u001b[0m\u001b[0m\n\u001b[1;32m     16\u001b[0m   \u001b[0;32melse\u001b[0m\u001b[0;34m:\u001b[0m\u001b[0;34m\u001b[0m\u001b[0;34m\u001b[0m\u001b[0m\n",
            "\u001b[0;32m/usr/lib/python3.10/shutil.py\u001b[0m in \u001b[0;36mmove\u001b[0;34m(src, dst, copy_function)\u001b[0m\n\u001b[1;32m    812\u001b[0m \u001b[0;34m\u001b[0m\u001b[0m\n\u001b[1;32m    813\u001b[0m         \u001b[0;32mif\u001b[0m \u001b[0mos\u001b[0m\u001b[0;34m.\u001b[0m\u001b[0mpath\u001b[0m\u001b[0;34m.\u001b[0m\u001b[0mexists\u001b[0m\u001b[0;34m(\u001b[0m\u001b[0mreal_dst\u001b[0m\u001b[0;34m)\u001b[0m\u001b[0;34m:\u001b[0m\u001b[0;34m\u001b[0m\u001b[0;34m\u001b[0m\u001b[0m\n\u001b[0;32m--> 814\u001b[0;31m             \u001b[0;32mraise\u001b[0m \u001b[0mError\u001b[0m\u001b[0;34m(\u001b[0m\u001b[0;34m\"Destination path '%s' already exists\"\u001b[0m \u001b[0;34m%\u001b[0m \u001b[0mreal_dst\u001b[0m\u001b[0;34m)\u001b[0m\u001b[0;34m\u001b[0m\u001b[0;34m\u001b[0m\u001b[0m\n\u001b[0m\u001b[1;32m    815\u001b[0m     \u001b[0;32mtry\u001b[0m\u001b[0;34m:\u001b[0m\u001b[0;34m\u001b[0m\u001b[0;34m\u001b[0m\u001b[0m\n\u001b[1;32m    816\u001b[0m         \u001b[0mos\u001b[0m\u001b[0;34m.\u001b[0m\u001b[0mrename\u001b[0m\u001b[0;34m(\u001b[0m\u001b[0msrc\u001b[0m\u001b[0;34m,\u001b[0m \u001b[0mreal_dst\u001b[0m\u001b[0;34m)\u001b[0m\u001b[0;34m\u001b[0m\u001b[0;34m\u001b[0m\u001b[0m\n",
            "\u001b[0;31mError\u001b[0m: Destination path '/tmp/curated_data/data/test/normal/16_Morozov_study_0051_23.png' already exists"
          ]
        }
      ],
      "source": [
        "import os\n",
        "\n",
        "##### START OF YOUR CODE #####\n",
        "# Create train and test directories and move the files accordingly\n",
        "[os.makedirs(\"/tmp/curated_data/data/\"+x+y, exist_ok=True) for x in [\"train/\", \"val/\", \"test/\"] for y in [\"normal/\", \"covid/\"]]\n",
        "\n",
        "# Normal group\n",
        "for pt in os.listdir(\"/tmp/curated_data/curated_data/1NonCOVID/\"):\n",
        "  # validation\n",
        "  if pt in normal_val_file_list:\n",
        "    shutil.move(\"/tmp/curated_data/curated_data/1NonCOVID/\"+pt, \"/tmp/curated_data/data/val/normal/\")\n",
        "  # test\n",
        "  elif pt in normal_test_file_list:\n",
        "    shutil.move(\"/tmp/curated_data/curated_data/1NonCOVID/\"+pt, \"/tmp/curated_data/data/test/normal/\")\n",
        "  # train\n",
        "  else:\n",
        "    shutil.move(\"/tmp/curated_data/curated_data/1NonCOVID/\"+pt, \"/tmp/curated_data/data/train/normal/\")\n",
        "\n",
        "# Covid group\n",
        "for pt in os.listdir(\"/tmp/curated_data/curated_data/2COVID/\"):\n",
        "  # validation\n",
        "  if pt in covid_val_file_list:\n",
        "    shutil.move(\"/tmp/curated_data/curated_data/2COVID/\"+pt, \"/tmp/curated_data/data/val/covid/\")\n",
        "  # test\n",
        "  elif pt in covid_test_file_list:\n",
        "    shutil.move(\"/tmp/curated_data/curated_data/2COVID/\"+pt, \"/tmp/curated_data/data/test/covid/\")\n",
        "  # train\n",
        "  else:\n",
        "    shutil.move(\"/tmp/curated_data/curated_data/2COVID/\"+pt, \"/tmp/curated_data/data/train/covid/\")\n",
        "\n",
        "##### END OF YOUR CODE #####\n",
        "\n",
        "data_counts = {x+y: len(os.listdir(\"/tmp/curated_data/data/\"+x+y)) for x in [\"train/\", \"val/\", \"test/\"] for y in [\"normal/\", \"covid/\"]}\n",
        "for i in [\"train\", \"val\", \"test\"]:\n",
        "  print(\"\\nPercentage of {} set: {:.2f}\" .format(i, (data_counts[i+\"/normal/\"]+data_counts[i+\"/covid/\"])/sum(data_counts.values())))\n",
        "  print(\"Percentage of Covid + slices in {} set is: {:.2f}\" .format(i, data_counts[i+\"/covid/\"]/(data_counts[i+\"/normal/\"]+data_counts[i+\"/covid/\"])))"
      ]
    },
    {
      "cell_type": "markdown",
      "metadata": {
        "id": "j1LyhJcvl70h"
      },
      "source": [
        "### 3. Dataloader"
      ]
    },
    {
      "cell_type": "code",
      "execution_count": null,
      "metadata": {
        "id": "jtsYoaUfAN3i"
      },
      "outputs": [],
      "source": [
        "!pip install -q torchio"
      ]
    },
    {
      "cell_type": "code",
      "execution_count": null,
      "metadata": {
        "id": "HT7wX3DxgxP-"
      },
      "outputs": [],
      "source": [
        "import os\n",
        "import numpy as np\n",
        "import torch\n",
        "from PIL import Image\n",
        "import torchio as tio\n",
        "import torchvision.transforms as T\n",
        "\n",
        "\n",
        "class CustomDataset(torch.utils.data.Dataset):\n",
        "  def __init__(self, image_size, data_folder, partition):\n",
        "    ##### START OF YOUR CODE #####\n",
        "    self.image_size = image_size\n",
        "    self.partition = partition\n",
        "    self.data_folder = data_folder\n",
        "    self.paths = self.img_paths()\n",
        "\n",
        "    ##### END OF YOUR CODE #####\n",
        "  def __len__(self):\n",
        "    ##### START OF YOUR CODE #####\n",
        "    return len(self.paths)\n",
        "    ##### END OF YOUR CODE #####\n",
        "\n",
        "  def __getitem__(self, idx):\n",
        "    ##### START OF YOUR CODE #####\n",
        "      img = self.read_and_resize_img(self.paths[idx])\n",
        "      label = int(self.paths[idx].rsplit(\"/\", 2)[1] == \"covid\")\n",
        "      label = np.array(label)[np.newaxis]\n",
        "\n",
        "      if self.partition == \"train\":\n",
        "        img = self.augmentation(img)\n",
        "      return (img, label)\n",
        "    ##### END OF YOUR CODE #####\n",
        "\n",
        "  def img_paths(self):\n",
        "    ##### START OF YOUR CODE #####\n",
        "    normal_paths = [os.path.join(self.data_folder, self.partition, \"normal\", i) for i in os.listdir(os.path.join(self.data_folder, self.partition, \"normal\"))]\n",
        "    covid_paths = [os.path.join(self.data_folder, self.partition, \"covid\", i) for i in os.listdir(os.path.join(self.data_folder, self.partition, \"covid\"))]\n",
        "    paths = normal_paths + covid_paths\n",
        "    np.random.shuffle(paths)\n",
        "    return paths\n",
        "    ##### END OF YOUR CODE #####\n",
        "\n",
        "  def read_and_resize_img(self, path):\n",
        "    ##### START OF YOUR CODE #####\n",
        "    img_gray = Image.open(path).convert('L')\n",
        "    img_rgb = Image.merge('RGB', (img_gray, img_gray, img_gray))\n",
        "    img = np.array(img_rgb)/255.\n",
        "\n",
        "    if (self.image_size, self.image_size,3) != img.shape:\n",
        "      resizing = T.Resize((self.image_size, self.image_size), antialias=False)\n",
        "      resized_img = resizing(torch.Tensor(img).permute(2,0,1))\n",
        "      return resized_img\n",
        "    return torch.Tensor(img).permute(2,0,1)\n",
        "    ##### END OF YOUR CODE #####\n",
        "\n",
        "  def augmentation(self, data):\n",
        "    ##### START OF YOUR CODE #####\n",
        "    transform = tio.transforms.OneOf({\n",
        "        tio.transforms.OneOf({\n",
        "            tio.transforms.RandomNoise(): .25,\n",
        "            tio.transforms.RandomBiasField(): .25,\n",
        "            tio.transforms.RandomGhosting(): .25,\n",
        "            tio.transforms.RandomSpike(): .25,\n",
        "            tio.transforms.RandomAffine(degrees=10, scales=0., translation=0.): .25,\n",
        "\n",
        "        }): .8\n",
        "    })\n",
        "    aug_data = torch.squeeze(transform(torch.unsqueeze(data, -1)), -1)\n",
        "    return aug_data\n",
        "    ##### END OF YOUR CODE #####\n"
      ]
    },
    {
      "cell_type": "markdown",
      "metadata": {
        "id": "wEN_w6q3tbZM"
      },
      "source": [
        "### 4. ResNet-18"
      ]
    },
    {
      "cell_type": "code",
      "execution_count": null,
      "metadata": {
        "id": "w4zlwn3H8ZUR"
      },
      "outputs": [],
      "source": [
        "import torch\n",
        "from torch import nn\n",
        "from torch.nn import functional as F\n",
        "\n",
        "class ConvBlock(nn.Module):\n",
        "    def __init__(self, ch_in, ch_out, s, act):\n",
        "      super(ConvBlock,self).__init__()\n",
        "      # Initialize layers\n",
        "      if act == \"relu\":\n",
        "          self.act_layer = nn.ReLU()\n",
        "      elif act == \"leaky_relu\":\n",
        "          self.act_layer = nn.LeakyReLU()\n",
        "      elif act == \"gelu\":\n",
        "          self.act_layer = nn.GELU()\n",
        "\n",
        "      self.conv1 = nn.Conv2d(ch_in, ch_in, kernel_size=3, stride=s, padding=1)\n",
        "      self.bn1 = nn.BatchNorm2d(ch_in)\n",
        "      self.conv2 = nn.Conv2d(ch_in, ch_out, kernel_size=3, stride=1, padding=1)\n",
        "      self.bn2 = nn.BatchNorm2d(ch_out)\n",
        "\n",
        "      self.conv_sc = nn.Conv2d(ch_in, ch_out, kernel_size=1, stride=s)\n",
        "      self.bn_sc = nn.BatchNorm2d(ch_out)\n",
        "\n",
        "    def forward(self, X):\n",
        "      X_shortcut = X\n",
        "      X = self.bn1(self.conv1(X))\n",
        "      X = self.act_layer(X)\n",
        "      X = self.bn2(self.conv2(X))\n",
        "\n",
        "      X_shortcut = self.bn_sc(self.conv_sc(X_shortcut))\n",
        "      X = self.act_layer(X + X_shortcut)\n",
        "      return X\n",
        "\n",
        "\n",
        "class ResNet18(nn.Module):\n",
        "    def __init__(self, act, drop_rate, image_size):\n",
        "      super(ResNet18, self).__init__()\n",
        "      if act == \"relu\":\n",
        "          self.act_layer = nn.ReLU()\n",
        "      elif act == \"leaky_relu\":\n",
        "          self.act_layer = nn.LeakyReLU()\n",
        "      elif act == \"gelu\":\n",
        "          self.act_layer = nn.GELU()\n",
        "\n",
        "      self.image_size = image_size\n",
        "\n",
        "      self.conv1 = nn.Conv2d(1, 64, kernel_size=7, stride=2, padding=3) # 64 x N/2 x N/2\n",
        "      self.bn1 = nn.BatchNorm2d(64)\n",
        "\n",
        "      self.mp = nn.MaxPool2d((3, 3), stride=2, padding=1) # 64 x N/4 x N/4\n",
        "      self.conv2a = ConvBlock(64, 64, 1, act)\n",
        "      self.conv2b = ConvBlock(64, 64, 1, act) # 64 x N/4 x N/4\n",
        "\n",
        "      self.conv3a = ConvBlock(64, 128, 2, act)\n",
        "      self.conv3b = ConvBlock(128, 128, 1, act) # 128 x N/8 x N/8\n",
        "\n",
        "      self.conv4a = ConvBlock(128, 256, 2, act)\n",
        "      self.conv4b = ConvBlock(256, 256, 1, act) # 256 x N/16 x N/16\n",
        "\n",
        "      self.conv5a = ConvBlock(256, 512, 2, act)\n",
        "      self.conv5b = ConvBlock(512, 512, 1, act) # 512 x N/32 x N/32\n",
        "\n",
        "      kernel_size = self.image_size /(2**5)\n",
        "      self.avgpool = nn.AvgPool2d((int(kernel_size), int(kernel_size)))\n",
        "      self.flat = nn.Flatten()\n",
        "      self.dropout = nn.Dropout(drop_rate)\n",
        "      self.fc = nn.Linear(512, 1)\n",
        "\n",
        "    def forward(self, X):\n",
        "      batch_size = X.size(0)\n",
        "      image_size = X.size(2)\n",
        "\n",
        "      X = self.conv1(X)\n",
        "      X = self.bn1(X)\n",
        "      X = self.act_layer(X)\n",
        "\n",
        "      X = self.mp(X)\n",
        "      X = self.conv2a(X)\n",
        "      X = self.conv2b(X)\n",
        "\n",
        "      X = self.conv3a(X)\n",
        "      X = self.conv3b(X)\n",
        "\n",
        "      X = self.conv4a(X)\n",
        "      X = self.conv4b(X)\n",
        "\n",
        "      X = self.conv5a(X)\n",
        "      X = self.conv5b(X)\n",
        "\n",
        "      X = self.avgpool(X)\n",
        "      X = self.flat(X)\n",
        "      X = self.fc(self.dropout(X))\n",
        "      X = torch.sigmoid(X)\n",
        "      return X"
      ]
    },
    {
      "cell_type": "markdown",
      "metadata": {
        "id": "BmljrzaQfZ2s"
      },
      "source": [
        "# Assignment 3\n",
        "<p>In this assignment you will\n",
        "\n",
        "* write helper functions\n",
        "* train the model\n",
        "* hyperparameter search using W&B\n",
        "\n",
        "Read the comments carefully and insert your code where you see: <br><br><b>##### START OF YOUR CODE #####</b><br><br><b>##### END OF YOUR CODE #####</b><br><br>or for the inline codes you will see<br><br><b>##### INSERT YOUR CODE HERE #####</b>"
      ]
    },
    {
      "cell_type": "markdown",
      "metadata": {
        "id": "iUnVIVdtY3x0"
      },
      "source": [
        "#### I. AverageMeter\n",
        "First we will write a helper function. AverageMeter is to calculate the mean of the running loss and accuracy.\n",
        "\n",
        "*   It will have 2 functions which are reset and update.\n",
        "*   reset will be called on initialization and set the attributes to 0.\n",
        "*   update takes 2 arguments for the value and the size. It will add the value to the sum and the size to the count. Attribute \"avg\" (use this name) will also be updated as sum/count."
      ]
    },
    {
      "cell_type": "code",
      "execution_count": null,
      "metadata": {
        "id": "A38OLNLbYwfa"
      },
      "outputs": [],
      "source": [
        "class AverageMeter:\n",
        "    \"\"\"Computes and stores the average and current value\"\"\"\n",
        "\n",
        "    def __init__(self):\n",
        "      ##### START OF YOUR CODE #####\n",
        "      self.reset()\n",
        "    #Define the reset function.\n",
        "    def reset(self):\n",
        "      self.sum = 0\n",
        "      self.count = 0\n",
        "      self.avg = 0\n",
        "\n",
        "    #Define the update function.\n",
        "    def update(self,value,size):\n",
        "      self.sum += value*size\n",
        "      self.count += size\n",
        "      self.avg = self.sum/self.count\n",
        "      ##### END OF YOUR CODE #####"
      ]
    },
    {
      "cell_type": "code",
      "execution_count": null,
      "metadata": {
        "colab": {
          "base_uri": "https://localhost:8080/"
        },
        "id": "eCFUuYR7agXr",
        "outputId": "e578780e-3cf3-4a35-e490-9bff7d0668a8"
      },
      "outputs": [
        {
          "name": "stdout",
          "output_type": "stream",
          "text": [
            "75.0 10\n"
          ]
        }
      ],
      "source": [
        "avg_meter = AverageMeter()\n",
        "avg_meter.update(100, 5)\n",
        "avg_meter.update(50, 5)\n",
        "print(avg_meter.avg, avg_meter.count)"
      ]
    },
    {
      "cell_type": "markdown",
      "metadata": {
        "id": "pk3vHad6dhhf"
      },
      "source": [
        "#### II. Train Loop\n",
        "Now we will write the training and validation loops. Detailed instructions are given within the code."
      ]
    },
    {
      "cell_type": "code",
      "execution_count": null,
      "metadata": {
        "id": "NqmEhWg6befh"
      },
      "outputs": [],
      "source": [
        "device = torch.device(\"cuda\" if torch.cuda.is_available() else \"cpu\")\n",
        "\n",
        "def training(train_loader, model, criterion, optimizer):\n",
        "  # Let's start by initializing our AverageMeters.\n",
        "  avg_meters = {'loss': AverageMeter(),\n",
        "                'acc': AverageMeter()}\n",
        "\n",
        "  # We will go through the train_loader.\n",
        "  # Zero the gradients.\n",
        "  # Make prediction.\n",
        "  # Calculate the loss and the accuracy using prediction and labels.\n",
        "  # Update the average meters.\n",
        "  # Compute gradients and adjust learning weights.\n",
        "\n",
        "  ##### START OF YOUR CODE #####\n",
        "  #Set the train mode.\n",
        "  model.train()\n",
        "  model.to(device)\n",
        "  #Seperate the inputs and labels.\n",
        "  for inputs, labels in train_loader:\n",
        "    inputs, labels = inputs.to(device), labels.to(device)\n",
        "    labels=labels.float()\n",
        "    # Zero the gradients\n",
        "    optimizer.zero_grad()\n",
        "    #Make the forward pass.\n",
        "    outputs = model(inputs)\n",
        "    #Calculate the loss and accuracy\n",
        "    loss = criterion(outputs,labels)\n",
        "    predicted, _ = torch.max(outputs, 1)\n",
        "    predicted = (predicted > 0.5).float()\n",
        "    correct = (predicted.view(-1) == labels.view(-1)).sum().item()\n",
        "    acc = correct / labels.size()[0]  #Update the average meters.\n",
        "    #Update the average meters.\n",
        "    avg_meters['loss'].update(loss.item(), labels.size(0))\n",
        "    avg_meters['acc'].update(acc, labels.size(0))\n",
        "    #Make the backward pass.\n",
        "    loss.backward()\n",
        "    #Compute gradients and adjust learning weights.\n",
        "    optimizer.step()\n",
        "    ##### END OF YOUR CODE #####\n",
        "\n",
        "  return dict([('loss', avg_meters['loss'].avg),\n",
        "                ('acc', avg_meters['acc'].avg)])\n",
        "\n",
        "def validation(val_loader, model, criterion):\n",
        "  avg_meters = {'loss': AverageMeter(),\n",
        "                'acc': AverageMeter()}\n",
        "\n",
        "  # Validation is almost the same but don't forget to turn the eval mode of the model and with torch no_grad.\n",
        "  # You don't need to compute gradients or adjust learning weights for evaluation.\n",
        "\n",
        "  ##### START OF YOUR CODE #####\n",
        "  #Set the validation mode.\n",
        "  model.eval()\n",
        "  model.to(device)\n",
        "  #Seperate the inputs and labels.\n",
        "  with torch.no_grad():\n",
        "    for inputs, labels in val_loader:\n",
        "      inputs, labels = inputs.to(device), labels.to(device)\n",
        "      labels=labels.float()\n",
        "      #Make the forward pass.\n",
        "      outputs = model(inputs)\n",
        "      #Calculate the loss and accuracy\n",
        "      loss = criterion(outputs,labels)\n",
        "      predicted, _ = torch.max(outputs.data, 1)\n",
        "      predicted = (predicted > 0.5).float()\n",
        "      correct = (predicted.view(-1) == labels.view(-1)).sum().item()\n",
        "      acc = correct / labels.size()[0]  #Update the average meters.\n",
        "      avg_meters['loss'].update(loss.item(), labels.size(0))\n",
        "      avg_meters['acc'].update(acc, labels.size(0))\n",
        "      ##### END OF YOUR CODE #####\n",
        "\n",
        "  return dict([('loss', avg_meters['loss'].avg),\n",
        "              ('acc', avg_meters['acc'].avg)])"
      ]
    },
    {
      "cell_type": "markdown",
      "metadata": {
        "id": "P1ZChNtVfyRw"
      },
      "source": [
        "We will use Weights & Biases for hyperparameter search. This will only be an introduction and we highly recommend you to read the <a href=\"https://docs.wandb.ai/?_gl=1*1xon9b*_ga*NDg5OTYzNTM3LjE2NzUwNjYzNjk.*_ga_JH1SJHJQXJ*MTY3Njc0MDEyNi4xMi4xLjE2NzY3NDAxMjguNTguMC4w\">documentation</a> for more information."
      ]
    },
    {
      "cell_type": "code",
      "execution_count": null,
      "metadata": {
        "colab": {
          "base_uri": "https://localhost:8080/"
        },
        "id": "H4uhE_s3cRvo",
        "outputId": "d2ed9358-2f00-4925-e2e3-e38073cdec4e"
      },
      "outputs": [
        {
          "name": "stdout",
          "output_type": "stream",
          "text": [
            "Requirement already satisfied: wandb in /usr/local/lib/python3.10/dist-packages (0.16.1)\n",
            "Requirement already satisfied: Click!=8.0.0,>=7.1 in /usr/local/lib/python3.10/dist-packages (from wandb) (8.1.7)\n",
            "Requirement already satisfied: GitPython!=3.1.29,>=1.0.0 in /usr/local/lib/python3.10/dist-packages (from wandb) (3.1.40)\n",
            "Requirement already satisfied: requests<3,>=2.0.0 in /usr/local/lib/python3.10/dist-packages (from wandb) (2.31.0)\n",
            "Requirement already satisfied: psutil>=5.0.0 in /usr/local/lib/python3.10/dist-packages (from wandb) (5.9.5)\n",
            "Requirement already satisfied: sentry-sdk>=1.0.0 in /usr/local/lib/python3.10/dist-packages (from wandb) (1.38.0)\n",
            "Requirement already satisfied: docker-pycreds>=0.4.0 in /usr/local/lib/python3.10/dist-packages (from wandb) (0.4.0)\n",
            "Requirement already satisfied: PyYAML in /usr/local/lib/python3.10/dist-packages (from wandb) (6.0.1)\n",
            "Requirement already satisfied: setproctitle in /usr/local/lib/python3.10/dist-packages (from wandb) (1.3.3)\n",
            "Requirement already satisfied: setuptools in /usr/local/lib/python3.10/dist-packages (from wandb) (67.7.2)\n",
            "Requirement already satisfied: appdirs>=1.4.3 in /usr/local/lib/python3.10/dist-packages (from wandb) (1.4.4)\n",
            "Requirement already satisfied: protobuf!=4.21.0,<5,>=3.19.0 in /usr/local/lib/python3.10/dist-packages (from wandb) (3.20.3)\n",
            "Requirement already satisfied: six>=1.4.0 in /usr/local/lib/python3.10/dist-packages (from docker-pycreds>=0.4.0->wandb) (1.16.0)\n",
            "Requirement already satisfied: gitdb<5,>=4.0.1 in /usr/local/lib/python3.10/dist-packages (from GitPython!=3.1.29,>=1.0.0->wandb) (4.0.11)\n",
            "Requirement already satisfied: charset-normalizer<4,>=2 in /usr/local/lib/python3.10/dist-packages (from requests<3,>=2.0.0->wandb) (3.3.2)\n",
            "Requirement already satisfied: idna<4,>=2.5 in /usr/local/lib/python3.10/dist-packages (from requests<3,>=2.0.0->wandb) (3.6)\n",
            "Requirement already satisfied: urllib3<3,>=1.21.1 in /usr/local/lib/python3.10/dist-packages (from requests<3,>=2.0.0->wandb) (2.0.7)\n",
            "Requirement already satisfied: certifi>=2017.4.17 in /usr/local/lib/python3.10/dist-packages (from requests<3,>=2.0.0->wandb) (2023.11.17)\n",
            "Requirement already satisfied: smmap<6,>=3.0.1 in /usr/local/lib/python3.10/dist-packages (from gitdb<5,>=4.0.1->GitPython!=3.1.29,>=1.0.0->wandb) (5.0.1)\n"
          ]
        }
      ],
      "source": [
        "!pip install wandb"
      ]
    },
    {
      "cell_type": "markdown",
      "source": [
        "ResNet50\n"
      ],
      "metadata": {
        "id": "e9XOx-Ffv4rQ"
      }
    },
    {
      "cell_type": "code",
      "execution_count": null,
      "metadata": {
        "id": "5qCUVuQDXQnh"
      },
      "outputs": [],
      "source": [
        "from torchvision import datasets, models, transforms\n",
        "import torch\n",
        "from torch import nn\n",
        "from torch.nn import functional as F\n",
        "from torch import optim\n",
        "import os\n",
        "from torch.optim.lr_scheduler import ReduceLROnPlateau\n",
        "from torch.utils.data import DataLoader\n",
        "from torchvision import models\n",
        "import wandb\n",
        "\n",
        "\n",
        "def MyResNet50():\n",
        "  # Set the initial configuration\n",
        "  initial_config = {\n",
        "      \"data_dir\": \"/tmp/curated_data/data/\",\n",
        "      \"image_size\": 128,\n",
        "      \"train_batch_size\": 64,\n",
        "      \"val_batch_size\": 32,\n",
        "      \"test_batch_size\": 1,\n",
        "      \"activation\": \"relu\",\n",
        "      \"drop_rate\": .2,\n",
        "      \"optimizer\": \"Adam\",\n",
        "      \"learning_rate\": 1e-3,\n",
        "      \"l2_reg\": 1e-4, # Weight decay\n",
        "      \"nb_epoch\": 50,\n",
        "      \"early_stopping\": 15, # trigger value for early stopping\n",
        "      }\n",
        "  # Using this configuration dictionary:\n",
        "  # initialize wandb\n",
        "  # Create a run directory in your drive (\"/content/drive/MyDrive/CMPE_runs/\" + the current run name that you'll get from wandb)\n",
        "  # Create the model\n",
        "  # Create dataloader dictionary with \"train\", \"val\", \"test\" keys\n",
        "  # Define binary cross entropy loss\n",
        "  # Define optimizer with weight decay\n",
        "  # Set lr scheduler to ReduceLROnPlateau:\n",
        "    # It will decrease the lr by .1 if the val_loss did not decrease > .01. The minimum lr value can be 1e-9.\n",
        "  # Print train and val results and log them to wandb at the end of each epoch\n",
        "  # Save best model weights to your run directory when the val accuracy is at least .01 better than the best val accuracy.\n",
        "  # Set early stopping with the trigger in config[\"early_stopping\"], monitoring val accuracy. config[\"early_stopping\"] = -1 means no early stopping.\n",
        "  # Print when a new model is saved or early stopping trigger is reached.\n",
        "  # After the final epoch (or early stopping), load the best model weights and log the test results to wandb\n",
        "\n",
        "  ##### START OF YOUR CODE #####\n",
        "  #Initialize wandb.\n",
        "  wandb.init(config=initial_config, project=\"CMPE_49T_Assignment3_Fatmanur_Yaman\")\n",
        "  config = wandb.config\n",
        "\n",
        "  #Create a run directory.\n",
        "  run_dir = f\"/content/drive/MyDrive/CMPE_runs/{wandb.run.name}\"\n",
        "  os.makedirs(run_dir, exist_ok=True)\n",
        "\n",
        "  #Create the model.\n",
        "  model = models.resnet50(pretrained=True).to(device)\n",
        "  # Freeze the convolutional layers\n",
        "  for param in model.parameters():\n",
        "        param.requires_grad = False\n",
        "\n",
        "  # Replace the final fully connected resnet layer with a 2 fc layer network and sigmoid output\n",
        "  model.fc = torch.nn.Sequential(\n",
        "                         nn.Linear(2048, 1), nn.Sigmoid())\n",
        "\n",
        "  model = model.to('cuda:0')\n",
        "\n",
        "  #Create the data loader.\n",
        "  #First get the train, val, and test datasets by using CustomDataset.\n",
        "  train_dataset = CustomDataset(image_size=config[\"image_size\"], data_folder=config[\"data_dir\"], partition=\"train\")\n",
        "  val_dataset = CustomDataset(image_size=config[\"image_size\"], data_folder=config[\"data_dir\"], partition=\"val\")\n",
        "  test_dataset = CustomDataset(image_size=config[\"image_size\"], data_folder=config[\"data_dir\"], partition=\"test\")\n",
        "  #Then, load the data according to the batch size and dataset given above by using DataLoader.\n",
        "  train_loader = DataLoader(train_dataset, batch_size=config[\"train_batch_size\"], shuffle=True)\n",
        "  val_loader = DataLoader(val_dataset, batch_size=config[\"val_batch_size\"], shuffle=False)\n",
        "  test_loader = DataLoader(test_dataset, batch_size=config[\"test_batch_size\"], shuffle=False)\n",
        "\n",
        "\n",
        "  #Define binary entropy loss.\n",
        "  criterion = torch.nn.BCELoss().to('cuda:0')\n",
        "\n",
        "  #Define optimizer with weight decay. Use the learning rate and weight decay defined above.\n",
        "  params =  filter(lambda p: p.requires_grad, model.parameters())\n",
        "  if config['optimizer'] == 'Adam':\n",
        "      optimizer =  optim.Adam(params, lr=config['learning_rate'], weight_decay=config[\"l2_reg\"])\n",
        "  elif config['optimizer'] == 'sgd':\n",
        "      optimizer =  optim.SGD(params, lr=config['learning_rate'], weight_decay=config[\"l2_reg\"],)\n",
        "  lr_scheduler = ReduceLROnPlateau(optimizer, mode='min', patience=5,\n",
        "                                  factor=0.1, verbose=True, min_lr=1e-9)\n",
        "  trigger = 0\n",
        "  best_val_acc = 0\n",
        "  #Train and validate the model for nb_epoch times defined above.\n",
        "  for epoch in range(config[\"nb_epoch\"]):\n",
        "    print(\"epoch:\", epoch + 1)\n",
        "    # Training\n",
        "    model.train()\n",
        "    train_results = training(train_loader, model, criterion, optimizer)\n",
        "\n",
        "    # Validation\n",
        "    val_results = validation(val_loader, model, criterion)\n",
        "\n",
        "    # Print the results at the end of each iteration.\n",
        "    wandb.log({\"train_loss\": train_results[\"loss\"], \"train_acc\": train_results[\"acc\"],\n",
        "                \"val_loss\": val_results[\"loss\"], \"val_acc\": val_results[\"acc\"]})\n",
        "    # Adjust learning rate\n",
        "    lr_scheduler.step(val_results[\"loss\"])\n",
        "\n",
        "    num_epochs = str(config[\"nb_epoch\"])\n",
        "    print(f\"Epoch {epoch + 1}/{num_epochs} - \"\n",
        "          f\"Train Loss: {train_results['loss']:.4f}, Train Acc: {train_results['acc']:.4f} - \"\n",
        "          f\"Val Loss: {val_results['loss']:.4f}, Val Acc: {val_results['acc']:.4f}\")\n",
        "\n",
        "    # Check if the current model is the best so far\n",
        "    if val_results[\"acc\"] > best_val_acc + 0.01:\n",
        "      best_val_acc = val_results[\"acc\"]\n",
        "      # Save the model weights\n",
        "      torch.save(model.state_dict(), os.path.join(run_dir, \"best_model.pth\"))\n",
        "      print(\"New best model saved.\" + f\"Epoch {epoch + 1}\" +f\"With accuracy {best_val_acc}\")\n",
        "\n",
        "    if val_results[\"acc\"] <= best_val_acc:\n",
        "      trigger += 1\n",
        "    else:\n",
        "      trigger = 0\n",
        "\n",
        "    # Check for early stopping trigger\n",
        "    if trigger >= config[\"early_stopping\"]:\n",
        "      print(\"Early stopping triggered.\")\n",
        "      break\n",
        "\n",
        "\n",
        "  # Load the best model weights for testing\n",
        "  model.load_state_dict(torch.load(os.path.join(run_dir, \"best_model.pth\")))\n",
        "\n",
        "  # Testing\n",
        "  model.eval()\n",
        "  test_results = validation(test_loader, model, criterion)\n",
        "\n",
        "  # Log test results to wandb\n",
        "  wandb.log({\"test_loss\": test_results[\"loss\"], \"test_acc\": test_results[\"acc\"]})\n",
        "\n",
        "  # Print final test results\n",
        "  print(\"Final Test Results:\", test_results)\n",
        "\n",
        "  ##### END OF YOUR CODE #####"
      ]
    },
    {
      "cell_type": "code",
      "execution_count": null,
      "metadata": {
        "colab": {
          "base_uri": "https://localhost:8080/"
        },
        "id": "Wwcd18kWfcTT",
        "outputId": "43a490c3-776b-410f-a13f-6216db7ee1a4"
      },
      "outputs": [
        {
          "name": "stdout",
          "output_type": "stream",
          "text": [
            "Create sweep with ID: pgxmr7ea\n",
            "Sweep URL: https://wandb.ai/fatmanuryaman/CMPE_49T_Assignment3_Fatmanur_Yaman/sweeps/pgxmr7ea\n"
          ]
        }
      ],
      "source": [
        "# Define the parameters that we will fine tune with, which are:\n",
        "  # Activation function\n",
        "  # Optimizer\n",
        "  # Drop rate: should be chosen randomly from a uniform distribution between [0., 0.9]\n",
        "  # Weight decay: should be chosen randomly from a uniform distribution between [0., 0.1]\n",
        "  # Learning rate: should be chosen randomly from a uniform distribution between [0.0001, 0.1]\n",
        "import random\n",
        "parameter_dict = {\n",
        "    ##### START OF YOUR CODE #####\n",
        "    \"activation\": {\"values\": [\"relu\", \"leaky_relu\", \"gelu\"]},\n",
        "    \"optimizer\": {\"values\": [\"Adam\", \"sgd\"]},\n",
        "    \"drop_rate\": {\"distribution\": \"uniform\", \"min\": 0.0, \"max\": 0.9},\n",
        "    \"weight_decay\": {\"min\": 0.0,\"max\": 0.1},\n",
        "    \"learning_rate\": {\"distribution\": \"uniform\",\"min\": 0.0001,\"max\": 0.1},\n",
        "    ##### END OF YOUR CODE #####\n",
        "}\n",
        "\n",
        "# Define a sweep configuration tells wandb that it will randomly choose from parameter dict and the purpose is to maximize val_accuracy\n",
        "sweep_config = {\n",
        "    ##### START OF YOUR CODE #####\n",
        "    \"method\": \"random\",  # Use random search\n",
        "    \"name\": \"hyperparameter_tuning\",  # Name of the sweep\n",
        "    \"metric\": {\"goal\": \"maximize\", \"name\": \"val_acc\"},  # Objective to maximize\n",
        "    \"parameters\": parameter_dict,\n",
        "    ##### END OF YOUR CODE #####\n",
        "}\n",
        "sweep_config['parameters'] = parameter_dict\n",
        "\n",
        "# Start the sweep\n",
        "sweep_id = wandb.sweep(sweep=sweep_config, project=\"CMPE_49T_Assignment3_Fatmanur_Yaman\")\n"
      ]
    },
    {
      "cell_type": "code",
      "execution_count": null,
      "metadata": {
        "colab": {
          "background_save": true,
          "base_uri": "https://localhost:8080/",
          "height": 1000,
          "referenced_widgets": [
            "245d9707e6624a97a20c071cbe5399a9",
            "9f5fa7f2282a4337a47aca64af630173",
            "0a53fc464a1849fa862e2708a0bf9c5a",
            "45d07d5704d3462d8cd70c9c1957bc22",
            "1294490d5cb54f8abca3698f63abfde4",
            "77668e1beb56435582558fa8fca68a38",
            "77cb0c657993493589b4cfd57a75ef15",
            "0236b097457b47edba7aa8dd5cae14de",
            "50a9721cc9ae48938a0f47beffd812e8",
            "664a96394b19409bb7b29ebdc0dd00e5",
            "3beda8659c6947cb887ef7d35ead2be6",
            "0a4128538102408d8354d53f8bd6490f",
            "4cb17a4699e44addadad239a1885668b",
            "251051f2192841c39b602e418502fe21",
            "2c5e6e8e7d054b97aa4f897497f02c1a",
            "f2d9ddcd2a0044a1bd0dd6f085c3769f",
            "abff4b8b4cc546f090faed5a7c528453",
            "4d95298e03894e4f93331ae944d16441",
            "d20507cb63f14266afc90beff0ca07ee",
            "b13bcc4516be4694b014a19c23c31b7e",
            "0eb3a6dc14bb455fa2f4d37c6fabcc35",
            "6250001f5f2340a6bde8e8ddb0e5eb37",
            "6b3228a1412a4a6bafa21fce6f7ddd89",
            "e148da0bb6f34be1927dd4444a64772e"
          ]
        },
        "id": "eQSU2rOIZgHX",
        "outputId": "c94fa71d-c715-4d59-d30b-c7ed604e323e"
      },
      "outputs": [
        {
          "name": "stderr",
          "output_type": "stream",
          "text": [
            "\u001b[34m\u001b[1mwandb\u001b[0m: Agent Starting Run: lht0j2g6 with config:\n",
            "\u001b[34m\u001b[1mwandb\u001b[0m: \tactivation: leaky_relu\n",
            "\u001b[34m\u001b[1mwandb\u001b[0m: \tdrop_rate: 0.5748186532130175\n",
            "\u001b[34m\u001b[1mwandb\u001b[0m: \tlearning_rate: 0.0713887730589429\n",
            "\u001b[34m\u001b[1mwandb\u001b[0m: \toptimizer: sgd\n",
            "\u001b[34m\u001b[1mwandb\u001b[0m: \tweight_decay: 0.08892343984287228\n",
            "\u001b[34m\u001b[1mwandb\u001b[0m: \u001b[33mWARNING\u001b[0m Ignored wandb.init() arg project when running a sweep.\n"
          ]
        },
        {
          "data": {
            "text/html": [
              "Tracking run with wandb version 0.16.1"
            ],
            "text/plain": [
              "<IPython.core.display.HTML object>"
            ]
          },
          "metadata": {},
          "output_type": "display_data"
        },
        {
          "data": {
            "text/html": [
              "Run data is saved locally in <code>/content/wandb/run-20231209_201827-lht0j2g6</code>"
            ],
            "text/plain": [
              "<IPython.core.display.HTML object>"
            ]
          },
          "metadata": {},
          "output_type": "display_data"
        },
        {
          "data": {
            "text/html": [
              "Syncing run <strong><a href='https://wandb.ai/fatmanuryaman/CMPE_49T_Assignment3_Fatmanur_Yaman/runs/lht0j2g6' target=\"_blank\">spring-sweep-3</a></strong> to <a href='https://wandb.ai/fatmanuryaman/CMPE_49T_Assignment3_Fatmanur_Yaman' target=\"_blank\">Weights & Biases</a> (<a href='https://wandb.me/run' target=\"_blank\">docs</a>)<br/>Sweep page: <a href='https://wandb.ai/fatmanuryaman/CMPE_49T_Assignment3_Fatmanur_Yaman/sweeps/pgxmr7ea' target=\"_blank\">https://wandb.ai/fatmanuryaman/CMPE_49T_Assignment3_Fatmanur_Yaman/sweeps/pgxmr7ea</a>"
            ],
            "text/plain": [
              "<IPython.core.display.HTML object>"
            ]
          },
          "metadata": {},
          "output_type": "display_data"
        },
        {
          "data": {
            "text/html": [
              " View project at <a href='https://wandb.ai/fatmanuryaman/CMPE_49T_Assignment3_Fatmanur_Yaman' target=\"_blank\">https://wandb.ai/fatmanuryaman/CMPE_49T_Assignment3_Fatmanur_Yaman</a>"
            ],
            "text/plain": [
              "<IPython.core.display.HTML object>"
            ]
          },
          "metadata": {},
          "output_type": "display_data"
        },
        {
          "data": {
            "text/html": [
              " View sweep at <a href='https://wandb.ai/fatmanuryaman/CMPE_49T_Assignment3_Fatmanur_Yaman/sweeps/pgxmr7ea' target=\"_blank\">https://wandb.ai/fatmanuryaman/CMPE_49T_Assignment3_Fatmanur_Yaman/sweeps/pgxmr7ea</a>"
            ],
            "text/plain": [
              "<IPython.core.display.HTML object>"
            ]
          },
          "metadata": {},
          "output_type": "display_data"
        },
        {
          "data": {
            "text/html": [
              " View run at <a href='https://wandb.ai/fatmanuryaman/CMPE_49T_Assignment3_Fatmanur_Yaman/runs/lht0j2g6' target=\"_blank\">https://wandb.ai/fatmanuryaman/CMPE_49T_Assignment3_Fatmanur_Yaman/runs/lht0j2g6</a>"
            ],
            "text/plain": [
              "<IPython.core.display.HTML object>"
            ]
          },
          "metadata": {},
          "output_type": "display_data"
        },
        {
          "name": "stdout",
          "output_type": "stream",
          "text": [
            "epoch: 1\n",
            "Epoch 1/50 - Train Loss: 1.3202, Train Acc: 0.6788 - Val Loss: 1.9969, Val Acc: 0.5095\n",
            "New best model saved.Epoch 1With accuracy 0.5094948047294876\n",
            "epoch: 2\n",
            "Epoch 2/50 - Train Loss: 1.2076, Train Acc: 0.7178 - Val Loss: 1.2008, Val Acc: 0.7764\n",
            "New best model saved.Epoch 2With accuracy 0.7764242207094232\n",
            "epoch: 3\n",
            "Epoch 3/50 - Train Loss: 0.8612, Train Acc: 0.7542 - Val Loss: 0.7125, Val Acc: 0.7836\n",
            "epoch: 4\n",
            "Epoch 4/50 - Train Loss: 0.9208, Train Acc: 0.7505 - Val Loss: 2.1489, Val Acc: 0.5679\n",
            "epoch: 5\n",
            "Epoch 5/50 - Train Loss: 0.8769, Train Acc: 0.7587 - Val Loss: 0.5808, Val Acc: 0.8022\n",
            "New best model saved.Epoch 5With accuracy 0.802221426012182\n",
            "epoch: 6\n",
            "Epoch 6/50 - Train Loss: 0.8214, Train Acc: 0.7642 - Val Loss: 1.0009, Val Acc: 0.7839\n",
            "epoch: 7\n",
            "Epoch 7/50 - Train Loss: 0.9022, Train Acc: 0.7635 - Val Loss: 0.9244, Val Acc: 0.7771\n",
            "epoch: 8\n",
            "Epoch 8/50 - Train Loss: 0.7595, Train Acc: 0.7770 - Val Loss: 0.7855, Val Acc: 0.7607\n",
            "epoch: 9\n",
            "Epoch 9/50 - Train Loss: 0.8985, Train Acc: 0.7617 - Val Loss: 0.6186, Val Acc: 0.7925\n",
            "epoch: 10\n",
            "Epoch 10/50 - Train Loss: 1.0721, Train Acc: 0.7437 - Val Loss: 2.3946, Val Acc: 0.6216\n",
            "epoch: 11\n",
            "Epoch 00011: reducing learning rate of group 0 to 7.1389e-03.\n",
            "Epoch 11/50 - Train Loss: 0.8559, Train Acc: 0.7681 - Val Loss: 0.8273, Val Acc: 0.7890\n",
            "epoch: 12\n",
            "Epoch 12/50 - Train Loss: 0.4909, Train Acc: 0.8378 - Val Loss: 0.7038, Val Acc: 0.8001\n",
            "epoch: 13\n",
            "Epoch 13/50 - Train Loss: 0.4606, Train Acc: 0.8325 - Val Loss: 0.6215, Val Acc: 0.8058\n",
            "epoch: 14\n",
            "Epoch 14/50 - Train Loss: 0.4347, Train Acc: 0.8350 - Val Loss: 0.5805, Val Acc: 0.8076\n",
            "epoch: 15\n",
            "Epoch 15/50 - Train Loss: 0.4421, Train Acc: 0.8245 - Val Loss: 0.5671, Val Acc: 0.8037\n",
            "epoch: 16\n",
            "Epoch 16/50 - Train Loss: 0.4156, Train Acc: 0.8350 - Val Loss: 0.6095, Val Acc: 0.8037\n",
            "epoch: 17\n",
            "Epoch 17/50 - Train Loss: 0.4245, Train Acc: 0.8305 - Val Loss: 0.5471, Val Acc: 0.8108\n",
            "epoch: 18\n",
            "Epoch 18/50 - Train Loss: 0.4038, Train Acc: 0.8339 - Val Loss: 0.5334, Val Acc: 0.8094\n",
            "epoch: 19\n",
            "Epoch 19/50 - Train Loss: 0.4143, Train Acc: 0.8255 - Val Loss: 0.5444, Val Acc: 0.8029\n",
            "epoch: 20\n",
            "Epoch 20/50 - Train Loss: 0.3964, Train Acc: 0.8371 - Val Loss: 0.5046, Val Acc: 0.8115\n",
            "epoch: 21\n",
            "Epoch 21/50 - Train Loss: 0.4015, Train Acc: 0.8289 - Val Loss: 0.5251, Val Acc: 0.8123\n",
            "New best model saved.Epoch 21With accuracy 0.8122536725188104\n",
            "epoch: 22\n",
            "Epoch 22/50 - Train Loss: 0.3925, Train Acc: 0.8362 - Val Loss: 0.5243, Val Acc: 0.8119\n",
            "epoch: 23\n",
            "Epoch 23/50 - Train Loss: 0.3868, Train Acc: 0.8362 - Val Loss: 0.5203, Val Acc: 0.8058\n",
            "epoch: 24\n",
            "Epoch 24/50 - Train Loss: 0.3997, Train Acc: 0.8309 - Val Loss: 0.4935, Val Acc: 0.8140\n",
            "epoch: 25\n",
            "Epoch 25/50 - Train Loss: 0.3928, Train Acc: 0.8362 - Val Loss: 0.4960, Val Acc: 0.8223\n",
            "New best model saved.Epoch 25With accuracy 0.8222859190254389\n",
            "epoch: 26\n",
            "Epoch 26/50 - Train Loss: 0.3901, Train Acc: 0.8337 - Val Loss: 0.4905, Val Acc: 0.8158\n",
            "epoch: 27\n",
            "Epoch 27/50 - Train Loss: 0.3878, Train Acc: 0.8341 - Val Loss: 0.4698, Val Acc: 0.8140\n",
            "epoch: 28\n",
            "Epoch 28/50 - Train Loss: 0.3815, Train Acc: 0.8426 - Val Loss: 0.4677, Val Acc: 0.8126\n",
            "epoch: 29\n",
            "Epoch 29/50 - Train Loss: 0.3725, Train Acc: 0.8373 - Val Loss: 0.4842, Val Acc: 0.8162\n",
            "epoch: 30\n",
            "Epoch 30/50 - Train Loss: 0.3811, Train Acc: 0.8403 - Val Loss: 0.4675, Val Acc: 0.8194\n",
            "epoch: 31\n",
            "Epoch 31/50 - Train Loss: 0.3816, Train Acc: 0.8346 - Val Loss: 0.4879, Val Acc: 0.8144\n",
            "epoch: 32\n",
            "Epoch 32/50 - Train Loss: 0.3724, Train Acc: 0.8385 - Val Loss: 0.4547, Val Acc: 0.8237\n",
            "epoch: 33\n",
            "Epoch 33/50 - Train Loss: 0.3813, Train Acc: 0.8387 - Val Loss: 0.4769, Val Acc: 0.8151\n",
            "epoch: 34\n",
            "Epoch 34/50 - Train Loss: 0.3806, Train Acc: 0.8389 - Val Loss: 0.4566, Val Acc: 0.8191\n",
            "epoch: 35\n",
            "Epoch 35/50 - Train Loss: 0.3630, Train Acc: 0.8458 - Val Loss: 0.4465, Val Acc: 0.8105\n",
            "epoch: 36\n",
            "Epoch 36/50 - Train Loss: 0.3676, Train Acc: 0.8481 - Val Loss: 0.4577, Val Acc: 0.8244\n",
            "epoch: 37\n",
            "Epoch 37/50 - Train Loss: 0.3705, Train Acc: 0.8403 - Val Loss: 0.4450, Val Acc: 0.8191\n",
            "epoch: 38\n",
            "Epoch 38/50 - Train Loss: 0.3697, Train Acc: 0.8366 - Val Loss: 0.4646, Val Acc: 0.8166\n",
            "epoch: 39\n",
            "Epoch 39/50 - Train Loss: 0.3631, Train Acc: 0.8430 - Val Loss: 0.4836, Val Acc: 0.8133\n",
            "epoch: 40\n",
            "Epoch 40/50 - Train Loss: 0.3665, Train Acc: 0.8412 - Val Loss: 0.4519, Val Acc: 0.8158\n",
            "epoch: 41\n",
            "Epoch 41/50 - Train Loss: 0.3692, Train Acc: 0.8380 - Val Loss: 0.4768, Val Acc: 0.8051\n",
            "epoch: 42\n",
            "Epoch 42/50 - Train Loss: 0.3650, Train Acc: 0.8449 - Val Loss: 0.4415, Val Acc: 0.8209\n",
            "epoch: 43\n",
            "Epoch 43/50 - Train Loss: 0.3584, Train Acc: 0.8499 - Val Loss: 0.4513, Val Acc: 0.8191\n",
            "epoch: 44\n",
            "Epoch 44/50 - Train Loss: 0.3667, Train Acc: 0.8456 - Val Loss: 0.4870, Val Acc: 0.8044\n",
            "epoch: 45\n",
            "Epoch 45/50 - Train Loss: 0.3607, Train Acc: 0.8440 - Val Loss: 0.4482, Val Acc: 0.8219\n",
            "epoch: 46\n",
            "Epoch 46/50 - Train Loss: 0.3573, Train Acc: 0.8499 - Val Loss: 0.4547, Val Acc: 0.8230\n",
            "epoch: 47\n",
            "Epoch 47/50 - Train Loss: 0.3610, Train Acc: 0.8444 - Val Loss: 0.4772, Val Acc: 0.8051\n",
            "epoch: 48\n",
            "Epoch 48/50 - Train Loss: 0.3621, Train Acc: 0.8442 - Val Loss: 0.4247, Val Acc: 0.8302\n",
            "epoch: 49\n",
            "Epoch 49/50 - Train Loss: 0.3668, Train Acc: 0.8435 - Val Loss: 0.4586, Val Acc: 0.8162\n",
            "epoch: 50\n",
            "Epoch 50/50 - Train Loss: 0.3613, Train Acc: 0.8492 - Val Loss: 0.4337, Val Acc: 0.8237\n",
            "Final Test Results: {'loss': 0.4037670850631144, 'acc': 0.8350642251981416}\n"
          ]
        },
        {
          "data": {
            "application/vnd.jupyter.widget-view+json": {
              "model_id": "245d9707e6624a97a20c071cbe5399a9",
              "version_major": 2,
              "version_minor": 0
            },
            "text/plain": [
              "VBox(children=(Label(value='0.001 MB of 0.016 MB uploaded\\r'), FloatProgress(value=0.07399564731486383, max=1.…"
            ]
          },
          "metadata": {},
          "output_type": "display_data"
        },
        {
          "data": {
            "text/html": [
              "<style>\n",
              "    table.wandb td:nth-child(1) { padding: 0 10px; text-align: left ; width: auto;} td:nth-child(2) {text-align: left ; width: 100%}\n",
              "    .wandb-row { display: flex; flex-direction: row; flex-wrap: wrap; justify-content: flex-start; width: 100% }\n",
              "    .wandb-col { display: flex; flex-direction: column; flex-basis: 100%; flex: 1; padding: 10px; }\n",
              "    </style>\n",
              "<div class=\"wandb-row\"><div class=\"wandb-col\"><h3>Run history:</h3><br/><table class=\"wandb\"><tr><td>test_acc</td><td>▁</td></tr><tr><td>test_loss</td><td>▁</td></tr><tr><td>train_acc</td><td>▁▃▄▄▄▄▅▄▅█▇▇▇▇▇▇▇▇▇▇▇▇█▇▇█████▇█████████</td></tr><tr><td>train_loss</td><td>█▇▅▅▄▅▄▅▅▂▂▂▁▁▁▁▁▁▁▁▁▁▁▁▁▁▁▁▁▁▁▁▁▁▁▁▁▁▁▁</td></tr><tr><td>val_acc</td><td>▁▇▇▂▇▇▆▇▇▇▇█▇██▇██▇█████████████▇██▇█▇██</td></tr><tr><td>val_loss</td><td>▇▄▂█▃▃▂▂▃▂▂▂▂▁▁▁▁▁▁▁▁▁▁▁▁▁▁▁▁▁▁▁▁▁▁▁▁▁▁▁</td></tr></table><br/></div><div class=\"wandb-col\"><h3>Run summary:</h3><br/><table class=\"wandb\"><tr><td>test_acc</td><td>0.83506</td></tr><tr><td>test_loss</td><td>0.40377</td></tr><tr><td>train_acc</td><td>0.84921</td></tr><tr><td>train_loss</td><td>0.36126</td></tr><tr><td>val_acc</td><td>0.82372</td></tr><tr><td>val_loss</td><td>0.43371</td></tr></table><br/></div></div>"
            ],
            "text/plain": [
              "<IPython.core.display.HTML object>"
            ]
          },
          "metadata": {},
          "output_type": "display_data"
        },
        {
          "data": {
            "text/html": [
              " View run <strong style=\"color:#cdcd00\">spring-sweep-3</strong> at: <a href='https://wandb.ai/fatmanuryaman/CMPE_49T_Assignment3_Fatmanur_Yaman/runs/lht0j2g6' target=\"_blank\">https://wandb.ai/fatmanuryaman/CMPE_49T_Assignment3_Fatmanur_Yaman/runs/lht0j2g6</a><br/>Synced 5 W&B file(s), 0 media file(s), 0 artifact file(s) and 0 other file(s)"
            ],
            "text/plain": [
              "<IPython.core.display.HTML object>"
            ]
          },
          "metadata": {},
          "output_type": "display_data"
        },
        {
          "data": {
            "text/html": [
              "Find logs at: <code>./wandb/run-20231209_201827-lht0j2g6/logs</code>"
            ],
            "text/plain": [
              "<IPython.core.display.HTML object>"
            ]
          },
          "metadata": {},
          "output_type": "display_data"
        },
        {
          "name": "stderr",
          "output_type": "stream",
          "text": [
            "\u001b[34m\u001b[1mwandb\u001b[0m: Agent Starting Run: 591ffjsp with config:\n",
            "\u001b[34m\u001b[1mwandb\u001b[0m: \tactivation: gelu\n",
            "\u001b[34m\u001b[1mwandb\u001b[0m: \tdrop_rate: 0.1045184911999308\n",
            "\u001b[34m\u001b[1mwandb\u001b[0m: \tlearning_rate: 0.05289896386744494\n",
            "\u001b[34m\u001b[1mwandb\u001b[0m: \toptimizer: sgd\n",
            "\u001b[34m\u001b[1mwandb\u001b[0m: \tweight_decay: 0.03693314519847607\n",
            "\u001b[34m\u001b[1mwandb\u001b[0m: \u001b[33mWARNING\u001b[0m Ignored wandb.init() arg project when running a sweep.\n"
          ]
        },
        {
          "data": {
            "text/html": [
              "Tracking run with wandb version 0.16.1"
            ],
            "text/plain": [
              "<IPython.core.display.HTML object>"
            ]
          },
          "metadata": {},
          "output_type": "display_data"
        },
        {
          "data": {
            "text/html": [
              "Run data is saved locally in <code>/content/wandb/run-20231209_212205-591ffjsp</code>"
            ],
            "text/plain": [
              "<IPython.core.display.HTML object>"
            ]
          },
          "metadata": {},
          "output_type": "display_data"
        },
        {
          "data": {
            "text/html": [
              "Syncing run <strong><a href='https://wandb.ai/fatmanuryaman/CMPE_49T_Assignment3_Fatmanur_Yaman/runs/591ffjsp' target=\"_blank\">tough-sweep-4</a></strong> to <a href='https://wandb.ai/fatmanuryaman/CMPE_49T_Assignment3_Fatmanur_Yaman' target=\"_blank\">Weights & Biases</a> (<a href='https://wandb.me/run' target=\"_blank\">docs</a>)<br/>Sweep page: <a href='https://wandb.ai/fatmanuryaman/CMPE_49T_Assignment3_Fatmanur_Yaman/sweeps/pgxmr7ea' target=\"_blank\">https://wandb.ai/fatmanuryaman/CMPE_49T_Assignment3_Fatmanur_Yaman/sweeps/pgxmr7ea</a>"
            ],
            "text/plain": [
              "<IPython.core.display.HTML object>"
            ]
          },
          "metadata": {},
          "output_type": "display_data"
        },
        {
          "data": {
            "text/html": [
              " View project at <a href='https://wandb.ai/fatmanuryaman/CMPE_49T_Assignment3_Fatmanur_Yaman' target=\"_blank\">https://wandb.ai/fatmanuryaman/CMPE_49T_Assignment3_Fatmanur_Yaman</a>"
            ],
            "text/plain": [
              "<IPython.core.display.HTML object>"
            ]
          },
          "metadata": {},
          "output_type": "display_data"
        },
        {
          "data": {
            "text/html": [
              " View sweep at <a href='https://wandb.ai/fatmanuryaman/CMPE_49T_Assignment3_Fatmanur_Yaman/sweeps/pgxmr7ea' target=\"_blank\">https://wandb.ai/fatmanuryaman/CMPE_49T_Assignment3_Fatmanur_Yaman/sweeps/pgxmr7ea</a>"
            ],
            "text/plain": [
              "<IPython.core.display.HTML object>"
            ]
          },
          "metadata": {},
          "output_type": "display_data"
        },
        {
          "data": {
            "text/html": [
              " View run at <a href='https://wandb.ai/fatmanuryaman/CMPE_49T_Assignment3_Fatmanur_Yaman/runs/591ffjsp' target=\"_blank\">https://wandb.ai/fatmanuryaman/CMPE_49T_Assignment3_Fatmanur_Yaman/runs/591ffjsp</a>"
            ],
            "text/plain": [
              "<IPython.core.display.HTML object>"
            ]
          },
          "metadata": {},
          "output_type": "display_data"
        },
        {
          "name": "stdout",
          "output_type": "stream",
          "text": [
            "epoch: 1\n",
            "Epoch 1/50 - Train Loss: 1.0444, Train Acc: 0.6820 - Val Loss: 0.6663, Val Acc: 0.7660\n",
            "New best model saved.Epoch 1With accuracy 0.7660336796847008\n",
            "epoch: 2\n",
            "Epoch 2/50 - Train Loss: 0.7641, Train Acc: 0.7450 - Val Loss: 1.0428, Val Acc: 0.7513\n",
            "epoch: 3\n",
            "Epoch 3/50 - Train Loss: 0.7286, Train Acc: 0.7567 - Val Loss: 1.4135, Val Acc: 0.6890\n",
            "epoch: 4\n",
            "Epoch 4/50 - Train Loss: 0.7100, Train Acc: 0.7603 - Val Loss: 0.5572, Val Acc: 0.7961\n",
            "New best model saved.Epoch 4With accuracy 0.7961304192045862\n",
            "epoch: 5\n",
            "Epoch 5/50 - Train Loss: 0.6898, Train Acc: 0.7606 - Val Loss: 0.8074, Val Acc: 0.7746\n",
            "epoch: 6\n",
            "Epoch 6/50 - Train Loss: 0.6489, Train Acc: 0.7718 - Val Loss: 0.5269, Val Acc: 0.7890\n",
            "epoch: 7\n",
            "Epoch 7/50 - Train Loss: 0.6816, Train Acc: 0.7601 - Val Loss: 0.5587, Val Acc: 0.7958\n",
            "epoch: 8\n",
            "Epoch 8/50 - Train Loss: 0.5614, Train Acc: 0.7935 - Val Loss: 1.4485, Val Acc: 0.5392\n",
            "epoch: 9\n",
            "Epoch 9/50 - Train Loss: 0.6977, Train Acc: 0.7642 - Val Loss: 0.7250, Val Acc: 0.7847\n",
            "epoch: 10\n",
            "Epoch 10/50 - Train Loss: 0.6500, Train Acc: 0.7736 - Val Loss: 0.5666, Val Acc: 0.7918\n",
            "epoch: 11\n",
            "Epoch 11/50 - Train Loss: 0.5845, Train Acc: 0.7857 - Val Loss: 0.5041, Val Acc: 0.8097\n",
            "New best model saved.Epoch 11With accuracy 0.8097456108921534\n",
            "epoch: 12\n",
            "Epoch 12/50 - Train Loss: 0.6189, Train Acc: 0.7768 - Val Loss: 0.7855, Val Acc: 0.7761\n",
            "epoch: 13\n",
            "Epoch 13/50 - Train Loss: 0.5720, Train Acc: 0.7905 - Val Loss: 0.5508, Val Acc: 0.8037\n",
            "epoch: 14\n",
            "Epoch 14/50 - Train Loss: 0.6496, Train Acc: 0.7704 - Val Loss: 2.1233, Val Acc: 0.5722\n",
            "epoch: 15\n",
            "Epoch 15/50 - Train Loss: 0.7132, Train Acc: 0.7695 - Val Loss: 0.5858, Val Acc: 0.8051\n",
            "Early stopping triggered.\n",
            "Final Test Results: {'loss': 0.43495811256617367, 'acc': 0.8360207707023777}\n"
          ]
        },
        {
          "data": {
            "application/vnd.jupyter.widget-view+json": {
              "model_id": "50a9721cc9ae48938a0f47beffd812e8",
              "version_major": 2,
              "version_minor": 0
            },
            "text/plain": [
              "VBox(children=(Label(value='0.001 MB of 0.013 MB uploaded\\r'), FloatProgress(value=0.09375, max=1.0)))"
            ]
          },
          "metadata": {},
          "output_type": "display_data"
        },
        {
          "data": {
            "text/html": [
              "<style>\n",
              "    table.wandb td:nth-child(1) { padding: 0 10px; text-align: left ; width: auto;} td:nth-child(2) {text-align: left ; width: 100%}\n",
              "    .wandb-row { display: flex; flex-direction: row; flex-wrap: wrap; justify-content: flex-start; width: 100% }\n",
              "    .wandb-col { display: flex; flex-direction: column; flex-basis: 100%; flex: 1; padding: 10px; }\n",
              "    </style>\n",
              "<div class=\"wandb-row\"><div class=\"wandb-col\"><h3>Run history:</h3><br/><table class=\"wandb\"><tr><td>test_acc</td><td>▁</td></tr><tr><td>test_loss</td><td>▁</td></tr><tr><td>train_acc</td><td>▁▅▆▆▆▇▆█▆▇█▇█▇▆</td></tr><tr><td>train_loss</td><td>█▄▃▃▃▂▃▁▃▂▁▂▁▂▃</td></tr><tr><td>val_acc</td><td>▇▆▅█▇▇█▁▇██▇█▂█</td></tr><tr><td>val_loss</td><td>▂▃▅▁▂▁▁▅▂▁▁▂▁█▁</td></tr></table><br/></div><div class=\"wandb-col\"><h3>Run summary:</h3><br/><table class=\"wandb\"><tr><td>test_acc</td><td>0.83602</td></tr><tr><td>test_loss</td><td>0.43496</td></tr><tr><td>train_acc</td><td>0.76948</td></tr><tr><td>train_loss</td><td>0.71319</td></tr><tr><td>val_acc</td><td>0.80509</td></tr><tr><td>val_loss</td><td>0.5858</td></tr></table><br/></div></div>"
            ],
            "text/plain": [
              "<IPython.core.display.HTML object>"
            ]
          },
          "metadata": {},
          "output_type": "display_data"
        },
        {
          "data": {
            "text/html": [
              " View run <strong style=\"color:#cdcd00\">tough-sweep-4</strong> at: <a href='https://wandb.ai/fatmanuryaman/CMPE_49T_Assignment3_Fatmanur_Yaman/runs/591ffjsp' target=\"_blank\">https://wandb.ai/fatmanuryaman/CMPE_49T_Assignment3_Fatmanur_Yaman/runs/591ffjsp</a><br/>Synced 5 W&B file(s), 0 media file(s), 0 artifact file(s) and 0 other file(s)"
            ],
            "text/plain": [
              "<IPython.core.display.HTML object>"
            ]
          },
          "metadata": {},
          "output_type": "display_data"
        },
        {
          "data": {
            "text/html": [
              "Find logs at: <code>./wandb/run-20231209_212205-591ffjsp/logs</code>"
            ],
            "text/plain": [
              "<IPython.core.display.HTML object>"
            ]
          },
          "metadata": {},
          "output_type": "display_data"
        },
        {
          "name": "stderr",
          "output_type": "stream",
          "text": [
            "\u001b[34m\u001b[1mwandb\u001b[0m: Agent Starting Run: tlspkdsu with config:\n",
            "\u001b[34m\u001b[1mwandb\u001b[0m: \tactivation: leaky_relu\n",
            "\u001b[34m\u001b[1mwandb\u001b[0m: \tdrop_rate: 0.6472828832179149\n",
            "\u001b[34m\u001b[1mwandb\u001b[0m: \tlearning_rate: 0.032216551646454976\n",
            "\u001b[34m\u001b[1mwandb\u001b[0m: \toptimizer: sgd\n",
            "\u001b[34m\u001b[1mwandb\u001b[0m: \tweight_decay: 0.0979279110717417\n",
            "\u001b[34m\u001b[1mwandb\u001b[0m: \u001b[33mWARNING\u001b[0m Ignored wandb.init() arg project when running a sweep.\n"
          ]
        },
        {
          "data": {
            "text/html": [
              "Tracking run with wandb version 0.16.1"
            ],
            "text/plain": [
              "<IPython.core.display.HTML object>"
            ]
          },
          "metadata": {},
          "output_type": "display_data"
        },
        {
          "data": {
            "text/html": [
              "Run data is saved locally in <code>/content/wandb/run-20231209_214246-tlspkdsu</code>"
            ],
            "text/plain": [
              "<IPython.core.display.HTML object>"
            ]
          },
          "metadata": {},
          "output_type": "display_data"
        },
        {
          "data": {
            "text/html": [
              "Syncing run <strong><a href='https://wandb.ai/fatmanuryaman/CMPE_49T_Assignment3_Fatmanur_Yaman/runs/tlspkdsu' target=\"_blank\">resilient-sweep-5</a></strong> to <a href='https://wandb.ai/fatmanuryaman/CMPE_49T_Assignment3_Fatmanur_Yaman' target=\"_blank\">Weights & Biases</a> (<a href='https://wandb.me/run' target=\"_blank\">docs</a>)<br/>Sweep page: <a href='https://wandb.ai/fatmanuryaman/CMPE_49T_Assignment3_Fatmanur_Yaman/sweeps/pgxmr7ea' target=\"_blank\">https://wandb.ai/fatmanuryaman/CMPE_49T_Assignment3_Fatmanur_Yaman/sweeps/pgxmr7ea</a>"
            ],
            "text/plain": [
              "<IPython.core.display.HTML object>"
            ]
          },
          "metadata": {},
          "output_type": "display_data"
        },
        {
          "data": {
            "text/html": [
              " View project at <a href='https://wandb.ai/fatmanuryaman/CMPE_49T_Assignment3_Fatmanur_Yaman' target=\"_blank\">https://wandb.ai/fatmanuryaman/CMPE_49T_Assignment3_Fatmanur_Yaman</a>"
            ],
            "text/plain": [
              "<IPython.core.display.HTML object>"
            ]
          },
          "metadata": {},
          "output_type": "display_data"
        },
        {
          "data": {
            "text/html": [
              " View sweep at <a href='https://wandb.ai/fatmanuryaman/CMPE_49T_Assignment3_Fatmanur_Yaman/sweeps/pgxmr7ea' target=\"_blank\">https://wandb.ai/fatmanuryaman/CMPE_49T_Assignment3_Fatmanur_Yaman/sweeps/pgxmr7ea</a>"
            ],
            "text/plain": [
              "<IPython.core.display.HTML object>"
            ]
          },
          "metadata": {},
          "output_type": "display_data"
        },
        {
          "data": {
            "text/html": [
              " View run at <a href='https://wandb.ai/fatmanuryaman/CMPE_49T_Assignment3_Fatmanur_Yaman/runs/tlspkdsu' target=\"_blank\">https://wandb.ai/fatmanuryaman/CMPE_49T_Assignment3_Fatmanur_Yaman/runs/tlspkdsu</a>"
            ],
            "text/plain": [
              "<IPython.core.display.HTML object>"
            ]
          },
          "metadata": {},
          "output_type": "display_data"
        },
        {
          "name": "stdout",
          "output_type": "stream",
          "text": [
            "epoch: 1\n",
            "Epoch 1/50 - Train Loss: 0.6671, Train Acc: 0.6913 - Val Loss: 1.1136, Val Acc: 0.6084\n",
            "New best model saved.Epoch 1With accuracy 0.6083840917233966\n",
            "epoch: 2\n",
            "Epoch 2/50 - Train Loss: 0.5211, Train Acc: 0.7807 - Val Loss: 1.1807, Val Acc: 0.4998\n",
            "epoch: 3\n",
            "Epoch 3/50 - Train Loss: 0.5127, Train Acc: 0.7736 - Val Loss: 0.6771, Val Acc: 0.6922\n",
            "New best model saved.Epoch 3With accuracy 0.6922250089573629\n",
            "epoch: 4\n",
            "Epoch 4/50 - Train Loss: 0.4603, Train Acc: 0.7964 - Val Loss: 0.4580, Val Acc: 0.7922\n",
            "New best model saved.Epoch 4With accuracy 0.7921891795055536\n",
            "epoch: 5\n",
            "Epoch 5/50 - Train Loss: 0.4627, Train Acc: 0.7978 - Val Loss: 0.6667, Val Acc: 0.7528\n",
            "epoch: 6\n",
            "Epoch 6/50 - Train Loss: 0.4072, Train Acc: 0.8229 - Val Loss: 0.5867, Val Acc: 0.7868\n",
            "epoch: 7\n",
            "Epoch 7/50 - Train Loss: 0.4467, Train Acc: 0.8042 - Val Loss: 1.2276, Val Acc: 0.5041\n",
            "epoch: 8\n",
            "Epoch 8/50 - Train Loss: 0.4815, Train Acc: 0.7939 - Val Loss: 0.9962, Val Acc: 0.6718\n",
            "epoch: 9\n",
            "Epoch 9/50 - Train Loss: 0.4690, Train Acc: 0.7976 - Val Loss: 0.5476, Val Acc: 0.7829\n",
            "epoch: 10\n",
            "Epoch 00010: reducing learning rate of group 0 to 3.2217e-03.\n",
            "Epoch 10/50 - Train Loss: 0.4249, Train Acc: 0.8168 - Val Loss: 0.4670, Val Acc: 0.7976\n",
            "epoch: 11\n",
            "Epoch 11/50 - Train Loss: 0.3877, Train Acc: 0.8323 - Val Loss: 0.4635, Val Acc: 0.8026\n",
            "New best model saved.Epoch 11With accuracy 0.8025797205302759\n",
            "epoch: 12\n",
            "Epoch 12/50 - Train Loss: 0.3840, Train Acc: 0.8337 - Val Loss: 0.4724, Val Acc: 0.7990\n",
            "epoch: 13\n",
            "Epoch 13/50 - Train Loss: 0.3807, Train Acc: 0.8371 - Val Loss: 0.4701, Val Acc: 0.7997\n",
            "epoch: 14\n",
            "Epoch 14/50 - Train Loss: 0.3852, Train Acc: 0.8328 - Val Loss: 0.4545, Val Acc: 0.8040\n",
            "epoch: 15\n",
            "Epoch 15/50 - Train Loss: 0.3757, Train Acc: 0.8339 - Val Loss: 0.4827, Val Acc: 0.7925\n",
            "epoch: 16\n",
            "Epoch 16/50 - Train Loss: 0.3711, Train Acc: 0.8408 - Val Loss: 0.4645, Val Acc: 0.7951\n",
            "epoch: 17\n",
            "Epoch 17/50 - Train Loss: 0.3895, Train Acc: 0.8300 - Val Loss: 0.4562, Val Acc: 0.7997\n",
            "epoch: 18\n",
            "Epoch 18/50 - Train Loss: 0.3712, Train Acc: 0.8396 - Val Loss: 0.4524, Val Acc: 0.8058\n",
            "epoch: 19\n",
            "Epoch 19/50 - Train Loss: 0.3798, Train Acc: 0.8300 - Val Loss: 0.4471, Val Acc: 0.8090\n",
            "epoch: 20\n",
            "Epoch 20/50 - Train Loss: 0.3773, Train Acc: 0.8355 - Val Loss: 0.4663, Val Acc: 0.7961\n",
            "epoch: 21\n",
            "Epoch 21/50 - Train Loss: 0.3751, Train Acc: 0.8385 - Val Loss: 0.4673, Val Acc: 0.7929\n",
            "epoch: 22\n",
            "Epoch 22/50 - Train Loss: 0.3821, Train Acc: 0.8369 - Val Loss: 0.4486, Val Acc: 0.8044\n",
            "epoch: 23\n",
            "Epoch 23/50 - Train Loss: 0.3773, Train Acc: 0.8412 - Val Loss: 0.4573, Val Acc: 0.7961\n",
            "epoch: 24\n",
            "Epoch 24/50 - Train Loss: 0.3743, Train Acc: 0.8369 - Val Loss: 0.4446, Val Acc: 0.8011\n",
            "epoch: 25\n",
            "Epoch 25/50 - Train Loss: 0.3763, Train Acc: 0.8305 - Val Loss: 0.4442, Val Acc: 0.8037\n",
            "epoch: 26\n",
            "Epoch 26/50 - Train Loss: 0.3837, Train Acc: 0.8357 - Val Loss: 0.4394, Val Acc: 0.8087\n",
            "epoch: 27\n",
            "Epoch 27/50 - Train Loss: 0.3662, Train Acc: 0.8408 - Val Loss: 0.4446, Val Acc: 0.8022\n",
            "epoch: 28\n",
            "Epoch 28/50 - Train Loss: 0.3694, Train Acc: 0.8401 - Val Loss: 0.4348, Val Acc: 0.8133\n",
            "New best model saved.Epoch 28With accuracy 0.8133285560730921\n",
            "epoch: 29\n",
            "Epoch 29/50 - Train Loss: 0.3793, Train Acc: 0.8348 - Val Loss: 0.4454, Val Acc: 0.8037\n",
            "epoch: 30\n",
            "Epoch 30/50 - Train Loss: 0.3749, Train Acc: 0.8394 - Val Loss: 0.4397, Val Acc: 0.8051\n",
            "epoch: 31\n",
            "Epoch 31/50 - Train Loss: 0.3790, Train Acc: 0.8382 - Val Loss: 0.4331, Val Acc: 0.8105\n",
            "epoch: 32\n",
            "Epoch 32/50 - Train Loss: 0.3758, Train Acc: 0.8387 - Val Loss: 0.4435, Val Acc: 0.8001\n",
            "epoch: 33\n",
            "Epoch 33/50 - Train Loss: 0.3787, Train Acc: 0.8376 - Val Loss: 0.4388, Val Acc: 0.8054\n",
            "epoch: 34\n",
            "Epoch 34/50 - Train Loss: 0.3716, Train Acc: 0.8437 - Val Loss: 0.4332, Val Acc: 0.8029\n",
            "epoch: 35\n",
            "Epoch 35/50 - Train Loss: 0.3669, Train Acc: 0.8412 - Val Loss: 0.4361, Val Acc: 0.8044\n",
            "epoch: 36\n",
            "Epoch 36/50 - Train Loss: 0.3844, Train Acc: 0.8300 - Val Loss: 0.4247, Val Acc: 0.8108\n",
            "epoch: 37\n",
            "Epoch 37/50 - Train Loss: 0.3812, Train Acc: 0.8330 - Val Loss: 0.4240, Val Acc: 0.8151\n",
            "epoch: 38\n",
            "Epoch 38/50 - Train Loss: 0.3850, Train Acc: 0.8339 - Val Loss: 0.4396, Val Acc: 0.8047\n",
            "epoch: 39\n",
            "Epoch 39/50 - Train Loss: 0.3680, Train Acc: 0.8373 - Val Loss: 0.4333, Val Acc: 0.8087\n",
            "epoch: 40\n",
            "Epoch 40/50 - Train Loss: 0.3747, Train Acc: 0.8350 - Val Loss: 0.4392, Val Acc: 0.8112\n",
            "epoch: 41\n",
            "Epoch 41/50 - Train Loss: 0.3818, Train Acc: 0.8398 - Val Loss: 0.4288, Val Acc: 0.8123\n",
            "epoch: 42\n",
            "Epoch 42/50 - Train Loss: 0.3761, Train Acc: 0.8398 - Val Loss: 0.4301, Val Acc: 0.8072\n",
            "epoch: 43\n",
            "Epoch 00043: reducing learning rate of group 0 to 3.2217e-04.\n",
            "Epoch 43/50 - Train Loss: 0.3719, Train Acc: 0.8364 - Val Loss: 0.4291, Val Acc: 0.8026\n",
            "epoch: 44\n",
            "Epoch 44/50 - Train Loss: 0.3745, Train Acc: 0.8380 - Val Loss: 0.4363, Val Acc: 0.8108\n",
            "epoch: 45\n",
            "Epoch 45/50 - Train Loss: 0.3667, Train Acc: 0.8472 - Val Loss: 0.4456, Val Acc: 0.8037\n",
            "epoch: 46\n",
            "Epoch 46/50 - Train Loss: 0.3684, Train Acc: 0.8442 - Val Loss: 0.4334, Val Acc: 0.8069\n",
            "epoch: 47\n",
            "Epoch 47/50 - Train Loss: 0.3757, Train Acc: 0.8366 - Val Loss: 0.4330, Val Acc: 0.8105\n",
            "epoch: 48\n",
            "Epoch 48/50 - Train Loss: 0.3707, Train Acc: 0.8398 - Val Loss: 0.4240, Val Acc: 0.8087\n",
            "epoch: 49\n",
            "Epoch 00049: reducing learning rate of group 0 to 3.2217e-05.\n",
            "Epoch 49/50 - Train Loss: 0.3760, Train Acc: 0.8376 - Val Loss: 0.4432, Val Acc: 0.8029\n",
            "epoch: 50\n",
            "Epoch 50/50 - Train Loss: 0.3681, Train Acc: 0.8440 - Val Loss: 0.4353, Val Acc: 0.8072\n",
            "Final Test Results: {'loss': 0.35653510632146773, 'acc': 0.8498223558349276}\n"
          ]
        },
        {
          "data": {
            "application/vnd.jupyter.widget-view+json": {
              "model_id": "abff4b8b4cc546f090faed5a7c528453",
              "version_major": 2,
              "version_minor": 0
            },
            "text/plain": [
              "VBox(children=(Label(value='0.001 MB of 0.001 MB uploaded\\r'), FloatProgress(value=1.0, max=1.0)))"
            ]
          },
          "metadata": {},
          "output_type": "display_data"
        },
        {
          "data": {
            "text/html": [
              "<style>\n",
              "    table.wandb td:nth-child(1) { padding: 0 10px; text-align: left ; width: auto;} td:nth-child(2) {text-align: left ; width: 100%}\n",
              "    .wandb-row { display: flex; flex-direction: row; flex-wrap: wrap; justify-content: flex-start; width: 100% }\n",
              "    .wandb-col { display: flex; flex-direction: column; flex-basis: 100%; flex: 1; padding: 10px; }\n",
              "    </style>\n",
              "<div class=\"wandb-row\"><div class=\"wandb-col\"><h3>Run history:</h3><br/><table class=\"wandb\"><tr><td>test_acc</td><td>▁</td></tr><tr><td>test_loss</td><td>▁</td></tr><tr><td>train_acc</td><td>▁▅▅▆▇▆▆▆▇██▇█▇█▇████████████▇▇██████████</td></tr><tr><td>train_loss</td><td>█▅▄▃▂▃▄▃▁▁▁▁▁▂▁▁▁▁▁▁▁▁▁▁▁▁▁▁▁▁▁▁▁▁▁▁▁▁▁▁</td></tr><tr><td>val_acc</td><td>▃▁▅▇▇▁▅▇████████████████████████████████</td></tr><tr><td>val_loss</td><td>▇█▃▁▂█▆▂▁▁▁▁▁▁▁▁▁▁▁▁▁▁▁▁▁▁▁▁▁▁▁▁▁▁▁▁▁▁▁▁</td></tr></table><br/></div><div class=\"wandb-col\"><h3>Run summary:</h3><br/><table class=\"wandb\"><tr><td>test_acc</td><td>0.84982</td></tr><tr><td>test_loss</td><td>0.35654</td></tr><tr><td>train_acc</td><td>0.84396</td></tr><tr><td>train_loss</td><td>0.36808</td></tr><tr><td>val_acc</td><td>0.80724</td></tr><tr><td>val_loss</td><td>0.43526</td></tr></table><br/></div></div>"
            ],
            "text/plain": [
              "<IPython.core.display.HTML object>"
            ]
          },
          "metadata": {},
          "output_type": "display_data"
        },
        {
          "data": {
            "text/html": [
              " View run <strong style=\"color:#cdcd00\">resilient-sweep-5</strong> at: <a href='https://wandb.ai/fatmanuryaman/CMPE_49T_Assignment3_Fatmanur_Yaman/runs/tlspkdsu' target=\"_blank\">https://wandb.ai/fatmanuryaman/CMPE_49T_Assignment3_Fatmanur_Yaman/runs/tlspkdsu</a><br/>Synced 5 W&B file(s), 0 media file(s), 0 artifact file(s) and 0 other file(s)"
            ],
            "text/plain": [
              "<IPython.core.display.HTML object>"
            ]
          },
          "metadata": {},
          "output_type": "display_data"
        },
        {
          "data": {
            "text/html": [
              "Find logs at: <code>./wandb/run-20231209_214246-tlspkdsu/logs</code>"
            ],
            "text/plain": [
              "<IPython.core.display.HTML object>"
            ]
          },
          "metadata": {},
          "output_type": "display_data"
        },
        {
          "name": "stderr",
          "output_type": "stream",
          "text": [
            "\u001b[34m\u001b[1mwandb\u001b[0m: Agent Starting Run: sjtvcx0b with config:\n",
            "\u001b[34m\u001b[1mwandb\u001b[0m: \tactivation: gelu\n",
            "\u001b[34m\u001b[1mwandb\u001b[0m: \tdrop_rate: 0.7733416324664645\n",
            "\u001b[34m\u001b[1mwandb\u001b[0m: \tlearning_rate: 0.02792393872996438\n",
            "\u001b[34m\u001b[1mwandb\u001b[0m: \toptimizer: sgd\n",
            "\u001b[34m\u001b[1mwandb\u001b[0m: \tweight_decay: 0.07121372170615035\n",
            "\u001b[34m\u001b[1mwandb\u001b[0m: \u001b[33mWARNING\u001b[0m Ignored wandb.init() arg project when running a sweep.\n"
          ]
        },
        {
          "data": {
            "text/html": [
              "Tracking run with wandb version 0.16.1"
            ],
            "text/plain": [
              "<IPython.core.display.HTML object>"
            ]
          },
          "metadata": {},
          "output_type": "display_data"
        },
        {
          "data": {
            "text/html": [
              "Run data is saved locally in <code>/content/wandb/run-20231209_224603-sjtvcx0b</code>"
            ],
            "text/plain": [
              "<IPython.core.display.HTML object>"
            ]
          },
          "metadata": {},
          "output_type": "display_data"
        },
        {
          "data": {
            "text/html": [
              "Syncing run <strong><a href='https://wandb.ai/fatmanuryaman/CMPE_49T_Assignment3_Fatmanur_Yaman/runs/sjtvcx0b' target=\"_blank\">genial-sweep-6</a></strong> to <a href='https://wandb.ai/fatmanuryaman/CMPE_49T_Assignment3_Fatmanur_Yaman' target=\"_blank\">Weights & Biases</a> (<a href='https://wandb.me/run' target=\"_blank\">docs</a>)<br/>Sweep page: <a href='https://wandb.ai/fatmanuryaman/CMPE_49T_Assignment3_Fatmanur_Yaman/sweeps/pgxmr7ea' target=\"_blank\">https://wandb.ai/fatmanuryaman/CMPE_49T_Assignment3_Fatmanur_Yaman/sweeps/pgxmr7ea</a>"
            ],
            "text/plain": [
              "<IPython.core.display.HTML object>"
            ]
          },
          "metadata": {},
          "output_type": "display_data"
        },
        {
          "data": {
            "text/html": [
              " View project at <a href='https://wandb.ai/fatmanuryaman/CMPE_49T_Assignment3_Fatmanur_Yaman' target=\"_blank\">https://wandb.ai/fatmanuryaman/CMPE_49T_Assignment3_Fatmanur_Yaman</a>"
            ],
            "text/plain": [
              "<IPython.core.display.HTML object>"
            ]
          },
          "metadata": {},
          "output_type": "display_data"
        },
        {
          "data": {
            "text/html": [
              " View sweep at <a href='https://wandb.ai/fatmanuryaman/CMPE_49T_Assignment3_Fatmanur_Yaman/sweeps/pgxmr7ea' target=\"_blank\">https://wandb.ai/fatmanuryaman/CMPE_49T_Assignment3_Fatmanur_Yaman/sweeps/pgxmr7ea</a>"
            ],
            "text/plain": [
              "<IPython.core.display.HTML object>"
            ]
          },
          "metadata": {},
          "output_type": "display_data"
        },
        {
          "data": {
            "text/html": [
              " View run at <a href='https://wandb.ai/fatmanuryaman/CMPE_49T_Assignment3_Fatmanur_Yaman/runs/sjtvcx0b' target=\"_blank\">https://wandb.ai/fatmanuryaman/CMPE_49T_Assignment3_Fatmanur_Yaman/runs/sjtvcx0b</a>"
            ],
            "text/plain": [
              "<IPython.core.display.HTML object>"
            ]
          },
          "metadata": {},
          "output_type": "display_data"
        },
        {
          "name": "stdout",
          "output_type": "stream",
          "text": [
            "epoch: 1\n",
            "Epoch 1/50 - Train Loss: 0.5626, Train Acc: 0.7185 - Val Loss: 0.6211, Val Acc: 0.7327\n",
            "New best model saved.Epoch 1With accuracy 0.7327122895019706\n",
            "epoch: 2\n",
            "Epoch 2/50 - Train Loss: 0.4772, Train Acc: 0.7923 - Val Loss: 0.5564, Val Acc: 0.7689\n",
            "New best model saved.Epoch 2With accuracy 0.7689000358294518\n",
            "epoch: 3\n",
            "Epoch 3/50 - Train Loss: 0.4760, Train Acc: 0.7811 - Val Loss: 0.5222, Val Acc: 0.7671\n",
            "epoch: 4\n",
            "Epoch 4/50 - Train Loss: 0.4382, Train Acc: 0.8047 - Val Loss: 0.5515, Val Acc: 0.7807\n",
            "New best model saved.Epoch 4With accuracy 0.7807237549265497\n",
            "epoch: 5\n",
            "Epoch 5/50 - Train Loss: 0.4301, Train Acc: 0.8101 - Val Loss: 0.9066, Val Acc: 0.6736\n",
            "epoch: 6\n",
            "Epoch 6/50 - Train Loss: 0.4529, Train Acc: 0.7983 - Val Loss: 0.8477, Val Acc: 0.6908\n",
            "epoch: 7\n",
            "Epoch 7/50 - Train Loss: 0.4397, Train Acc: 0.8035 - Val Loss: 0.4896, Val Acc: 0.7893\n",
            "epoch: 8\n",
            "Epoch 8/50 - Train Loss: 0.4186, Train Acc: 0.8165 - Val Loss: 0.4949, Val Acc: 0.7879\n",
            "epoch: 9\n",
            "Epoch 9/50 - Train Loss: 0.4109, Train Acc: 0.8248 - Val Loss: 0.5571, Val Acc: 0.7478\n",
            "epoch: 10\n",
            "Epoch 10/50 - Train Loss: 0.4277, Train Acc: 0.8147 - Val Loss: 0.6266, Val Acc: 0.7721\n",
            "epoch: 11\n",
            "Epoch 11/50 - Train Loss: 0.4054, Train Acc: 0.8252 - Val Loss: 0.4879, Val Acc: 0.7911\n",
            "New best model saved.Epoch 11With accuracy 0.7911142959512719\n",
            "epoch: 12\n",
            "Epoch 12/50 - Train Loss: 0.4329, Train Acc: 0.8049 - Val Loss: 0.6325, Val Acc: 0.7675\n",
            "epoch: 13\n",
            "Epoch 13/50 - Train Loss: 0.4175, Train Acc: 0.8175 - Val Loss: 0.5914, Val Acc: 0.7793\n",
            "epoch: 14\n",
            "Epoch 14/50 - Train Loss: 0.4209, Train Acc: 0.8186 - Val Loss: 0.4764, Val Acc: 0.7961\n",
            "epoch: 15\n",
            "Epoch 15/50 - Train Loss: 0.4293, Train Acc: 0.8159 - Val Loss: 0.4491, Val Acc: 0.8105\n",
            "New best model saved.Epoch 15With accuracy 0.8104621999283411\n",
            "epoch: 16\n",
            "Epoch 16/50 - Train Loss: 0.4225, Train Acc: 0.8127 - Val Loss: 0.7768, Val Acc: 0.7363\n",
            "epoch: 17\n",
            "Epoch 17/50 - Train Loss: 0.4144, Train Acc: 0.8191 - Val Loss: 0.4601, Val Acc: 0.8080\n",
            "epoch: 18\n",
            "Epoch 18/50 - Train Loss: 0.4304, Train Acc: 0.8129 - Val Loss: 0.5106, Val Acc: 0.7908\n",
            "epoch: 19\n",
            "Epoch 19/50 - Train Loss: 0.3924, Train Acc: 0.8239 - Val Loss: 0.5205, Val Acc: 0.7872\n",
            "epoch: 20\n",
            "Epoch 20/50 - Train Loss: 0.3869, Train Acc: 0.8257 - Val Loss: 0.4503, Val Acc: 0.8044\n",
            "epoch: 21\n",
            "Epoch 00021: reducing learning rate of group 0 to 2.7924e-03.\n",
            "Epoch 21/50 - Train Loss: 0.4052, Train Acc: 0.8195 - Val Loss: 0.4641, Val Acc: 0.8026\n",
            "epoch: 22\n",
            "Epoch 22/50 - Train Loss: 0.3705, Train Acc: 0.8440 - Val Loss: 0.4499, Val Acc: 0.8115\n",
            "epoch: 23\n",
            "Epoch 23/50 - Train Loss: 0.3724, Train Acc: 0.8382 - Val Loss: 0.4240, Val Acc: 0.8205\n",
            "New best model saved.Epoch 23With accuracy 0.8204944464349695\n",
            "epoch: 24\n",
            "Epoch 24/50 - Train Loss: 0.3728, Train Acc: 0.8364 - Val Loss: 0.4372, Val Acc: 0.8123\n",
            "epoch: 25\n",
            "Epoch 25/50 - Train Loss: 0.3691, Train Acc: 0.8385 - Val Loss: 0.4393, Val Acc: 0.8065\n",
            "epoch: 26\n",
            "Epoch 26/50 - Train Loss: 0.3703, Train Acc: 0.8337 - Val Loss: 0.4338, Val Acc: 0.8123\n",
            "epoch: 27\n"
          ]
        }
      ],
      "source": [
        "wandb.agent(sweep_id, function=MyResNet50)"
      ]
    },
    {
      "cell_type": "code",
      "execution_count": 6,
      "metadata": {
        "id": "_cTimUds4A2w",
        "colab": {
          "base_uri": "https://localhost:8080/"
        },
        "outputId": "da184ba4-ed64-4de3-97be-bc571d6953ce"
      },
      "outputs": [
        {
          "output_type": "stream",
          "name": "stdout",
          "text": [
            "Requirement already satisfied: nbconvert in /usr/local/lib/python3.10/dist-packages (6.5.4)\n",
            "Requirement already satisfied: lxml in /usr/local/lib/python3.10/dist-packages (from nbconvert) (4.9.3)\n",
            "Requirement already satisfied: beautifulsoup4 in /usr/local/lib/python3.10/dist-packages (from nbconvert) (4.11.2)\n",
            "Requirement already satisfied: bleach in /usr/local/lib/python3.10/dist-packages (from nbconvert) (6.1.0)\n",
            "Requirement already satisfied: defusedxml in /usr/local/lib/python3.10/dist-packages (from nbconvert) (0.7.1)\n",
            "Requirement already satisfied: entrypoints>=0.2.2 in /usr/local/lib/python3.10/dist-packages (from nbconvert) (0.4)\n",
            "Requirement already satisfied: jinja2>=3.0 in /usr/local/lib/python3.10/dist-packages (from nbconvert) (3.1.2)\n",
            "Requirement already satisfied: jupyter-core>=4.7 in /usr/local/lib/python3.10/dist-packages (from nbconvert) (5.5.0)\n",
            "Requirement already satisfied: jupyterlab-pygments in /usr/local/lib/python3.10/dist-packages (from nbconvert) (0.3.0)\n",
            "Requirement already satisfied: MarkupSafe>=2.0 in /usr/local/lib/python3.10/dist-packages (from nbconvert) (2.1.3)\n",
            "Requirement already satisfied: mistune<2,>=0.8.1 in /usr/local/lib/python3.10/dist-packages (from nbconvert) (0.8.4)\n",
            "Requirement already satisfied: nbclient>=0.5.0 in /usr/local/lib/python3.10/dist-packages (from nbconvert) (0.9.0)\n",
            "Requirement already satisfied: nbformat>=5.1 in /usr/local/lib/python3.10/dist-packages (from nbconvert) (5.9.2)\n",
            "Requirement already satisfied: packaging in /usr/local/lib/python3.10/dist-packages (from nbconvert) (23.2)\n",
            "Requirement already satisfied: pandocfilters>=1.4.1 in /usr/local/lib/python3.10/dist-packages (from nbconvert) (1.5.0)\n",
            "Requirement already satisfied: pygments>=2.4.1 in /usr/local/lib/python3.10/dist-packages (from nbconvert) (2.16.1)\n",
            "Requirement already satisfied: tinycss2 in /usr/local/lib/python3.10/dist-packages (from nbconvert) (1.2.1)\n",
            "Requirement already satisfied: traitlets>=5.0 in /usr/local/lib/python3.10/dist-packages (from nbconvert) (5.7.1)\n",
            "Requirement already satisfied: platformdirs>=2.5 in /usr/local/lib/python3.10/dist-packages (from jupyter-core>=4.7->nbconvert) (4.0.0)\n",
            "Requirement already satisfied: jupyter-client>=6.1.12 in /usr/local/lib/python3.10/dist-packages (from nbclient>=0.5.0->nbconvert) (6.1.12)\n",
            "Requirement already satisfied: fastjsonschema in /usr/local/lib/python3.10/dist-packages (from nbformat>=5.1->nbconvert) (2.19.0)\n",
            "Requirement already satisfied: jsonschema>=2.6 in /usr/local/lib/python3.10/dist-packages (from nbformat>=5.1->nbconvert) (4.19.2)\n",
            "Requirement already satisfied: soupsieve>1.2 in /usr/local/lib/python3.10/dist-packages (from beautifulsoup4->nbconvert) (2.5)\n",
            "Requirement already satisfied: six>=1.9.0 in /usr/local/lib/python3.10/dist-packages (from bleach->nbconvert) (1.16.0)\n",
            "Requirement already satisfied: webencodings in /usr/local/lib/python3.10/dist-packages (from bleach->nbconvert) (0.5.1)\n",
            "Requirement already satisfied: attrs>=22.2.0 in /usr/local/lib/python3.10/dist-packages (from jsonschema>=2.6->nbformat>=5.1->nbconvert) (23.1.0)\n",
            "Requirement already satisfied: jsonschema-specifications>=2023.03.6 in /usr/local/lib/python3.10/dist-packages (from jsonschema>=2.6->nbformat>=5.1->nbconvert) (2023.11.2)\n",
            "Requirement already satisfied: referencing>=0.28.4 in /usr/local/lib/python3.10/dist-packages (from jsonschema>=2.6->nbformat>=5.1->nbconvert) (0.31.1)\n",
            "Requirement already satisfied: rpds-py>=0.7.1 in /usr/local/lib/python3.10/dist-packages (from jsonschema>=2.6->nbformat>=5.1->nbconvert) (0.13.2)\n",
            "Requirement already satisfied: pyzmq>=13 in /usr/local/lib/python3.10/dist-packages (from jupyter-client>=6.1.12->nbclient>=0.5.0->nbconvert) (23.2.1)\n",
            "Requirement already satisfied: python-dateutil>=2.1 in /usr/local/lib/python3.10/dist-packages (from jupyter-client>=6.1.12->nbclient>=0.5.0->nbconvert) (2.8.2)\n",
            "Requirement already satisfied: tornado>=4.1 in /usr/local/lib/python3.10/dist-packages (from jupyter-client>=6.1.12->nbclient>=0.5.0->nbconvert) (6.3.2)\n"
          ]
        }
      ],
      "source": [
        "!pip install nbconvert\n",
        "from nbconvert import HTMLExporter\n",
        "import nbformat\n",
        "\n",
        "notebook_file = \"Fatmanur_Yaman_CMPE_49T_Assignment4.ipynb\"\n",
        "\n",
        "with open(notebook_file) as f:\n",
        "    nb = nbformat.read(f, as_version=4)\n",
        "\n",
        "html_exporter = HTMLExporter()\n",
        "html_exporter.template_name = 'classic'\n",
        "body, resources = html_exporter.from_notebook_node(nb)\n",
        "\n",
        "with open('Fatmanur_Yaman_CMPE_49T_Assignment4.html', 'w', encoding='utf-8') as f:\n",
        "    f.write(body)"
      ]
    }
  ],
  "metadata": {
    "accelerator": "GPU",
    "colab": {
      "collapsed_sections": [
        "wEN_w6q3tbZM"
      ],
      "provenance": []
    },
    "kernelspec": {
      "display_name": "Python 3",
      "name": "python3"
    },
    "language_info": {
      "name": "python"
    },
    "widgets": {
      "application/vnd.jupyter.widget-state+json": {
        "0236b097457b47edba7aa8dd5cae14de": {
          "model_module": "@jupyter-widgets/controls",
          "model_module_version": "1.5.0",
          "model_name": "ProgressStyleModel",
          "state": {
            "_model_module": "@jupyter-widgets/controls",
            "_model_module_version": "1.5.0",
            "_model_name": "ProgressStyleModel",
            "_view_count": null,
            "_view_module": "@jupyter-widgets/base",
            "_view_module_version": "1.2.0",
            "_view_name": "StyleView",
            "bar_color": null,
            "description_width": ""
          }
        },
        "0a4128538102408d8354d53f8bd6490f": {
          "model_module": "@jupyter-widgets/base",
          "model_module_version": "1.2.0",
          "model_name": "LayoutModel",
          "state": {
            "_model_module": "@jupyter-widgets/base",
            "_model_module_version": "1.2.0",
            "_model_name": "LayoutModel",
            "_view_count": null,
            "_view_module": "@jupyter-widgets/base",
            "_view_module_version": "1.2.0",
            "_view_name": "LayoutView",
            "align_content": null,
            "align_items": null,
            "align_self": null,
            "border": null,
            "bottom": null,
            "display": null,
            "flex": null,
            "flex_flow": null,
            "grid_area": null,
            "grid_auto_columns": null,
            "grid_auto_flow": null,
            "grid_auto_rows": null,
            "grid_column": null,
            "grid_gap": null,
            "grid_row": null,
            "grid_template_areas": null,
            "grid_template_columns": null,
            "grid_template_rows": null,
            "height": null,
            "justify_content": null,
            "justify_items": null,
            "left": null,
            "margin": null,
            "max_height": null,
            "max_width": null,
            "min_height": null,
            "min_width": null,
            "object_fit": null,
            "object_position": null,
            "order": null,
            "overflow": null,
            "overflow_x": null,
            "overflow_y": null,
            "padding": null,
            "right": null,
            "top": null,
            "visibility": null,
            "width": null
          }
        },
        "0a53fc464a1849fa862e2708a0bf9c5a": {
          "model_module": "@jupyter-widgets/controls",
          "model_module_version": "1.5.0",
          "model_name": "FloatProgressModel",
          "state": {
            "_dom_classes": [],
            "_model_module": "@jupyter-widgets/controls",
            "_model_module_version": "1.5.0",
            "_model_name": "FloatProgressModel",
            "_view_count": null,
            "_view_module": "@jupyter-widgets/controls",
            "_view_module_version": "1.5.0",
            "_view_name": "ProgressView",
            "bar_style": "",
            "description": "",
            "description_tooltip": null,
            "layout": "IPY_MODEL_77cb0c657993493589b4cfd57a75ef15",
            "max": 1,
            "min": 0,
            "orientation": "horizontal",
            "style": "IPY_MODEL_0236b097457b47edba7aa8dd5cae14de",
            "value": 1
          }
        },
        "0eb3a6dc14bb455fa2f4d37c6fabcc35": {
          "model_module": "@jupyter-widgets/base",
          "model_module_version": "1.2.0",
          "model_name": "LayoutModel",
          "state": {
            "_model_module": "@jupyter-widgets/base",
            "_model_module_version": "1.2.0",
            "_model_name": "LayoutModel",
            "_view_count": null,
            "_view_module": "@jupyter-widgets/base",
            "_view_module_version": "1.2.0",
            "_view_name": "LayoutView",
            "align_content": null,
            "align_items": null,
            "align_self": null,
            "border": null,
            "bottom": null,
            "display": null,
            "flex": null,
            "flex_flow": null,
            "grid_area": null,
            "grid_auto_columns": null,
            "grid_auto_flow": null,
            "grid_auto_rows": null,
            "grid_column": null,
            "grid_gap": null,
            "grid_row": null,
            "grid_template_areas": null,
            "grid_template_columns": null,
            "grid_template_rows": null,
            "height": null,
            "justify_content": null,
            "justify_items": null,
            "left": null,
            "margin": null,
            "max_height": null,
            "max_width": null,
            "min_height": null,
            "min_width": null,
            "object_fit": null,
            "object_position": null,
            "order": null,
            "overflow": null,
            "overflow_x": null,
            "overflow_y": null,
            "padding": null,
            "right": null,
            "top": null,
            "visibility": null,
            "width": null
          }
        },
        "1294490d5cb54f8abca3698f63abfde4": {
          "model_module": "@jupyter-widgets/base",
          "model_module_version": "1.2.0",
          "model_name": "LayoutModel",
          "state": {
            "_model_module": "@jupyter-widgets/base",
            "_model_module_version": "1.2.0",
            "_model_name": "LayoutModel",
            "_view_count": null,
            "_view_module": "@jupyter-widgets/base",
            "_view_module_version": "1.2.0",
            "_view_name": "LayoutView",
            "align_content": null,
            "align_items": null,
            "align_self": null,
            "border": null,
            "bottom": null,
            "display": null,
            "flex": null,
            "flex_flow": null,
            "grid_area": null,
            "grid_auto_columns": null,
            "grid_auto_flow": null,
            "grid_auto_rows": null,
            "grid_column": null,
            "grid_gap": null,
            "grid_row": null,
            "grid_template_areas": null,
            "grid_template_columns": null,
            "grid_template_rows": null,
            "height": null,
            "justify_content": null,
            "justify_items": null,
            "left": null,
            "margin": null,
            "max_height": null,
            "max_width": null,
            "min_height": null,
            "min_width": null,
            "object_fit": null,
            "object_position": null,
            "order": null,
            "overflow": null,
            "overflow_x": null,
            "overflow_y": null,
            "padding": null,
            "right": null,
            "top": null,
            "visibility": null,
            "width": null
          }
        },
        "245d9707e6624a97a20c071cbe5399a9": {
          "model_module": "@jupyter-widgets/controls",
          "model_module_version": "1.5.0",
          "model_name": "VBoxModel",
          "state": {
            "_dom_classes": [],
            "_model_module": "@jupyter-widgets/controls",
            "_model_module_version": "1.5.0",
            "_model_name": "VBoxModel",
            "_view_count": null,
            "_view_module": "@jupyter-widgets/controls",
            "_view_module_version": "1.5.0",
            "_view_name": "VBoxView",
            "box_style": "",
            "children": [
              "IPY_MODEL_9f5fa7f2282a4337a47aca64af630173",
              "IPY_MODEL_0a53fc464a1849fa862e2708a0bf9c5a"
            ],
            "layout": "IPY_MODEL_45d07d5704d3462d8cd70c9c1957bc22"
          }
        },
        "251051f2192841c39b602e418502fe21": {
          "model_module": "@jupyter-widgets/controls",
          "model_module_version": "1.5.0",
          "model_name": "DescriptionStyleModel",
          "state": {
            "_model_module": "@jupyter-widgets/controls",
            "_model_module_version": "1.5.0",
            "_model_name": "DescriptionStyleModel",
            "_view_count": null,
            "_view_module": "@jupyter-widgets/base",
            "_view_module_version": "1.2.0",
            "_view_name": "StyleView",
            "description_width": ""
          }
        },
        "2c5e6e8e7d054b97aa4f897497f02c1a": {
          "model_module": "@jupyter-widgets/base",
          "model_module_version": "1.2.0",
          "model_name": "LayoutModel",
          "state": {
            "_model_module": "@jupyter-widgets/base",
            "_model_module_version": "1.2.0",
            "_model_name": "LayoutModel",
            "_view_count": null,
            "_view_module": "@jupyter-widgets/base",
            "_view_module_version": "1.2.0",
            "_view_name": "LayoutView",
            "align_content": null,
            "align_items": null,
            "align_self": null,
            "border": null,
            "bottom": null,
            "display": null,
            "flex": null,
            "flex_flow": null,
            "grid_area": null,
            "grid_auto_columns": null,
            "grid_auto_flow": null,
            "grid_auto_rows": null,
            "grid_column": null,
            "grid_gap": null,
            "grid_row": null,
            "grid_template_areas": null,
            "grid_template_columns": null,
            "grid_template_rows": null,
            "height": null,
            "justify_content": null,
            "justify_items": null,
            "left": null,
            "margin": null,
            "max_height": null,
            "max_width": null,
            "min_height": null,
            "min_width": null,
            "object_fit": null,
            "object_position": null,
            "order": null,
            "overflow": null,
            "overflow_x": null,
            "overflow_y": null,
            "padding": null,
            "right": null,
            "top": null,
            "visibility": null,
            "width": null
          }
        },
        "3beda8659c6947cb887ef7d35ead2be6": {
          "model_module": "@jupyter-widgets/controls",
          "model_module_version": "1.5.0",
          "model_name": "FloatProgressModel",
          "state": {
            "_dom_classes": [],
            "_model_module": "@jupyter-widgets/controls",
            "_model_module_version": "1.5.0",
            "_model_name": "FloatProgressModel",
            "_view_count": null,
            "_view_module": "@jupyter-widgets/controls",
            "_view_module_version": "1.5.0",
            "_view_name": "ProgressView",
            "bar_style": "",
            "description": "",
            "description_tooltip": null,
            "layout": "IPY_MODEL_2c5e6e8e7d054b97aa4f897497f02c1a",
            "max": 1,
            "min": 0,
            "orientation": "horizontal",
            "style": "IPY_MODEL_f2d9ddcd2a0044a1bd0dd6f085c3769f",
            "value": 1
          }
        },
        "45d07d5704d3462d8cd70c9c1957bc22": {
          "model_module": "@jupyter-widgets/base",
          "model_module_version": "1.2.0",
          "model_name": "LayoutModel",
          "state": {
            "_model_module": "@jupyter-widgets/base",
            "_model_module_version": "1.2.0",
            "_model_name": "LayoutModel",
            "_view_count": null,
            "_view_module": "@jupyter-widgets/base",
            "_view_module_version": "1.2.0",
            "_view_name": "LayoutView",
            "align_content": null,
            "align_items": null,
            "align_self": null,
            "border": null,
            "bottom": null,
            "display": null,
            "flex": null,
            "flex_flow": null,
            "grid_area": null,
            "grid_auto_columns": null,
            "grid_auto_flow": null,
            "grid_auto_rows": null,
            "grid_column": null,
            "grid_gap": null,
            "grid_row": null,
            "grid_template_areas": null,
            "grid_template_columns": null,
            "grid_template_rows": null,
            "height": null,
            "justify_content": null,
            "justify_items": null,
            "left": null,
            "margin": null,
            "max_height": null,
            "max_width": null,
            "min_height": null,
            "min_width": null,
            "object_fit": null,
            "object_position": null,
            "order": null,
            "overflow": null,
            "overflow_x": null,
            "overflow_y": null,
            "padding": null,
            "right": null,
            "top": null,
            "visibility": null,
            "width": null
          }
        },
        "4cb17a4699e44addadad239a1885668b": {
          "model_module": "@jupyter-widgets/base",
          "model_module_version": "1.2.0",
          "model_name": "LayoutModel",
          "state": {
            "_model_module": "@jupyter-widgets/base",
            "_model_module_version": "1.2.0",
            "_model_name": "LayoutModel",
            "_view_count": null,
            "_view_module": "@jupyter-widgets/base",
            "_view_module_version": "1.2.0",
            "_view_name": "LayoutView",
            "align_content": null,
            "align_items": null,
            "align_self": null,
            "border": null,
            "bottom": null,
            "display": null,
            "flex": null,
            "flex_flow": null,
            "grid_area": null,
            "grid_auto_columns": null,
            "grid_auto_flow": null,
            "grid_auto_rows": null,
            "grid_column": null,
            "grid_gap": null,
            "grid_row": null,
            "grid_template_areas": null,
            "grid_template_columns": null,
            "grid_template_rows": null,
            "height": null,
            "justify_content": null,
            "justify_items": null,
            "left": null,
            "margin": null,
            "max_height": null,
            "max_width": null,
            "min_height": null,
            "min_width": null,
            "object_fit": null,
            "object_position": null,
            "order": null,
            "overflow": null,
            "overflow_x": null,
            "overflow_y": null,
            "padding": null,
            "right": null,
            "top": null,
            "visibility": null,
            "width": null
          }
        },
        "4d95298e03894e4f93331ae944d16441": {
          "model_module": "@jupyter-widgets/controls",
          "model_module_version": "1.5.0",
          "model_name": "LabelModel",
          "state": {
            "_dom_classes": [],
            "_model_module": "@jupyter-widgets/controls",
            "_model_module_version": "1.5.0",
            "_model_name": "LabelModel",
            "_view_count": null,
            "_view_module": "@jupyter-widgets/controls",
            "_view_module_version": "1.5.0",
            "_view_name": "LabelView",
            "description": "",
            "description_tooltip": null,
            "layout": "IPY_MODEL_0eb3a6dc14bb455fa2f4d37c6fabcc35",
            "placeholder": "​",
            "style": "IPY_MODEL_6250001f5f2340a6bde8e8ddb0e5eb37",
            "value": "0.016 MB of 0.016 MB uploaded\r"
          }
        },
        "50a9721cc9ae48938a0f47beffd812e8": {
          "model_module": "@jupyter-widgets/controls",
          "model_module_version": "1.5.0",
          "model_name": "VBoxModel",
          "state": {
            "_dom_classes": [],
            "_model_module": "@jupyter-widgets/controls",
            "_model_module_version": "1.5.0",
            "_model_name": "VBoxModel",
            "_view_count": null,
            "_view_module": "@jupyter-widgets/controls",
            "_view_module_version": "1.5.0",
            "_view_name": "VBoxView",
            "box_style": "",
            "children": [
              "IPY_MODEL_664a96394b19409bb7b29ebdc0dd00e5",
              "IPY_MODEL_3beda8659c6947cb887ef7d35ead2be6"
            ],
            "layout": "IPY_MODEL_0a4128538102408d8354d53f8bd6490f"
          }
        },
        "6250001f5f2340a6bde8e8ddb0e5eb37": {
          "model_module": "@jupyter-widgets/controls",
          "model_module_version": "1.5.0",
          "model_name": "DescriptionStyleModel",
          "state": {
            "_model_module": "@jupyter-widgets/controls",
            "_model_module_version": "1.5.0",
            "_model_name": "DescriptionStyleModel",
            "_view_count": null,
            "_view_module": "@jupyter-widgets/base",
            "_view_module_version": "1.2.0",
            "_view_name": "StyleView",
            "description_width": ""
          }
        },
        "664a96394b19409bb7b29ebdc0dd00e5": {
          "model_module": "@jupyter-widgets/controls",
          "model_module_version": "1.5.0",
          "model_name": "LabelModel",
          "state": {
            "_dom_classes": [],
            "_model_module": "@jupyter-widgets/controls",
            "_model_module_version": "1.5.0",
            "_model_name": "LabelModel",
            "_view_count": null,
            "_view_module": "@jupyter-widgets/controls",
            "_view_module_version": "1.5.0",
            "_view_name": "LabelView",
            "description": "",
            "description_tooltip": null,
            "layout": "IPY_MODEL_4cb17a4699e44addadad239a1885668b",
            "placeholder": "​",
            "style": "IPY_MODEL_251051f2192841c39b602e418502fe21",
            "value": "0.013 MB of 0.013 MB uploaded\r"
          }
        },
        "6b3228a1412a4a6bafa21fce6f7ddd89": {
          "model_module": "@jupyter-widgets/base",
          "model_module_version": "1.2.0",
          "model_name": "LayoutModel",
          "state": {
            "_model_module": "@jupyter-widgets/base",
            "_model_module_version": "1.2.0",
            "_model_name": "LayoutModel",
            "_view_count": null,
            "_view_module": "@jupyter-widgets/base",
            "_view_module_version": "1.2.0",
            "_view_name": "LayoutView",
            "align_content": null,
            "align_items": null,
            "align_self": null,
            "border": null,
            "bottom": null,
            "display": null,
            "flex": null,
            "flex_flow": null,
            "grid_area": null,
            "grid_auto_columns": null,
            "grid_auto_flow": null,
            "grid_auto_rows": null,
            "grid_column": null,
            "grid_gap": null,
            "grid_row": null,
            "grid_template_areas": null,
            "grid_template_columns": null,
            "grid_template_rows": null,
            "height": null,
            "justify_content": null,
            "justify_items": null,
            "left": null,
            "margin": null,
            "max_height": null,
            "max_width": null,
            "min_height": null,
            "min_width": null,
            "object_fit": null,
            "object_position": null,
            "order": null,
            "overflow": null,
            "overflow_x": null,
            "overflow_y": null,
            "padding": null,
            "right": null,
            "top": null,
            "visibility": null,
            "width": null
          }
        },
        "77668e1beb56435582558fa8fca68a38": {
          "model_module": "@jupyter-widgets/controls",
          "model_module_version": "1.5.0",
          "model_name": "DescriptionStyleModel",
          "state": {
            "_model_module": "@jupyter-widgets/controls",
            "_model_module_version": "1.5.0",
            "_model_name": "DescriptionStyleModel",
            "_view_count": null,
            "_view_module": "@jupyter-widgets/base",
            "_view_module_version": "1.2.0",
            "_view_name": "StyleView",
            "description_width": ""
          }
        },
        "77cb0c657993493589b4cfd57a75ef15": {
          "model_module": "@jupyter-widgets/base",
          "model_module_version": "1.2.0",
          "model_name": "LayoutModel",
          "state": {
            "_model_module": "@jupyter-widgets/base",
            "_model_module_version": "1.2.0",
            "_model_name": "LayoutModel",
            "_view_count": null,
            "_view_module": "@jupyter-widgets/base",
            "_view_module_version": "1.2.0",
            "_view_name": "LayoutView",
            "align_content": null,
            "align_items": null,
            "align_self": null,
            "border": null,
            "bottom": null,
            "display": null,
            "flex": null,
            "flex_flow": null,
            "grid_area": null,
            "grid_auto_columns": null,
            "grid_auto_flow": null,
            "grid_auto_rows": null,
            "grid_column": null,
            "grid_gap": null,
            "grid_row": null,
            "grid_template_areas": null,
            "grid_template_columns": null,
            "grid_template_rows": null,
            "height": null,
            "justify_content": null,
            "justify_items": null,
            "left": null,
            "margin": null,
            "max_height": null,
            "max_width": null,
            "min_height": null,
            "min_width": null,
            "object_fit": null,
            "object_position": null,
            "order": null,
            "overflow": null,
            "overflow_x": null,
            "overflow_y": null,
            "padding": null,
            "right": null,
            "top": null,
            "visibility": null,
            "width": null
          }
        },
        "9f5fa7f2282a4337a47aca64af630173": {
          "model_module": "@jupyter-widgets/controls",
          "model_module_version": "1.5.0",
          "model_name": "LabelModel",
          "state": {
            "_dom_classes": [],
            "_model_module": "@jupyter-widgets/controls",
            "_model_module_version": "1.5.0",
            "_model_name": "LabelModel",
            "_view_count": null,
            "_view_module": "@jupyter-widgets/controls",
            "_view_module_version": "1.5.0",
            "_view_name": "LabelView",
            "description": "",
            "description_tooltip": null,
            "layout": "IPY_MODEL_1294490d5cb54f8abca3698f63abfde4",
            "placeholder": "​",
            "style": "IPY_MODEL_77668e1beb56435582558fa8fca68a38",
            "value": "0.016 MB of 0.016 MB uploaded\r"
          }
        },
        "abff4b8b4cc546f090faed5a7c528453": {
          "model_module": "@jupyter-widgets/controls",
          "model_module_version": "1.5.0",
          "model_name": "VBoxModel",
          "state": {
            "_dom_classes": [],
            "_model_module": "@jupyter-widgets/controls",
            "_model_module_version": "1.5.0",
            "_model_name": "VBoxModel",
            "_view_count": null,
            "_view_module": "@jupyter-widgets/controls",
            "_view_module_version": "1.5.0",
            "_view_name": "VBoxView",
            "box_style": "",
            "children": [
              "IPY_MODEL_4d95298e03894e4f93331ae944d16441",
              "IPY_MODEL_d20507cb63f14266afc90beff0ca07ee"
            ],
            "layout": "IPY_MODEL_b13bcc4516be4694b014a19c23c31b7e"
          }
        },
        "b13bcc4516be4694b014a19c23c31b7e": {
          "model_module": "@jupyter-widgets/base",
          "model_module_version": "1.2.0",
          "model_name": "LayoutModel",
          "state": {
            "_model_module": "@jupyter-widgets/base",
            "_model_module_version": "1.2.0",
            "_model_name": "LayoutModel",
            "_view_count": null,
            "_view_module": "@jupyter-widgets/base",
            "_view_module_version": "1.2.0",
            "_view_name": "LayoutView",
            "align_content": null,
            "align_items": null,
            "align_self": null,
            "border": null,
            "bottom": null,
            "display": null,
            "flex": null,
            "flex_flow": null,
            "grid_area": null,
            "grid_auto_columns": null,
            "grid_auto_flow": null,
            "grid_auto_rows": null,
            "grid_column": null,
            "grid_gap": null,
            "grid_row": null,
            "grid_template_areas": null,
            "grid_template_columns": null,
            "grid_template_rows": null,
            "height": null,
            "justify_content": null,
            "justify_items": null,
            "left": null,
            "margin": null,
            "max_height": null,
            "max_width": null,
            "min_height": null,
            "min_width": null,
            "object_fit": null,
            "object_position": null,
            "order": null,
            "overflow": null,
            "overflow_x": null,
            "overflow_y": null,
            "padding": null,
            "right": null,
            "top": null,
            "visibility": null,
            "width": null
          }
        },
        "d20507cb63f14266afc90beff0ca07ee": {
          "model_module": "@jupyter-widgets/controls",
          "model_module_version": "1.5.0",
          "model_name": "FloatProgressModel",
          "state": {
            "_dom_classes": [],
            "_model_module": "@jupyter-widgets/controls",
            "_model_module_version": "1.5.0",
            "_model_name": "FloatProgressModel",
            "_view_count": null,
            "_view_module": "@jupyter-widgets/controls",
            "_view_module_version": "1.5.0",
            "_view_name": "ProgressView",
            "bar_style": "",
            "description": "",
            "description_tooltip": null,
            "layout": "IPY_MODEL_6b3228a1412a4a6bafa21fce6f7ddd89",
            "max": 1,
            "min": 0,
            "orientation": "horizontal",
            "style": "IPY_MODEL_e148da0bb6f34be1927dd4444a64772e",
            "value": 1
          }
        },
        "e148da0bb6f34be1927dd4444a64772e": {
          "model_module": "@jupyter-widgets/controls",
          "model_module_version": "1.5.0",
          "model_name": "ProgressStyleModel",
          "state": {
            "_model_module": "@jupyter-widgets/controls",
            "_model_module_version": "1.5.0",
            "_model_name": "ProgressStyleModel",
            "_view_count": null,
            "_view_module": "@jupyter-widgets/base",
            "_view_module_version": "1.2.0",
            "_view_name": "StyleView",
            "bar_color": null,
            "description_width": ""
          }
        },
        "f2d9ddcd2a0044a1bd0dd6f085c3769f": {
          "model_module": "@jupyter-widgets/controls",
          "model_module_version": "1.5.0",
          "model_name": "ProgressStyleModel",
          "state": {
            "_model_module": "@jupyter-widgets/controls",
            "_model_module_version": "1.5.0",
            "_model_name": "ProgressStyleModel",
            "_view_count": null,
            "_view_module": "@jupyter-widgets/base",
            "_view_module_version": "1.2.0",
            "_view_name": "StyleView",
            "bar_color": null,
            "description_width": ""
          }
        }
      }
    }
  },
  "nbformat": 4,
  "nbformat_minor": 0
}